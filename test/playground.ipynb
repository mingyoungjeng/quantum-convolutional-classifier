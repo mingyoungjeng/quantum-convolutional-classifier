{
    "cells": [
        {
            "cell_type": "code",
            "execution_count": 43,
            "metadata": {},
            "outputs": [],
            "source": [
                "from qiskit import QuantumCircuit, transpile\n",
                "import numpy as np\n",
                "\n",
                "num_qubits = 8\n",
                "qc = QuantumCircuit(num_qubits)\n",
                "num_layers = int(np.ceil(np.log2(num_qubits)))\n"
            ]
        },
        {
            "cell_type": "markdown",
            "metadata": {},
            "source": []
        },
        {
            "cell_type": "code",
            "execution_count": 44,
            "metadata": {},
            "outputs": [
                {
                    "data": {
                        "text/plain": [
                            "False"
                        ]
                    },
                    "execution_count": 44,
                    "metadata": {},
                    "output_type": "execute_result"
                }
            ],
            "source": [
                "from qcc.ml import USE_CUDA\n",
                "\n",
                "USE_CUDA\n"
            ]
        },
        {
            "cell_type": "code",
            "execution_count": 45,
            "metadata": {},
            "outputs": [
                {
                    "name": "stderr",
                    "output_type": "stream",
                    "text": [
                        "/var/folders/sy/jspx4wmd7sd9lqc7clfzx4jw0000gn/T/ipykernel_84648/1672648257.py:16: DeprecationWarning: The method ``qiskit.circuit.quantumcircuit.QuantumCircuit.cnot()`` is deprecated as of qiskit 0.45.0. It will be removed no earlier than 3 months after the release date. Use QuantumCircuit.cx as direct replacement.\n",
                        "  qc.cnot(wires[0], wires[1])\n",
                        "/var/folders/sy/jspx4wmd7sd9lqc7clfzx4jw0000gn/T/ipykernel_84648/1672648257.py:19: DeprecationWarning: The method ``qiskit.circuit.quantumcircuit.QuantumCircuit.cnot()`` is deprecated as of qiskit 0.45.0. It will be removed no earlier than 3 months after the release date. Use QuantumCircuit.cx as direct replacement.\n",
                        "  qc.cnot(wires[1], wires[0])\n",
                        "/var/folders/sy/jspx4wmd7sd9lqc7clfzx4jw0000gn/T/ipykernel_84648/1672648257.py:21: DeprecationWarning: The method ``qiskit.circuit.quantumcircuit.QuantumCircuit.cnot()`` is deprecated as of qiskit 0.45.0. It will be removed no earlier than 3 months after the release date. Use QuantumCircuit.cx as direct replacement.\n",
                        "  qc.cnot(wires[0], wires[1])\n"
                    ]
                }
            ],
            "source": [
                "from itertools import zip_longest, tee\n",
                "\n",
                "def convolve(wires):\n",
                "    qc.rz(0.1, wires[0])\n",
                "    qc.sx(wires[0])\n",
                "    qc.rz(0.1, wires[0])\n",
                "    qc.sx(wires[0])\n",
                "    qc.rz(0.1, wires[0])\n",
                "    \n",
                "    qc.rz(0.1, wires[1])\n",
                "    qc.sx(wires[1])\n",
                "    qc.rz(0.1, wires[1])\n",
                "    qc.sx(wires[1])\n",
                "    qc.rz(0.1, wires[1])\n",
                "    \n",
                "    qc.cnot(wires[0], wires[1])\n",
                "    qc.ry(0.1, wires[0])\n",
                "    qc.rz(0.1, wires[1])\n",
                "    qc.cnot(wires[1], wires[0])\n",
                "    qc.ry(0.1, wires[0])\n",
                "    qc.cnot(wires[0], wires[1])\n",
                "    \n",
                "    qc.rz(0.1, wires[0])\n",
                "    qc.sx(wires[0])\n",
                "    qc.rz(0.1, wires[0])\n",
                "    qc.sx(wires[0])\n",
                "    qc.rz(0.1, wires[0])\n",
                "    \n",
                "    qc.rz(0.1, wires[1])\n",
                "    qc.sx(wires[1])\n",
                "    qc.rz(0.1, wires[1])\n",
                "    qc.sx(wires[1])\n",
                "    qc.rz(0.1, wires[1])\n",
                "        \n",
                "def pool(wires):\n",
                "    qc.crz(0.1, wires[0], wires[1])\n",
                "    qc.x(wires[0])\n",
                "    qc.crx(0.1, wires[0], wires[1])\n",
                "\n",
                "def _convolution(iterable):\n",
                "    a, b = tee(iterable)\n",
                "    first = next(b, None)\n",
                "    lst = list(zip_longest(a, b, fillvalue=first))\n",
                "    last = lst.pop()[::-1]\n",
                "    lst = lst[::2] + lst[1::2]\n",
                "\n",
                "    if len(lst) > 1:\n",
                "        lst.insert(0, last)\n",
                "\n",
                "    for wires in lst:\n",
                "        convolve(wires)\n",
                "\n",
                "def _pooling(iterable):\n",
                "    measurements = iterable[1::2]\n",
                "    controlled = iterable[0::2]\n",
                "\n",
                "    for wires in zip(measurements, controlled):\n",
                "        pool(wires)\n",
                "\n",
                "    return controlled\n",
                "\n",
                "wires = qc.qubits\n",
                "for _ in range(num_layers):\n",
                "    _convolution(wires)\n",
                "    wires = _pooling(wires)\n"
            ]
        },
        {
            "cell_type": "code",
            "execution_count": 46,
            "metadata": {},
            "outputs": [
                {
                    "ename": "KeyboardInterrupt",
                    "evalue": "",
                    "output_type": "error",
                    "traceback": [
                        "\u001b[0;31m---------------------------------------------------------------------------\u001b[0m",
                        "\u001b[0;31mAttributeError\u001b[0m                            Traceback (most recent call last)",
                        "File \u001b[0;32m~/Documents/repos.nosync/quantum-convolutional-classifier/.env/lib/python3.11/site-packages/PIL/ImageFile.py:515\u001b[0m, in \u001b[0;36m_save\u001b[0;34m(im, fp, tile, bufsize)\u001b[0m\n\u001b[1;32m    514\u001b[0m \u001b[39mtry\u001b[39;00m:\n\u001b[0;32m--> 515\u001b[0m     fh \u001b[39m=\u001b[39m fp\u001b[39m.\u001b[39;49mfileno()\n\u001b[1;32m    516\u001b[0m     fp\u001b[39m.\u001b[39mflush()\n",
                        "\u001b[0;31mAttributeError\u001b[0m: '_idat' object has no attribute 'fileno'",
                        "\nDuring handling of the above exception, another exception occurred:\n",
                        "\u001b[0;31mKeyboardInterrupt\u001b[0m                         Traceback (most recent call last)",
                        "\u001b[1;32m/Users/mingyoungjeng/Documents/repos.nosync/quantum-convolutional-classifier/test/playground.ipynb Cell 5\u001b[0m line \u001b[0;36m1\n\u001b[0;32m----> <a href='vscode-notebook-cell:/Users/mingyoungjeng/Documents/repos.nosync/quantum-convolutional-classifier/test/playground.ipynb#W4sZmlsZQ%3D%3D?line=0'>1</a>\u001b[0m qc\u001b[39m.\u001b[39mdraw(\u001b[39m'\u001b[39m\u001b[39mmpl\u001b[39m\u001b[39m'\u001b[39m)\n",
                        "File \u001b[0;32m~/Documents/repos.nosync/quantum-convolutional-classifier/.env/lib/python3.11/site-packages/IPython/core/displayhook.py:268\u001b[0m, in \u001b[0;36mDisplayHook.__call__\u001b[0;34m(self, result)\u001b[0m\n\u001b[1;32m    266\u001b[0m \u001b[39mself\u001b[39m\u001b[39m.\u001b[39mstart_displayhook()\n\u001b[1;32m    267\u001b[0m \u001b[39mself\u001b[39m\u001b[39m.\u001b[39mwrite_output_prompt()\n\u001b[0;32m--> 268\u001b[0m format_dict, md_dict \u001b[39m=\u001b[39m \u001b[39mself\u001b[39;49m\u001b[39m.\u001b[39;49mcompute_format_data(result)\n\u001b[1;32m    269\u001b[0m \u001b[39mself\u001b[39m\u001b[39m.\u001b[39mupdate_user_ns(result)\n\u001b[1;32m    270\u001b[0m \u001b[39mself\u001b[39m\u001b[39m.\u001b[39mfill_exec_result(result)\n",
                        "File \u001b[0;32m~/Documents/repos.nosync/quantum-convolutional-classifier/.env/lib/python3.11/site-packages/IPython/core/displayhook.py:157\u001b[0m, in \u001b[0;36mDisplayHook.compute_format_data\u001b[0;34m(self, result)\u001b[0m\n\u001b[1;32m    127\u001b[0m \u001b[39mdef\u001b[39;00m \u001b[39mcompute_format_data\u001b[39m(\u001b[39mself\u001b[39m, result):\n\u001b[1;32m    128\u001b[0m \u001b[39m    \u001b[39m\u001b[39m\"\"\"Compute format data of the object to be displayed.\u001b[39;00m\n\u001b[1;32m    129\u001b[0m \n\u001b[1;32m    130\u001b[0m \u001b[39m    The format data is a generalization of the :func:`repr` of an object.\u001b[39;00m\n\u001b[0;32m   (...)\u001b[0m\n\u001b[1;32m    155\u001b[0m \n\u001b[1;32m    156\u001b[0m \u001b[39m    \"\"\"\u001b[39;00m\n\u001b[0;32m--> 157\u001b[0m     \u001b[39mreturn\u001b[39;00m \u001b[39mself\u001b[39;49m\u001b[39m.\u001b[39;49mshell\u001b[39m.\u001b[39;49mdisplay_formatter\u001b[39m.\u001b[39;49mformat(result)\n",
                        "File \u001b[0;32m~/Documents/repos.nosync/quantum-convolutional-classifier/.env/lib/python3.11/site-packages/IPython/core/formatters.py:179\u001b[0m, in \u001b[0;36mDisplayFormatter.format\u001b[0;34m(self, obj, include, exclude)\u001b[0m\n\u001b[1;32m    177\u001b[0m md \u001b[39m=\u001b[39m \u001b[39mNone\u001b[39;00m\n\u001b[1;32m    178\u001b[0m \u001b[39mtry\u001b[39;00m:\n\u001b[0;32m--> 179\u001b[0m     data \u001b[39m=\u001b[39m formatter(obj)\n\u001b[1;32m    180\u001b[0m \u001b[39mexcept\u001b[39;00m:\n\u001b[1;32m    181\u001b[0m     \u001b[39m# FIXME: log the exception\u001b[39;00m\n\u001b[1;32m    182\u001b[0m     \u001b[39mraise\u001b[39;00m\n",
                        "File \u001b[0;32m~/Documents/repos.nosync/quantum-convolutional-classifier/.env/lib/python3.11/site-packages/decorator.py:232\u001b[0m, in \u001b[0;36mdecorate.<locals>.fun\u001b[0;34m(*args, **kw)\u001b[0m\n\u001b[1;32m    230\u001b[0m \u001b[39mif\u001b[39;00m \u001b[39mnot\u001b[39;00m kwsyntax:\n\u001b[1;32m    231\u001b[0m     args, kw \u001b[39m=\u001b[39m fix(args, kw, sig)\n\u001b[0;32m--> 232\u001b[0m \u001b[39mreturn\u001b[39;00m caller(func, \u001b[39m*\u001b[39;49m(extras \u001b[39m+\u001b[39;49m args), \u001b[39m*\u001b[39;49m\u001b[39m*\u001b[39;49mkw)\n",
                        "File \u001b[0;32m~/Documents/repos.nosync/quantum-convolutional-classifier/.env/lib/python3.11/site-packages/IPython/core/formatters.py:223\u001b[0m, in \u001b[0;36mcatch_format_error\u001b[0;34m(method, self, *args, **kwargs)\u001b[0m\n\u001b[1;32m    221\u001b[0m \u001b[39m\u001b[39m\u001b[39m\"\"\"show traceback on failed format call\"\"\"\u001b[39;00m\n\u001b[1;32m    222\u001b[0m \u001b[39mtry\u001b[39;00m:\n\u001b[0;32m--> 223\u001b[0m     r \u001b[39m=\u001b[39m method(\u001b[39mself\u001b[39;49m, \u001b[39m*\u001b[39;49margs, \u001b[39m*\u001b[39;49m\u001b[39m*\u001b[39;49mkwargs)\n\u001b[1;32m    224\u001b[0m \u001b[39mexcept\u001b[39;00m \u001b[39mNotImplementedError\u001b[39;00m:\n\u001b[1;32m    225\u001b[0m     \u001b[39m# don't warn on NotImplementedErrors\u001b[39;00m\n\u001b[1;32m    226\u001b[0m     \u001b[39mreturn\u001b[39;00m \u001b[39mself\u001b[39m\u001b[39m.\u001b[39m_check_return(\u001b[39mNone\u001b[39;00m, args[\u001b[39m0\u001b[39m])\n",
                        "File \u001b[0;32m~/Documents/repos.nosync/quantum-convolutional-classifier/.env/lib/python3.11/site-packages/IPython/core/formatters.py:340\u001b[0m, in \u001b[0;36mBaseFormatter.__call__\u001b[0;34m(self, obj)\u001b[0m\n\u001b[1;32m    338\u001b[0m     \u001b[39mpass\u001b[39;00m\n\u001b[1;32m    339\u001b[0m \u001b[39melse\u001b[39;00m:\n\u001b[0;32m--> 340\u001b[0m     \u001b[39mreturn\u001b[39;00m printer(obj)\n\u001b[1;32m    341\u001b[0m \u001b[39m# Finally look for special method names\u001b[39;00m\n\u001b[1;32m    342\u001b[0m method \u001b[39m=\u001b[39m get_real_method(obj, \u001b[39mself\u001b[39m\u001b[39m.\u001b[39mprint_method)\n",
                        "File \u001b[0;32m~/Documents/repos.nosync/quantum-convolutional-classifier/.env/lib/python3.11/site-packages/IPython/core/pylabtools.py:152\u001b[0m, in \u001b[0;36mprint_figure\u001b[0;34m(fig, fmt, bbox_inches, base64, **kwargs)\u001b[0m\n\u001b[1;32m    149\u001b[0m     \u001b[39mfrom\u001b[39;00m \u001b[39mmatplotlib\u001b[39;00m\u001b[39m.\u001b[39;00m\u001b[39mbackend_bases\u001b[39;00m \u001b[39mimport\u001b[39;00m FigureCanvasBase\n\u001b[1;32m    150\u001b[0m     FigureCanvasBase(fig)\n\u001b[0;32m--> 152\u001b[0m fig\u001b[39m.\u001b[39;49mcanvas\u001b[39m.\u001b[39;49mprint_figure(bytes_io, \u001b[39m*\u001b[39;49m\u001b[39m*\u001b[39;49mkw)\n\u001b[1;32m    153\u001b[0m data \u001b[39m=\u001b[39m bytes_io\u001b[39m.\u001b[39mgetvalue()\n\u001b[1;32m    154\u001b[0m \u001b[39mif\u001b[39;00m fmt \u001b[39m==\u001b[39m \u001b[39m'\u001b[39m\u001b[39msvg\u001b[39m\u001b[39m'\u001b[39m:\n",
                        "File \u001b[0;32m~/Documents/repos.nosync/quantum-convolutional-classifier/.env/lib/python3.11/site-packages/matplotlib/backend_bases.py:2193\u001b[0m, in \u001b[0;36mFigureCanvasBase.print_figure\u001b[0;34m(self, filename, dpi, facecolor, edgecolor, orientation, format, bbox_inches, pad_inches, bbox_extra_artists, backend, **kwargs)\u001b[0m\n\u001b[1;32m   2189\u001b[0m \u001b[39mtry\u001b[39;00m:\n\u001b[1;32m   2190\u001b[0m     \u001b[39m# _get_renderer may change the figure dpi (as vector formats\u001b[39;00m\n\u001b[1;32m   2191\u001b[0m     \u001b[39m# force the figure dpi to 72), so we need to set it again here.\u001b[39;00m\n\u001b[1;32m   2192\u001b[0m     \u001b[39mwith\u001b[39;00m cbook\u001b[39m.\u001b[39m_setattr_cm(\u001b[39mself\u001b[39m\u001b[39m.\u001b[39mfigure, dpi\u001b[39m=\u001b[39mdpi):\n\u001b[0;32m-> 2193\u001b[0m         result \u001b[39m=\u001b[39m print_method(\n\u001b[1;32m   2194\u001b[0m             filename,\n\u001b[1;32m   2195\u001b[0m             facecolor\u001b[39m=\u001b[39;49mfacecolor,\n\u001b[1;32m   2196\u001b[0m             edgecolor\u001b[39m=\u001b[39;49medgecolor,\n\u001b[1;32m   2197\u001b[0m             orientation\u001b[39m=\u001b[39;49morientation,\n\u001b[1;32m   2198\u001b[0m             bbox_inches_restore\u001b[39m=\u001b[39;49m_bbox_inches_restore,\n\u001b[1;32m   2199\u001b[0m             \u001b[39m*\u001b[39;49m\u001b[39m*\u001b[39;49mkwargs)\n\u001b[1;32m   2200\u001b[0m \u001b[39mfinally\u001b[39;00m:\n\u001b[1;32m   2201\u001b[0m     \u001b[39mif\u001b[39;00m bbox_inches \u001b[39mand\u001b[39;00m restore_bbox:\n",
                        "File \u001b[0;32m~/Documents/repos.nosync/quantum-convolutional-classifier/.env/lib/python3.11/site-packages/matplotlib/backend_bases.py:2043\u001b[0m, in \u001b[0;36mFigureCanvasBase._switch_canvas_and_return_print_method.<locals>.<lambda>\u001b[0;34m(*args, **kwargs)\u001b[0m\n\u001b[1;32m   2039\u001b[0m     optional_kws \u001b[39m=\u001b[39m {  \u001b[39m# Passed by print_figure for other renderers.\u001b[39;00m\n\u001b[1;32m   2040\u001b[0m         \u001b[39m\"\u001b[39m\u001b[39mdpi\u001b[39m\u001b[39m\"\u001b[39m, \u001b[39m\"\u001b[39m\u001b[39mfacecolor\u001b[39m\u001b[39m\"\u001b[39m, \u001b[39m\"\u001b[39m\u001b[39medgecolor\u001b[39m\u001b[39m\"\u001b[39m, \u001b[39m\"\u001b[39m\u001b[39morientation\u001b[39m\u001b[39m\"\u001b[39m,\n\u001b[1;32m   2041\u001b[0m         \u001b[39m\"\u001b[39m\u001b[39mbbox_inches_restore\u001b[39m\u001b[39m\"\u001b[39m}\n\u001b[1;32m   2042\u001b[0m     skip \u001b[39m=\u001b[39m optional_kws \u001b[39m-\u001b[39m {\u001b[39m*\u001b[39minspect\u001b[39m.\u001b[39msignature(meth)\u001b[39m.\u001b[39mparameters}\n\u001b[0;32m-> 2043\u001b[0m     print_method \u001b[39m=\u001b[39m functools\u001b[39m.\u001b[39mwraps(meth)(\u001b[39mlambda\u001b[39;00m \u001b[39m*\u001b[39margs, \u001b[39m*\u001b[39m\u001b[39m*\u001b[39mkwargs: meth(\n\u001b[1;32m   2044\u001b[0m         \u001b[39m*\u001b[39;49margs, \u001b[39m*\u001b[39;49m\u001b[39m*\u001b[39;49m{k: v \u001b[39mfor\u001b[39;49;00m k, v \u001b[39min\u001b[39;49;00m kwargs\u001b[39m.\u001b[39;49mitems() \u001b[39mif\u001b[39;49;00m k \u001b[39mnot\u001b[39;49;00m \u001b[39min\u001b[39;49;00m skip}))\n\u001b[1;32m   2045\u001b[0m \u001b[39melse\u001b[39;00m:  \u001b[39m# Let third-parties do as they see fit.\u001b[39;00m\n\u001b[1;32m   2046\u001b[0m     print_method \u001b[39m=\u001b[39m meth\n",
                        "File \u001b[0;32m~/Documents/repos.nosync/quantum-convolutional-classifier/.env/lib/python3.11/site-packages/matplotlib/backends/backend_agg.py:497\u001b[0m, in \u001b[0;36mFigureCanvasAgg.print_png\u001b[0;34m(self, filename_or_obj, metadata, pil_kwargs)\u001b[0m\n\u001b[1;32m    450\u001b[0m \u001b[39mdef\u001b[39;00m \u001b[39mprint_png\u001b[39m(\u001b[39mself\u001b[39m, filename_or_obj, \u001b[39m*\u001b[39m, metadata\u001b[39m=\u001b[39m\u001b[39mNone\u001b[39;00m, pil_kwargs\u001b[39m=\u001b[39m\u001b[39mNone\u001b[39;00m):\n\u001b[1;32m    451\u001b[0m \u001b[39m    \u001b[39m\u001b[39m\"\"\"\u001b[39;00m\n\u001b[1;32m    452\u001b[0m \u001b[39m    Write the figure to a PNG file.\u001b[39;00m\n\u001b[1;32m    453\u001b[0m \n\u001b[0;32m   (...)\u001b[0m\n\u001b[1;32m    495\u001b[0m \u001b[39m        *metadata*, including the default 'Software' key.\u001b[39;00m\n\u001b[1;32m    496\u001b[0m \u001b[39m    \"\"\"\u001b[39;00m\n\u001b[0;32m--> 497\u001b[0m     \u001b[39mself\u001b[39;49m\u001b[39m.\u001b[39;49m_print_pil(filename_or_obj, \u001b[39m\"\u001b[39;49m\u001b[39mpng\u001b[39;49m\u001b[39m\"\u001b[39;49m, pil_kwargs, metadata)\n",
                        "File \u001b[0;32m~/Documents/repos.nosync/quantum-convolutional-classifier/.env/lib/python3.11/site-packages/matplotlib/backends/backend_agg.py:446\u001b[0m, in \u001b[0;36mFigureCanvasAgg._print_pil\u001b[0;34m(self, filename_or_obj, fmt, pil_kwargs, metadata)\u001b[0m\n\u001b[1;32m    441\u001b[0m \u001b[39m\u001b[39m\u001b[39m\"\"\"\u001b[39;00m\n\u001b[1;32m    442\u001b[0m \u001b[39mDraw the canvas, then save it using `.image.imsave` (to which\u001b[39;00m\n\u001b[1;32m    443\u001b[0m \u001b[39m*pil_kwargs* and *metadata* are forwarded).\u001b[39;00m\n\u001b[1;32m    444\u001b[0m \u001b[39m\"\"\"\u001b[39;00m\n\u001b[1;32m    445\u001b[0m FigureCanvasAgg\u001b[39m.\u001b[39mdraw(\u001b[39mself\u001b[39m)\n\u001b[0;32m--> 446\u001b[0m mpl\u001b[39m.\u001b[39;49mimage\u001b[39m.\u001b[39;49mimsave(\n\u001b[1;32m    447\u001b[0m     filename_or_obj, \u001b[39mself\u001b[39;49m\u001b[39m.\u001b[39;49mbuffer_rgba(), \u001b[39mformat\u001b[39;49m\u001b[39m=\u001b[39;49mfmt, origin\u001b[39m=\u001b[39;49m\u001b[39m\"\u001b[39;49m\u001b[39mupper\u001b[39;49m\u001b[39m\"\u001b[39;49m,\n\u001b[1;32m    448\u001b[0m     dpi\u001b[39m=\u001b[39;49m\u001b[39mself\u001b[39;49m\u001b[39m.\u001b[39;49mfigure\u001b[39m.\u001b[39;49mdpi, metadata\u001b[39m=\u001b[39;49mmetadata, pil_kwargs\u001b[39m=\u001b[39;49mpil_kwargs)\n",
                        "File \u001b[0;32m~/Documents/repos.nosync/quantum-convolutional-classifier/.env/lib/python3.11/site-packages/matplotlib/image.py:1656\u001b[0m, in \u001b[0;36mimsave\u001b[0;34m(fname, arr, vmin, vmax, cmap, format, origin, dpi, metadata, pil_kwargs)\u001b[0m\n\u001b[1;32m   1654\u001b[0m pil_kwargs\u001b[39m.\u001b[39msetdefault(\u001b[39m\"\u001b[39m\u001b[39mformat\u001b[39m\u001b[39m\"\u001b[39m, \u001b[39mformat\u001b[39m)\n\u001b[1;32m   1655\u001b[0m pil_kwargs\u001b[39m.\u001b[39msetdefault(\u001b[39m\"\u001b[39m\u001b[39mdpi\u001b[39m\u001b[39m\"\u001b[39m, (dpi, dpi))\n\u001b[0;32m-> 1656\u001b[0m image\u001b[39m.\u001b[39;49msave(fname, \u001b[39m*\u001b[39;49m\u001b[39m*\u001b[39;49mpil_kwargs)\n",
                        "File \u001b[0;32m~/Documents/repos.nosync/quantum-convolutional-classifier/.env/lib/python3.11/site-packages/PIL/Image.py:2438\u001b[0m, in \u001b[0;36mImage.save\u001b[0;34m(self, fp, format, **params)\u001b[0m\n\u001b[1;32m   2435\u001b[0m         fp \u001b[39m=\u001b[39m builtins\u001b[39m.\u001b[39mopen(filename, \u001b[39m\"\u001b[39m\u001b[39mw+b\u001b[39m\u001b[39m\"\u001b[39m)\n\u001b[1;32m   2437\u001b[0m \u001b[39mtry\u001b[39;00m:\n\u001b[0;32m-> 2438\u001b[0m     save_handler(\u001b[39mself\u001b[39;49m, fp, filename)\n\u001b[1;32m   2439\u001b[0m \u001b[39mexcept\u001b[39;00m \u001b[39mException\u001b[39;00m:\n\u001b[1;32m   2440\u001b[0m     \u001b[39mif\u001b[39;00m open_fp:\n",
                        "File \u001b[0;32m~/Documents/repos.nosync/quantum-convolutional-classifier/.env/lib/python3.11/site-packages/PIL/PngImagePlugin.py:1394\u001b[0m, in \u001b[0;36m_save\u001b[0;34m(im, fp, filename, chunk, save_all)\u001b[0m\n\u001b[1;32m   1392\u001b[0m     _write_multiple_frames(im, fp, chunk, rawmode, default_image, append_images)\n\u001b[1;32m   1393\u001b[0m \u001b[39melse\u001b[39;00m:\n\u001b[0;32m-> 1394\u001b[0m     ImageFile\u001b[39m.\u001b[39;49m_save(im, _idat(fp, chunk), [(\u001b[39m\"\u001b[39;49m\u001b[39mzip\u001b[39;49m\u001b[39m\"\u001b[39;49m, (\u001b[39m0\u001b[39;49m, \u001b[39m0\u001b[39;49m) \u001b[39m+\u001b[39;49m im\u001b[39m.\u001b[39;49msize, \u001b[39m0\u001b[39;49m, rawmode)])\n\u001b[1;32m   1396\u001b[0m \u001b[39mif\u001b[39;00m info:\n\u001b[1;32m   1397\u001b[0m     \u001b[39mfor\u001b[39;00m info_chunk \u001b[39min\u001b[39;00m info\u001b[39m.\u001b[39mchunks:\n",
                        "File \u001b[0;32m~/Documents/repos.nosync/quantum-convolutional-classifier/.env/lib/python3.11/site-packages/PIL/ImageFile.py:519\u001b[0m, in \u001b[0;36m_save\u001b[0;34m(im, fp, tile, bufsize)\u001b[0m\n\u001b[1;32m    517\u001b[0m     _encode_tile(im, fp, tile, bufsize, fh)\n\u001b[1;32m    518\u001b[0m \u001b[39mexcept\u001b[39;00m (\u001b[39mAttributeError\u001b[39;00m, io\u001b[39m.\u001b[39mUnsupportedOperation) \u001b[39mas\u001b[39;00m exc:\n\u001b[0;32m--> 519\u001b[0m     _encode_tile(im, fp, tile, bufsize, \u001b[39mNone\u001b[39;49;00m, exc)\n\u001b[1;32m    520\u001b[0m \u001b[39mif\u001b[39;00m \u001b[39mhasattr\u001b[39m(fp, \u001b[39m\"\u001b[39m\u001b[39mflush\u001b[39m\u001b[39m\"\u001b[39m):\n\u001b[1;32m    521\u001b[0m     fp\u001b[39m.\u001b[39mflush()\n",
                        "File \u001b[0;32m~/Documents/repos.nosync/quantum-convolutional-classifier/.env/lib/python3.11/site-packages/PIL/ImageFile.py:538\u001b[0m, in \u001b[0;36m_encode_tile\u001b[0;34m(im, fp, tile, bufsize, fh, exc)\u001b[0m\n\u001b[1;32m    535\u001b[0m \u001b[39mif\u001b[39;00m exc:\n\u001b[1;32m    536\u001b[0m     \u001b[39m# compress to Python file-compatible object\u001b[39;00m\n\u001b[1;32m    537\u001b[0m     \u001b[39mwhile\u001b[39;00m \u001b[39mTrue\u001b[39;00m:\n\u001b[0;32m--> 538\u001b[0m         errcode, data \u001b[39m=\u001b[39m encoder\u001b[39m.\u001b[39;49mencode(bufsize)[\u001b[39m1\u001b[39m:]\n\u001b[1;32m    539\u001b[0m         fp\u001b[39m.\u001b[39mwrite(data)\n\u001b[1;32m    540\u001b[0m         \u001b[39mif\u001b[39;00m errcode:\n",
                        "\u001b[0;31mKeyboardInterrupt\u001b[0m: "
                    ]
                }
            ],
            "source": [
                "qc.draw('mpl')\n"
            ]
        },
        {
            "cell_type": "code",
            "execution_count": null,
            "metadata": {},
            "outputs": [
                {
                    "data": {
                        "text/plain": [
                            "(135, 415)"
                        ]
                    },
                    "execution_count": 34,
                    "metadata": {},
                    "output_type": "execute_result"
                }
            ],
            "source": [
                "qc = transpile(qc, basis_gates=[\"cx\", \"sx\", \"x\", \"ry\", \"rx\", \"rz\"], optimization_level=0)\n",
                "qc.depth(), sum(qc.count_ops().values())\n"
            ]
        },
        {
            "cell_type": "code",
            "execution_count": null,
            "metadata": {},
            "outputs": [
                {
                    "data": {
                        "text/plain": [
                            "(188, 593)"
                        ]
                    },
                    "execution_count": 35,
                    "metadata": {},
                    "output_type": "execute_result"
                }
            ],
            "source": [
                "135, 415\n",
                "188, 593\n"
            ]
        },
        {
            "cell_type": "code",
            "execution_count": null,
            "metadata": {},
            "outputs": [
                {
                    "data": {
                        "text/plain": [
                            "(12, 28)"
                        ]
                    },
                    "execution_count": 36,
                    "metadata": {},
                    "output_type": "execute_result"
                }
            ],
            "source": [
                "qc = QuantumCircuit(num_qubits)\n",
                "\n",
                "def _ry_pool(iterable):\n",
                "    measurements = iterable[1::2]\n",
                "    controlled = iterable[0::2]\n",
                "\n",
                "    for wires in zip(measurements, controlled):\n",
                "        qc.cry(0.1, wires[0], wires[1])\n",
                "\n",
                "    return controlled\n",
                "\n",
                "wires = qc.qubits\n",
                "for _ in range(num_layers):\n",
                "    wires = _ry_pool(wires)\n",
                "    \n",
                "qc = transpile(qc, basis_gates=[\"cx\", \"sx\", \"x\", \"ry\", \"rx\", \"rz\"], optimization_level=0)\n",
                "qc.depth(), sum(qc.count_ops().values())\n"
            ]
        },
        {
            "cell_type": "code",
            "execution_count": null,
            "metadata": {},
            "outputs": [],
            "source": [
                "from pathlib import Path\n",
                "\n",
                "path = Path(\"/Users/mingyoungjeng/Documents/Spring 2023.nosync/quantum-convolutional-classifier/test/tmp\")\n",
                "for file in path.glob(\"**/mqcc*/*.*\"):\n",
                "    stem = file.stem.replace(\"mqcc_\", \"mqcc-optimized_\")\n",
                "    # items = file.stem.split(\"_\")\n",
                "    # items.insert(2, \"16x16\")\n",
                "    # stem = \"_\".join(items)\n",
                "    \n",
                "    # items = file.parent.stem.split(\"_\")\n",
                "    # items.insert(2, \"16x16\")\n",
                "    # parent = \"_\".join(items)\n",
                "    \n",
                "    new_path = file.parent.with_stem(file.parent.stem.replace(\"mqcc\", \"mqcc_optimized\"))\n",
                "    new_path.mkdir(parents=True, exist_ok=True)\n",
                "    \n",
                "    new_path = new_path / f\"{stem}{file.suffix}\"\n",
                "    file.rename(new_path)\n"
            ]
        },
        {
            "cell_type": "code",
            "execution_count": null,
            "metadata": {},
            "outputs": [],
            "source": [
                "from pathlib import Path\n",
                "\n",
                "path = Path(\"/Users/mingyoungjeng/Downloads/results_thesis/_raw_results/CIFAR10\")\n",
                "dest = path / \"32x32\"\n",
                "\n",
                "for file in path.glob(\"**/*_32x32_*.*\"):\n",
                "    parent = dest / file.parent.stem\n",
                "    parent.mkdir(parents=True, exist_ok=True)\n",
                "    \n",
                "    new_path = parent / file.name\n",
                "    file.rename(new_path)\n"
            ]
        },
        {
            "cell_type": "code",
            "execution_count": null,
            "metadata": {},
            "outputs": [
                {
                    "name": "stdout",
                    "output_type": "stream",
                    "text": [
                        "[[[0 1]\n",
                        "  [2 3]]\n",
                        "\n",
                        " [[4 5]\n",
                        "  [6 7]]]\n"
                    ]
                },
                {
                    "data": {
                        "text/plain": [
                            "array([[0, 1],\n",
                            "       [2, 3],\n",
                            "       [4, 5],\n",
                            "       [6, 7]])"
                        ]
                    },
                    "execution_count": 39,
                    "metadata": {},
                    "output_type": "execute_result"
                }
            ],
            "source": [
                "import numpy as np\n",
                "\n",
                "test = np.array([[[0, 1], [2, 3]], [[4, 5], [6, 7]]])\n",
                "print(test)\n",
                "\n",
                "test.reshape(4, 2)\n"
            ]
        },
        {
            "cell_type": "code",
            "execution_count": null,
            "metadata": {},
            "outputs": [
                {
                    "ename": "KeyboardInterrupt",
                    "evalue": "",
                    "output_type": "error",
                    "traceback": [
                        "\u001b[0;31m---------------------------------------------------------------------------\u001b[0m",
                        "\u001b[0;31mAttributeError\u001b[0m                            Traceback (most recent call last)",
                        "File \u001b[0;32m~/Documents/repos.nosync/quantum-convolutional-classifier/.env/lib/python3.11/site-packages/PIL/ImageFile.py:515\u001b[0m, in \u001b[0;36m_save\u001b[0;34m(im, fp, tile, bufsize)\u001b[0m\n\u001b[1;32m    514\u001b[0m \u001b[39mtry\u001b[39;00m:\n\u001b[0;32m--> 515\u001b[0m     fh \u001b[39m=\u001b[39m fp\u001b[39m.\u001b[39;49mfileno()\n\u001b[1;32m    516\u001b[0m     fp\u001b[39m.\u001b[39mflush()\n",
                        "\u001b[0;31mAttributeError\u001b[0m: '_idat' object has no attribute 'fileno'",
                        "\nDuring handling of the above exception, another exception occurred:\n",
                        "\u001b[0;31mKeyboardInterrupt\u001b[0m                         Traceback (most recent call last)",
                        "\u001b[1;32m/Users/mingyoungjeng/Documents/repos.nosync/quantum-convolutional-classifier/test/playground.ipynb Cell 12\u001b[0m line \u001b[0;36m9\n\u001b[1;32m      <a href='vscode-notebook-cell:/Users/mingyoungjeng/Documents/repos.nosync/quantum-convolutional-classifier/test/playground.ipynb#X14sZmlsZQ%3D%3D?line=6'>7</a>\u001b[0m im\u001b[39m.\u001b[39mcrop((\u001b[39m0\u001b[39m  , \u001b[39m0\u001b[39m  , \u001b[39m256\u001b[39m, \u001b[39m256\u001b[39m))\u001b[39m.\u001b[39msave(\u001b[39m\"\u001b[39m\u001b[39mtl.png\u001b[39m\u001b[39m\"\u001b[39m)\n\u001b[1;32m      <a href='vscode-notebook-cell:/Users/mingyoungjeng/Documents/repos.nosync/quantum-convolutional-classifier/test/playground.ipynb#X14sZmlsZQ%3D%3D?line=7'>8</a>\u001b[0m im\u001b[39m.\u001b[39mcrop((\u001b[39m128\u001b[39m, \u001b[39m0\u001b[39m  , \u001b[39m384\u001b[39m, \u001b[39m256\u001b[39m))\u001b[39m.\u001b[39msave(\u001b[39m\"\u001b[39m\u001b[39mtc.png\u001b[39m\u001b[39m\"\u001b[39m)\n\u001b[0;32m----> <a href='vscode-notebook-cell:/Users/mingyoungjeng/Documents/repos.nosync/quantum-convolutional-classifier/test/playground.ipynb#X14sZmlsZQ%3D%3D?line=8'>9</a>\u001b[0m im\u001b[39m.\u001b[39;49mcrop((\u001b[39m256\u001b[39;49m, \u001b[39m0\u001b[39;49m  , \u001b[39m512\u001b[39;49m, \u001b[39m256\u001b[39;49m))\u001b[39m.\u001b[39;49msave(\u001b[39m\"\u001b[39;49m\u001b[39mtr.png\u001b[39;49m\u001b[39m\"\u001b[39;49m)\n\u001b[1;32m     <a href='vscode-notebook-cell:/Users/mingyoungjeng/Documents/repos.nosync/quantum-convolutional-classifier/test/playground.ipynb#X14sZmlsZQ%3D%3D?line=10'>11</a>\u001b[0m im\u001b[39m.\u001b[39mcrop((\u001b[39m0\u001b[39m  , \u001b[39m128\u001b[39m, \u001b[39m256\u001b[39m, \u001b[39m384\u001b[39m))\u001b[39m.\u001b[39msave(\u001b[39m\"\u001b[39m\u001b[39mcl.png\u001b[39m\u001b[39m\"\u001b[39m)\n\u001b[1;32m     <a href='vscode-notebook-cell:/Users/mingyoungjeng/Documents/repos.nosync/quantum-convolutional-classifier/test/playground.ipynb#X14sZmlsZQ%3D%3D?line=11'>12</a>\u001b[0m im\u001b[39m.\u001b[39mcrop((\u001b[39m128\u001b[39m, \u001b[39m128\u001b[39m, \u001b[39m384\u001b[39m, \u001b[39m384\u001b[39m))\u001b[39m.\u001b[39msave(\u001b[39m\"\u001b[39m\u001b[39mcc.png\u001b[39m\u001b[39m\"\u001b[39m)\n",
                        "File \u001b[0;32m~/Documents/repos.nosync/quantum-convolutional-classifier/.env/lib/python3.11/site-packages/PIL/Image.py:2438\u001b[0m, in \u001b[0;36mImage.save\u001b[0;34m(self, fp, format, **params)\u001b[0m\n\u001b[1;32m   2435\u001b[0m         fp \u001b[39m=\u001b[39m builtins\u001b[39m.\u001b[39mopen(filename, \u001b[39m\"\u001b[39m\u001b[39mw+b\u001b[39m\u001b[39m\"\u001b[39m)\n\u001b[1;32m   2437\u001b[0m \u001b[39mtry\u001b[39;00m:\n\u001b[0;32m-> 2438\u001b[0m     save_handler(\u001b[39mself\u001b[39;49m, fp, filename)\n\u001b[1;32m   2439\u001b[0m \u001b[39mexcept\u001b[39;00m \u001b[39mException\u001b[39;00m:\n\u001b[1;32m   2440\u001b[0m     \u001b[39mif\u001b[39;00m open_fp:\n",
                        "File \u001b[0;32m~/Documents/repos.nosync/quantum-convolutional-classifier/.env/lib/python3.11/site-packages/PIL/PngImagePlugin.py:1394\u001b[0m, in \u001b[0;36m_save\u001b[0;34m(im, fp, filename, chunk, save_all)\u001b[0m\n\u001b[1;32m   1392\u001b[0m     _write_multiple_frames(im, fp, chunk, rawmode, default_image, append_images)\n\u001b[1;32m   1393\u001b[0m \u001b[39melse\u001b[39;00m:\n\u001b[0;32m-> 1394\u001b[0m     ImageFile\u001b[39m.\u001b[39;49m_save(im, _idat(fp, chunk), [(\u001b[39m\"\u001b[39;49m\u001b[39mzip\u001b[39;49m\u001b[39m\"\u001b[39;49m, (\u001b[39m0\u001b[39;49m, \u001b[39m0\u001b[39;49m) \u001b[39m+\u001b[39;49m im\u001b[39m.\u001b[39;49msize, \u001b[39m0\u001b[39;49m, rawmode)])\n\u001b[1;32m   1396\u001b[0m \u001b[39mif\u001b[39;00m info:\n\u001b[1;32m   1397\u001b[0m     \u001b[39mfor\u001b[39;00m info_chunk \u001b[39min\u001b[39;00m info\u001b[39m.\u001b[39mchunks:\n",
                        "File \u001b[0;32m~/Documents/repos.nosync/quantum-convolutional-classifier/.env/lib/python3.11/site-packages/PIL/ImageFile.py:519\u001b[0m, in \u001b[0;36m_save\u001b[0;34m(im, fp, tile, bufsize)\u001b[0m\n\u001b[1;32m    517\u001b[0m     _encode_tile(im, fp, tile, bufsize, fh)\n\u001b[1;32m    518\u001b[0m \u001b[39mexcept\u001b[39;00m (\u001b[39mAttributeError\u001b[39;00m, io\u001b[39m.\u001b[39mUnsupportedOperation) \u001b[39mas\u001b[39;00m exc:\n\u001b[0;32m--> 519\u001b[0m     _encode_tile(im, fp, tile, bufsize, \u001b[39mNone\u001b[39;49;00m, exc)\n\u001b[1;32m    520\u001b[0m \u001b[39mif\u001b[39;00m \u001b[39mhasattr\u001b[39m(fp, \u001b[39m\"\u001b[39m\u001b[39mflush\u001b[39m\u001b[39m\"\u001b[39m):\n\u001b[1;32m    521\u001b[0m     fp\u001b[39m.\u001b[39mflush()\n",
                        "File \u001b[0;32m~/Documents/repos.nosync/quantum-convolutional-classifier/.env/lib/python3.11/site-packages/PIL/ImageFile.py:538\u001b[0m, in \u001b[0;36m_encode_tile\u001b[0;34m(im, fp, tile, bufsize, fh, exc)\u001b[0m\n\u001b[1;32m    535\u001b[0m \u001b[39mif\u001b[39;00m exc:\n\u001b[1;32m    536\u001b[0m     \u001b[39m# compress to Python file-compatible object\u001b[39;00m\n\u001b[1;32m    537\u001b[0m     \u001b[39mwhile\u001b[39;00m \u001b[39mTrue\u001b[39;00m:\n\u001b[0;32m--> 538\u001b[0m         errcode, data \u001b[39m=\u001b[39m encoder\u001b[39m.\u001b[39;49mencode(bufsize)[\u001b[39m1\u001b[39m:]\n\u001b[1;32m    539\u001b[0m         fp\u001b[39m.\u001b[39mwrite(data)\n\u001b[1;32m    540\u001b[0m         \u001b[39mif\u001b[39;00m errcode:\n",
                        "\u001b[0;31mKeyboardInterrupt\u001b[0m: "
                    ]
                }
            ],
            "source": [
                "from pathlib import Path\n",
                "from PIL import Image\n",
                "\n",
                "filename = Path(\"../img/color/Jayhawk_512x512x3.jpg\")\n",
                "\n",
                "with Image.open(filename, \"r\") as im:\n",
                "    im.crop((0  , 0  , 256, 256)).save(\"tl.png\")\n",
                "    im.crop((128, 0  , 384, 256)).save(\"tc.png\")\n",
                "    im.crop((256, 0  , 512, 256)).save(\"tr.png\")\n",
                "    \n",
                "    im.crop((0  , 128, 256, 384)).save(\"cl.png\")\n",
                "    im.crop((128, 128, 384, 384)).save(\"cc.png\")\n",
                "    im.crop((256, 128, 512, 384)).save(\"cr.png\")\n",
                "    \n",
                "    im.crop((0  , 256, 256, 512)).save(\"bl.png\")\n",
                "    im.crop((128, 256, 384, 512)).save(\"bc.png\")\n",
                "    im.crop((256, 256, 511, 512)).save(\"br.png\")\n"
            ]
        },
        {
            "cell_type": "code",
            "execution_count": null,
            "metadata": {},
            "outputs": [
                {
                    "data": {
                        "image/png": "[encoded data removed]",
                        "text/plain": [
                            "<Figure size 287.294x200.667 with 1 Axes>"
                        ]
                    },
                    "execution_count": 21,
                    "metadata": {},
                    "output_type": "execute_result"
                }
            ],
            "source": [
                "from qiskit import QuantumCircuit\n",
                "\n",
                "\n",
                "qc = QuantumCircuit(2)\n",
                "\n",
                "qc.h(1)\n",
                "qc.cx(1, 0)\n",
                "\n",
                "qc.draw('mpl',reverse_bits=True)\n"
            ]
        },
        {
            "cell_type": "code",
            "execution_count": null,
            "metadata": {},
            "outputs": [],
            "source": [
                "from pathlib import Path\n",
                "from qcc.cli.pooling import _pooling\n",
                "\n",
                "inputs = Path(\"/Users/mingyoungjeng/Documents/Spring 2023.nosync/quantum-convolutional-classifier/img/color\")\n",
                "\n",
                "for n in [False]:\n",
                "    for method in [\"none\"]:\n",
                "            _pooling(method, [0], inputs=inputs, output_dir=Path(\"results\"), noiseless=n)\n"
            ]
        },
        {
            "cell_type": "code",
            "execution_count": null,
            "metadata": {},
            "outputs": [],
            "source": [
                "from pathlib import Path\n",
                "\n",
                "path = Path(\"/Users/mingyoungjeng/Downloads/pooling_results/results_pooling_1000000\")\n",
                "for file in path.glob(\"**/*_noisy.png\"):\n",
                "    stem = file.stem.replace(\"_noisy\", \"_100000\")\n",
                "\n",
                "    # parent = dest / file.parent.stem\n",
                "    # parent.mkdir(parents=True, exist_ok=True)\n",
                "    \n",
                "    # new_path = parent / file.name\n",
                "    file.rename(file.with_stem(stem))\n"
            ]
        },
        {
            "cell_type": "code",
            "execution_count": null,
            "metadata": {},
            "outputs": [],
            "source": [
                "from pathlib import Path\n",
                "\n",
                "root = Path(\"/Users/mingyoungjeng/Downloads/results_pooling\")\n",
                "path = Path(\"/Users/mingyoungjeng/Downloads/pooling_results\")\n",
                "for file in path.glob(\"**/*.png\"):\n",
                "    parent = file.parent.stem\n",
                "    \n",
                "    stem = file.stem.split(\"_\")\n",
                "    parent1, parent2, stem = stem[0], stem[-1], [parent, *stem[1:-1]]\n",
                "    stem = \"_\".join(stem)\n",
                "    \n",
                "    parent = root / parent1 / parent2\n",
                "    parent.mkdir(parents=True, exist_ok=True)\n",
                "    \n",
                "    new_path = parent / f\"{stem}.png\"\n",
                "    # print(new_path)\n",
                "    file.rename(new_path)\n"
            ]
        },
        {
            "cell_type": "code",
            "execution_count": null,
            "metadata": {},
            "outputs": [
                {
                    "ename": "FileNotFoundError",
                    "evalue": "No such file or directory (os error 2): /Users/mingyoungjeng/Downloads/results_pooling/results_noiseless.csv",
                    "output_type": "error",
                    "traceback": [
                        "\u001b[0;31m---------------------------------------------------------------------------\u001b[0m",
                        "\u001b[0;31mFileNotFoundError\u001b[0m                         Traceback (most recent call last)",
                        "\u001b[0;32m/var/folders/sy/jspx4wmd7sd9lqc7clfzx4jw0000gn/T/ipykernel_84648/1518985756.py\u001b[0m in \u001b[0;36m?\u001b[0;34m()\u001b[0m\n\u001b[1;32m      2\u001b[0m \u001b[0;34m\u001b[0m\u001b[0m\n\u001b[1;32m      3\u001b[0m \u001b[0mx\u001b[0m \u001b[0;34m=\u001b[0m \u001b[0;34m\"noiseless\"\u001b[0m\u001b[0;34m\u001b[0m\u001b[0;34m\u001b[0m\u001b[0m\n\u001b[1;32m      4\u001b[0m \u001b[0;34m\u001b[0m\u001b[0m\n\u001b[1;32m      5\u001b[0m \u001b[0;31m# read DataFrame\u001b[0m\u001b[0;34m\u001b[0m\u001b[0;34m\u001b[0m\u001b[0m\n\u001b[0;32m----> 6\u001b[0;31m \u001b[0mdf\u001b[0m \u001b[0;34m=\u001b[0m \u001b[0mpl\u001b[0m\u001b[0;34m.\u001b[0m\u001b[0mread_csv\u001b[0m\u001b[0;34m(\u001b[0m\u001b[0;34mf\"/Users/mingyoungjeng/Downloads/results_pooling/results_{x}.csv\"\u001b[0m\u001b[0;34m)\u001b[0m\u001b[0;34m\u001b[0m\u001b[0;34m\u001b[0m\u001b[0m\n\u001b[0m\u001b[1;32m      7\u001b[0m \u001b[0;34m\u001b[0m\u001b[0m\n\u001b[1;32m      8\u001b[0m \u001b[0;34m\u001b[0m\u001b[0m\n\u001b[1;32m      9\u001b[0m \u001b[0;34m\u001b[0m\u001b[0m\n",
                        "\u001b[0;32m~/Documents/repos.nosync/quantum-convolutional-classifier/.env/lib/python3.11/site-packages/polars/utils/deprecation.py\u001b[0m in \u001b[0;36m?\u001b[0;34m(*args, **kwargs)\u001b[0m\n\u001b[1;32m     96\u001b[0m         \u001b[0;32mdef\u001b[0m \u001b[0mwrapper\u001b[0m\u001b[0;34m(\u001b[0m\u001b[0;34m*\u001b[0m\u001b[0margs\u001b[0m\u001b[0;34m:\u001b[0m \u001b[0mP\u001b[0m\u001b[0;34m.\u001b[0m\u001b[0margs\u001b[0m\u001b[0;34m,\u001b[0m \u001b[0;34m**\u001b[0m\u001b[0mkwargs\u001b[0m\u001b[0;34m:\u001b[0m \u001b[0mP\u001b[0m\u001b[0;34m.\u001b[0m\u001b[0mkwargs\u001b[0m\u001b[0;34m)\u001b[0m \u001b[0;34m->\u001b[0m \u001b[0mT\u001b[0m\u001b[0;34m:\u001b[0m\u001b[0;34m\u001b[0m\u001b[0;34m\u001b[0m\u001b[0m\n\u001b[1;32m     97\u001b[0m             _rename_keyword_argument(\n\u001b[1;32m     98\u001b[0m                 \u001b[0mold_name\u001b[0m\u001b[0;34m,\u001b[0m \u001b[0mnew_name\u001b[0m\u001b[0;34m,\u001b[0m \u001b[0mkwargs\u001b[0m\u001b[0;34m,\u001b[0m \u001b[0mfunction\u001b[0m\u001b[0;34m.\u001b[0m\u001b[0m__name__\u001b[0m\u001b[0;34m,\u001b[0m \u001b[0mversion\u001b[0m\u001b[0;34m\u001b[0m\u001b[0;34m\u001b[0m\u001b[0m\n\u001b[1;32m     99\u001b[0m             )\n\u001b[0;32m--> 100\u001b[0;31m             \u001b[0;32mreturn\u001b[0m \u001b[0mfunction\u001b[0m\u001b[0;34m(\u001b[0m\u001b[0;34m*\u001b[0m\u001b[0margs\u001b[0m\u001b[0;34m,\u001b[0m \u001b[0;34m**\u001b[0m\u001b[0mkwargs\u001b[0m\u001b[0;34m)\u001b[0m\u001b[0;34m\u001b[0m\u001b[0;34m\u001b[0m\u001b[0m\n\u001b[0m",
                        "\u001b[0;32m~/Documents/repos.nosync/quantum-convolutional-classifier/.env/lib/python3.11/site-packages/polars/io/csv/functions.py\u001b[0m in \u001b[0;36m?\u001b[0;34m(source, has_header, columns, new_columns, separator, comment_prefix, quote_char, skip_rows, dtypes, schema, null_values, missing_utf8_is_empty_string, ignore_errors, try_parse_dates, n_threads, infer_schema_length, batch_size, n_rows, encoding, low_memory, rechunk, use_pyarrow, storage_options, skip_rows_after_header, row_count_name, row_count_offset, sample_size, eol_char, raise_if_empty, truncate_ragged_lines)\u001b[0m\n\u001b[1;32m    365\u001b[0m         \u001b[0muse_pyarrow\u001b[0m\u001b[0;34m=\u001b[0m\u001b[0;32mFalse\u001b[0m\u001b[0;34m,\u001b[0m\u001b[0;34m\u001b[0m\u001b[0;34m\u001b[0m\u001b[0m\n\u001b[1;32m    366\u001b[0m         \u001b[0mraise_if_empty\u001b[0m\u001b[0;34m=\u001b[0m\u001b[0mraise_if_empty\u001b[0m\u001b[0;34m,\u001b[0m\u001b[0;34m\u001b[0m\u001b[0;34m\u001b[0m\u001b[0m\n\u001b[1;32m    367\u001b[0m         \u001b[0;34m**\u001b[0m\u001b[0mstorage_options\u001b[0m\u001b[0;34m,\u001b[0m\u001b[0;34m\u001b[0m\u001b[0;34m\u001b[0m\u001b[0m\n\u001b[1;32m    368\u001b[0m     ) as data:\n\u001b[0;32m--> 369\u001b[0;31m         df = pl.DataFrame._read_csv(\n\u001b[0m\u001b[1;32m    370\u001b[0m             \u001b[0mdata\u001b[0m\u001b[0;34m,\u001b[0m\u001b[0;34m\u001b[0m\u001b[0;34m\u001b[0m\u001b[0m\n\u001b[1;32m    371\u001b[0m             \u001b[0mhas_header\u001b[0m\u001b[0;34m=\u001b[0m\u001b[0mhas_header\u001b[0m\u001b[0;34m,\u001b[0m\u001b[0;34m\u001b[0m\u001b[0;34m\u001b[0m\u001b[0m\n\u001b[1;32m    372\u001b[0m             \u001b[0mcolumns\u001b[0m\u001b[0;34m=\u001b[0m\u001b[0mcolumns\u001b[0m \u001b[0;32mif\u001b[0m \u001b[0mcolumns\u001b[0m \u001b[0;32melse\u001b[0m \u001b[0mprojection\u001b[0m\u001b[0;34m,\u001b[0m\u001b[0;34m\u001b[0m\u001b[0;34m\u001b[0m\u001b[0m\n",
                        "\u001b[0;32m~/Documents/repos.nosync/quantum-convolutional-classifier/.env/lib/python3.11/site-packages/polars/dataframe/frame.py\u001b[0m in \u001b[0;36m?\u001b[0;34m(cls, source, has_header, columns, separator, comment_prefix, quote_char, skip_rows, dtypes, schema, null_values, missing_utf8_is_empty_string, ignore_errors, try_parse_dates, n_threads, infer_schema_length, batch_size, n_rows, encoding, low_memory, rechunk, skip_rows_after_header, row_count_name, row_count_offset, sample_size, eol_char, raise_if_empty, truncate_ragged_lines)\u001b[0m\n\u001b[1;32m    771\u001b[0m                 )\n\u001b[1;32m    772\u001b[0m \u001b[0;34m\u001b[0m\u001b[0m\n\u001b[1;32m    773\u001b[0m         \u001b[0mprojection\u001b[0m\u001b[0;34m,\u001b[0m \u001b[0mcolumns\u001b[0m \u001b[0;34m=\u001b[0m \u001b[0mhandle_projection_columns\u001b[0m\u001b[0;34m(\u001b[0m\u001b[0mcolumns\u001b[0m\u001b[0;34m)\u001b[0m\u001b[0;34m\u001b[0m\u001b[0;34m\u001b[0m\u001b[0m\n\u001b[1;32m    774\u001b[0m \u001b[0;34m\u001b[0m\u001b[0m\n\u001b[0;32m--> 775\u001b[0;31m         self._df = PyDataFrame.read_csv(\n\u001b[0m\u001b[1;32m    776\u001b[0m             \u001b[0msource\u001b[0m\u001b[0;34m,\u001b[0m\u001b[0;34m\u001b[0m\u001b[0;34m\u001b[0m\u001b[0m\n\u001b[1;32m    777\u001b[0m             \u001b[0minfer_schema_length\u001b[0m\u001b[0;34m,\u001b[0m\u001b[0;34m\u001b[0m\u001b[0;34m\u001b[0m\u001b[0m\n\u001b[1;32m    778\u001b[0m             \u001b[0mbatch_size\u001b[0m\u001b[0;34m,\u001b[0m\u001b[0;34m\u001b[0m\u001b[0;34m\u001b[0m\u001b[0m\n",
                        "\u001b[0;31mFileNotFoundError\u001b[0m: No such file or directory (os error 2): /Users/mingyoungjeng/Downloads/results_pooling/results_noiseless.csv"
                    ]
                }
            ],
            "source": [
                "import polars as pl\n",
                "\n",
                "x = \"noiseless\"\n",
                " \n",
                "# read DataFrame\n",
                "df = pl.read_csv(f\"/Users/mingyoungjeng/Downloads/results_pooling/results_{x}.csv\")\n",
                "\n",
                "\n",
                " \n",
                "for data_size, group in df.group_by(['data_size']):\n",
                "    group = group.select(\"dimension_reduction\",\"fidelity\")\n",
                "    group.write_csv(f'{x}_{data_size[0]}.csv')\n",
                " \n",
                "# print(pd.read_csv(\"Male.csv\"))\n",
                "# print(pd.read_csv(\"Female.csv\"))\n"
            ]
        },
        {
            "cell_type": "code",
            "execution_count": 345,
            "metadata": {},
            "outputs": [],
            "source": [
                "from qcc.quantum import to_qubits\n",
                "import torch\n",
                "\n",
                "def get_params(x_in: np.ndarray | torch.Tensor):\n",
                "    p = x_in\n",
                "    num_qubits = to_qubits(len(x_in))\n",
                "    for i in range(num_qubits):\n",
                "        x = p.reshape((len(p) // 2, 2))\n",
                "        p = x.norm(dim=1) if hasattr(x, \"norm\") else np.linalg.norm(x, axis=1)\n",
                "        \n",
                "        x = (x / (p[:, None]+1e-12)).T\n",
                "        \n",
                "        # ==== Ry angles ==== #\n",
                "        mag = abs(x)\n",
                "        theta = mag[0] + mag[1]*1j\n",
                "        theta = theta.angle() if hasattr(theta, \"angle\") else np.angle(theta)\n",
                "        theta = 2*theta\n",
                "        \n",
                "        # ==== Rz angles ==== #\n",
                "        if i == 0:\n",
                "            phase = x.angle() if hasattr(x, \"angle\") else np.angle(x)\n",
                "            phi = phase[1] - phase[0]\n",
                "            t = phase[1] + phase[0]\n"
            ]
        },
        {
            "cell_type": "code",
            "execution_count": 346,
            "metadata": {},
            "outputs": [
                {
                    "name": "stdout",
                    "output_type": "stream",
                    "text": [
                        "False\n",
                        "===========================\n",
                        "True\n"
                    ]
                }
            ],
            "source": [
                "import torch\n",
                "\n",
                "x_in = np.array([1, 0, 0, 0])\n",
                "get_params(x_in)\n",
                "\n",
                "print(\"===========================\")\n",
                "\n",
                "x_in = torch.tensor(x_in, dtype=torch.complex128, requires_grad=True)\n",
                "get_params(x_in)"
            ]
        },
        {
            "cell_type": "code",
            "execution_count": 335,
            "metadata": {},
            "outputs": [
                {
                    "name": "stdout",
                    "output_type": "stream",
                    "text": [
                        "[0. 0.] [0. 0.] [1. 1.] [0. 0.]\n",
                        "[0.] [0.] [1.] [0.]\n"
                    ]
                }
            ],
            "source": [
                "def get_params(x_in):\n",
                "    p = x_in\n",
                "    while len(p) > 1:\n",
                "        x = np.reshape(p, (int(len(p) / 2), 2))\n",
                "        p = np.linalg.norm(x, axis=1)\n",
                "\n",
                "        with np.errstate(divide=\"ignore\", invalid=\"ignore\"):\n",
                "            alpha, beta = np.array([y / m if m > 0 else (1, 0) for y, m in zip(x, p)]).T\n",
                "\n",
                "            alpha_mag, beta_mag = np.abs((alpha, beta))\n",
                "            alpha_phase, beta_phase = np.angle((alpha, beta))\n",
                "\n",
                "            with np.errstate(divide=\"ignore\"):\n",
                "                theta = 2 * np.arctan(beta_mag / alpha_mag)\n",
                "            phi = beta_phase - alpha_phase\n",
                "            r = np.sqrt(alpha_mag**2 + beta_mag**2)\n",
                "            t = beta_phase + alpha_phase\n",
                "\n",
                "        print(theta, phi, r, t)\n",
                "        \n",
                "x_in = np.array([1, 0, 0, 0])\n",
                "get_params(x_in)"
            ]
        },
        {
            "cell_type": "code",
            "execution_count": 5,
            "metadata": {},
            "outputs": [
                {
                    "data": {
                        "image/png": "[encoded data removed]",
                        "text/plain": [
                            "<Figure size 287.496x284.278 with 1 Axes>"
                        ]
                    },
                    "execution_count": 5,
                    "metadata": {},
                    "output_type": "execute_result"
                }
            ],
            "source": [
                "from qcc.quantum.qiskit.c2q import C2Q\n",
                "import numpy as np\n",
                "from qiskit import QuantumCircuit\n",
                "from qiskit.quantum_info import Statevector\n",
                "\n",
                "qc = QuantumCircuit(3)\n",
                "x_in = np.array([4, -5, 6, 7, 1, 3, 7, 5])\n",
                "n = np.linalg.norm(x_in)\n",
                "\n",
                "test = C2Q(x_in)\n",
                "qc.compose(test, inplace=True)\n",
                "\n",
                "qc.decompose().draw(\"mpl\", reverse_bits=True)"
            ]
        },
        {
            "cell_type": "code",
            "execution_count": 2,
            "metadata": {},
            "outputs": [
                {
                    "data": {
                        "text/plain": [
                            "array([ 3.99961998+0.j, -4.99952498-0.j,  5.99942997+0.j,  6.99933497+0.j,\n",
                            "        0.999905  +0.j,  2.99971499+0.j,  6.99933497+0.j,  4.99952498+0.j])"
                        ]
                    },
                    "execution_count": 2,
                    "metadata": {},
                    "output_type": "execute_result"
                }
            ],
            "source": [
                "n * Statevector(qc).data.round(4)"
            ]
        },
        {
            "cell_type": "code",
            "execution_count": 1,
            "metadata": {},
            "outputs": [
                {
                    "name": "stderr",
                    "output_type": "stream",
                    "text": [
                        "/Users/mingyoungjeng/Documents/repos.nosync/quantum-convolutional-classifier/.env/lib/python3.11/site-packages/qiskit/visualization/circuit/matplotlib.py:266: FutureWarning: The default matplotlib drawer scheme will be changed to \"iqp\" in a following release. To silence this warning, specify the current default explicitly as style=\"clifford\", or the new default as style=\"iqp\".\n",
                        "  self._style, def_font_ratio = load_style(self._style)\n"
                    ]
                },
                {
                    "data": {
                        "image/png": "[encoded data removed]",
                        "text/plain": [
                            "<Figure size 454.719x367.889 with 1 Axes>"
                        ]
                    },
                    "execution_count": 1,
                    "metadata": {},
                    "output_type": "execute_result"
                }
            ],
            "source": [
                "from qcc.quantum.qiskit import Shift\n",
                "import numpy as np\n",
                "from qiskit import QuantumCircuit\n",
                "from qiskit.quantum_info import Statevector\n",
                "\n",
                "qc = QuantumCircuit(4)\n",
                "test = Shift(4, k=5)\n",
                "qc.compose(test, inplace=True)\n",
                "\n",
                "qc.decompose().draw(\"mpl\", reverse_bits=True)"
            ]
        }
    ],
    "metadata": {
        "kernelspec": {
            "display_name": "Python 3",
            "language": "python",
            "name": "python3"
        },
        "language_info": {
            "codemirror_mode": {
                "name": "ipython",
                "version": 3
            },
            "file_extension": ".py",
            "mimetype": "text/x-python",
            "name": "python",
            "nbconvert_exporter": "python",
            "pygments_lexer": "ipython3",
            "version": "3.11.6"
        },
        "orig_nbformat": 4
    },
    "nbformat": 4,
    "nbformat_minor": 2
}
