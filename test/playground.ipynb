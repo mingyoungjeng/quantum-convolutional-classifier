{
    "cells": [
        {
            "cell_type": "code",
            "execution_count": 1,
            "metadata": {},
            "outputs": [
                {
                    "name": "stdout",
                    "output_type": "stream",
                    "text": [
                        "Parameter containing:\n",
                        "tensor([-1.6528,  5.6806], requires_grad=True)\n",
                        "Parameter containing:\n",
                        "tensor([3.7175], requires_grad=True)\n"
                    ]
                }
            ],
            "source": [
                "from qcc.ml import Module\n",
                "\n",
                "class Test(Module):\n",
                "    @Module.parameter(1)\n",
                "    def a(self):\n",
                "        return 1\n",
                "    \n",
                "    @Module.parameter(0)\n",
                "    def b(self):\n",
                "        return 2\n",
                "    \n",
                "t = Test()\n",
                "\n",
                "for x in t.parameters():\n",
                "    print(x)"
            ]
        }
    ],
    "metadata": {
        "kernelspec": {
            "display_name": "Python 3",
            "language": "python",
            "name": "python3"
        },
        "language_info": {
            "codemirror_mode": {
                "name": "ipython",
                "version": 3
            },
            "file_extension": ".py",
            "mimetype": "text/x-python",
            "name": "python",
            "nbconvert_exporter": "python",
            "pygments_lexer": "ipython3",
            "version": "3.11.4"
        },
        "orig_nbformat": 4
    },
    "nbformat": 4,
    "nbformat_minor": 2
}
