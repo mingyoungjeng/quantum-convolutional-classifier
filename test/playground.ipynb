{
    "cells": [
        {
            "cell_type": "code",
            "execution_count": 13,
            "metadata": {},
            "outputs": [
                {
                    "name": "stdout",
                    "output_type": "stream",
                    "text": [
                        "tensor([[[[ 0.,  1.,  2.,  3.],\n",
                        "          [ 4.,  5.,  6.,  7.],\n",
                        "          [ 8.,  9., 10., 11.],\n",
                        "          [12., 13., 14., 15.]],\n",
                        "\n",
                        "         [[16., 17., 18., 19.],\n",
                        "          [20., 21., 22., 23.],\n",
                        "          [24., 25., 26., 27.],\n",
                        "          [28., 29., 30., 31.]]],\n",
                        "\n",
                        "\n",
                        "        [[[32., 33., 34., 35.],\n",
                        "          [36., 37., 38., 39.],\n",
                        "          [40., 41., 42., 43.],\n",
                        "          [44., 45., 46., 47.]],\n",
                        "\n",
                        "         [[48., 49., 50., 51.],\n",
                        "          [52., 53., 54., 55.],\n",
                        "          [56., 57., 58., 59.],\n",
                        "          [60., 61., 62., 63.]]]]) torch.Size([2, 2, 4, 4])\n"
                    ]
                }
            ],
            "source": [
                "import numpy as np\n",
                "import torch\n",
                "import torch.nn.functional as F\n",
                "\n",
                "shape = [2, 2, 4, 4]\n",
                "input = torch.tensor(range(np.prod(shape))).reshape(shape)\n",
                "# test = test.unsqueeze(0)\n",
                "# test = test.unsqueeze(0)\n",
                "input = input.to(torch.float32)\n",
                "\n",
                "print(input, input.shape)"
            ]
        },
        {
            "cell_type": "code",
            "execution_count": 14,
            "metadata": {},
            "outputs": [],
            "source": [
                "kernel_size = 2\n",
                "stride = 1\n",
                "padding = 0\n",
                "dilation = 1"
            ]
        },
        {
            "cell_type": "code",
            "execution_count": null,
            "metadata": {},
            "outputs": [],
            "source": [
                "input_shape = input.shape\n",
                "\n",
                "input = F.unfold(\n",
                "    input,\n",
                "    kernel_size,\n",
                "    dilation,\n",
                "    padding,\n",
                "    stride,\n",
                ")\n",
                "\n",
                "# Move axis with windows to end\n",
                "input = input.moveaxis(-1, -2)\n",
                "unfold_shape = input.shape\n",
                "\n",
                "# Reshape to (batches, windows)\n",
                "qnode_shape = (\n",
                "    np.prod(unfold_shape[:-1]) * input_shape[1],\n",
                "    unfold_shape[-1] // input_shape[1],\n",
                ")\n",
                "input = input.reshape(qnode_shape)\n",
                "\n",
                "# output = input\n",
                "\n",
                "# # Deal with output channels and undo shape\n",
                "# output = output.reshape(unfold_shape)\n",
                "# output = F.adaptive_max_pool1d(output, out_channels)\n",
                "# output = output.moveaxis(-2, -1)\n",
                "\n",
                "# # Generate output shape\n",
                "# output_shape = (\n",
                "#     Layer._size(*args)\n",
                "#     for args in zip(\n",
                "#         input_shape[-2:],\n",
                "#         padding,\n",
                "#         dilation,\n",
                "#         kernel_size,\n",
                "#         stride,\n",
                "#     )\n",
                "# )\n",
                "# output_shape = (*output.shape[:-1], *output_shape)\n",
                "# output = output.reshape(output_shape)\n",
                "\n",
                "# return output"
            ]
        }
    ],
    "metadata": {
        "kernelspec": {
            "display_name": "Python 3",
            "language": "python",
            "name": "python3"
        },
        "language_info": {
            "codemirror_mode": {
                "name": "ipython",
                "version": 3
            },
            "file_extension": ".py",
            "mimetype": "text/x-python",
            "name": "python",
            "nbconvert_exporter": "python",
            "pygments_lexer": "ipython3",
            "version": "3.11.4"
        },
        "orig_nbformat": 4
    },
    "nbformat": 4,
    "nbformat_minor": 2
}
