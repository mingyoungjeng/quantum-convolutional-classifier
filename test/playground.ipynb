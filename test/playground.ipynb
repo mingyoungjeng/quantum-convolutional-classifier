{
    "cells": [
        {
            "cell_type": "code",
            "execution_count": null,
            "metadata": {},
            "outputs": [],
            "source": [
                "from qiskit import QuantumCircuit, transpile\n",
                "import numpy as np\n",
                "\n",
                "num_qubits = 8\n",
                "qc = QuantumCircuit(num_qubits)\n",
                "num_layers = int(np.ceil(np.log2(num_qubits)))\n"
            ]
        },
        {
            "cell_type": "markdown",
            "metadata": {},
            "source": []
        },
        {
            "cell_type": "code",
            "execution_count": null,
            "metadata": {},
            "outputs": [],
            "source": [
                "from qcc.ml import USE_CUDA\n",
                "\n",
                "USE_CUDA\n"
            ]
        },
        {
            "cell_type": "code",
            "execution_count": null,
            "metadata": {},
            "outputs": [],
            "source": [
                "from itertools import zip_longest, tee\n",
                "\n",
                "def convolve(wires):\n",
                "    qc.rz(0.1, wires[0])\n",
                "    qc.sx(wires[0])\n",
                "    qc.rz(0.1, wires[0])\n",
                "    qc.sx(wires[0])\n",
                "    qc.rz(0.1, wires[0])\n",
                "    \n",
                "    qc.rz(0.1, wires[1])\n",
                "    qc.sx(wires[1])\n",
                "    qc.rz(0.1, wires[1])\n",
                "    qc.sx(wires[1])\n",
                "    qc.rz(0.1, wires[1])\n",
                "    \n",
                "    qc.cnot(wires[0], wires[1])\n",
                "    qc.ry(0.1, wires[0])\n",
                "    qc.rz(0.1, wires[1])\n",
                "    qc.cnot(wires[1], wires[0])\n",
                "    qc.ry(0.1, wires[0])\n",
                "    qc.cnot(wires[0], wires[1])\n",
                "    \n",
                "    qc.rz(0.1, wires[0])\n",
                "    qc.sx(wires[0])\n",
                "    qc.rz(0.1, wires[0])\n",
                "    qc.sx(wires[0])\n",
                "    qc.rz(0.1, wires[0])\n",
                "    \n",
                "    qc.rz(0.1, wires[1])\n",
                "    qc.sx(wires[1])\n",
                "    qc.rz(0.1, wires[1])\n",
                "    qc.sx(wires[1])\n",
                "    qc.rz(0.1, wires[1])\n",
                "        \n",
                "def pool(wires):\n",
                "    qc.crz(0.1, wires[0], wires[1])\n",
                "    qc.x(wires[0])\n",
                "    qc.crx(0.1, wires[0], wires[1])\n",
                "\n",
                "def _convolution(iterable):\n",
                "    a, b = tee(iterable)\n",
                "    first = next(b, None)\n",
                "    lst = list(zip_longest(a, b, fillvalue=first))\n",
                "    last = lst.pop()[::-1]\n",
                "    lst = lst[::2] + lst[1::2]\n",
                "\n",
                "    if len(lst) > 1:\n",
                "        lst.insert(0, last)\n",
                "\n",
                "    for wires in lst:\n",
                "        convolve(wires)\n",
                "\n",
                "def _pooling(iterable):\n",
                "    measurements = iterable[1::2]\n",
                "    controlled = iterable[0::2]\n",
                "\n",
                "    for wires in zip(measurements, controlled):\n",
                "        pool(wires)\n",
                "\n",
                "    return controlled\n",
                "\n",
                "wires = qc.qubits\n",
                "for _ in range(num_layers):\n",
                "    _convolution(wires)\n",
                "    wires = _pooling(wires)\n"
            ]
        },
        {
            "cell_type": "code",
            "execution_count": null,
            "metadata": {},
            "outputs": [],
            "source": [
                "qc.draw('mpl')\n"
            ]
        },
        {
            "cell_type": "code",
            "execution_count": null,
            "metadata": {},
            "outputs": [],
            "source": [
                "qc = transpile(qc, basis_gates=[\"cx\", \"sx\", \"x\", \"ry\", \"rx\", \"rz\"], optimization_level=0)\n",
                "qc.depth(), sum(qc.count_ops().values())\n"
            ]
        },
        {
            "cell_type": "code",
            "execution_count": null,
            "metadata": {},
            "outputs": [],
            "source": [
                "135, 415\n",
                "188, 593\n"
            ]
        },
        {
            "cell_type": "code",
            "execution_count": null,
            "metadata": {},
            "outputs": [],
            "source": [
                "qc = QuantumCircuit(num_qubits)\n",
                "\n",
                "def _ry_pool(iterable):\n",
                "    measurements = iterable[1::2]\n",
                "    controlled = iterable[0::2]\n",
                "\n",
                "    for wires in zip(measurements, controlled):\n",
                "        qc.cry(0.1, wires[0], wires[1])\n",
                "\n",
                "    return controlled\n",
                "\n",
                "wires = qc.qubits\n",
                "for _ in range(num_layers):\n",
                "    wires = _ry_pool(wires)\n",
                "    \n",
                "qc = transpile(qc, basis_gates=[\"cx\", \"sx\", \"x\", \"ry\", \"rx\", \"rz\"], optimization_level=0)\n",
                "qc.depth(), sum(qc.count_ops().values())\n"
            ]
        },
        {
            "cell_type": "code",
            "execution_count": null,
            "metadata": {},
            "outputs": [],
            "source": [
                "from pathlib import Path\n",
                "\n",
                "path = Path(\"/Users/mingyoungjeng/Documents/Spring 2023.nosync/quantum-convolutional-classifier/test/tmp\")\n",
                "for file in path.glob(\"**/mqcc*/*.*\"):\n",
                "    stem = file.stem.replace(\"mqcc_\", \"mqcc-optimized_\")\n",
                "    # items = file.stem.split(\"_\")\n",
                "    # items.insert(2, \"16x16\")\n",
                "    # stem = \"_\".join(items)\n",
                "    \n",
                "    # items = file.parent.stem.split(\"_\")\n",
                "    # items.insert(2, \"16x16\")\n",
                "    # parent = \"_\".join(items)\n",
                "    \n",
                "    new_path = file.parent.with_stem(file.parent.stem.replace(\"mqcc\", \"mqcc_optimized\"))\n",
                "    new_path.mkdir(parents=True, exist_ok=True)\n",
                "    \n",
                "    new_path = new_path / f\"{stem}{file.suffix}\"\n",
                "    file.rename(new_path)\n"
            ]
        },
        {
            "cell_type": "code",
            "execution_count": null,
            "metadata": {},
            "outputs": [],
            "source": [
                "from pathlib import Path\n",
                "\n",
                "path = Path(\"/Users/mingyoungjeng/Downloads/results_thesis/_raw_results/CIFAR10\")\n",
                "dest = path / \"32x32\"\n",
                "\n",
                "for file in path.glob(\"**/*_32x32_*.*\"):\n",
                "    parent = dest / file.parent.stem\n",
                "    parent.mkdir(parents=True, exist_ok=True)\n",
                "    \n",
                "    new_path = parent / file.name\n",
                "    file.rename(new_path)\n"
            ]
        },
        {
            "cell_type": "code",
            "execution_count": null,
            "metadata": {},
            "outputs": [],
            "source": [
                "import numpy as np\n",
                "\n",
                "test = np.array([[[0, 1], [2, 3]], [[4, 5], [6, 7]]])\n",
                "print(test)\n",
                "\n",
                "test.reshape(4, 2)\n"
            ]
        },
        {
            "cell_type": "code",
            "execution_count": null,
            "metadata": {},
            "outputs": [],
            "source": [
                "from pathlib import Path\n",
                "from PIL import Image\n",
                "\n",
                "filename = Path(\"../img/color/Jayhawk_512x512x3.jpg\")\n",
                "\n",
                "with Image.open(filename, \"r\") as im:\n",
                "    im.crop((0  , 0  , 256, 256)).save(\"tl.png\")\n",
                "    im.crop((128, 0  , 384, 256)).save(\"tc.png\")\n",
                "    im.crop((256, 0  , 512, 256)).save(\"tr.png\")\n",
                "    \n",
                "    im.crop((0  , 128, 256, 384)).save(\"cl.png\")\n",
                "    im.crop((128, 128, 384, 384)).save(\"cc.png\")\n",
                "    im.crop((256, 128, 512, 384)).save(\"cr.png\")\n",
                "    \n",
                "    im.crop((0  , 256, 256, 512)).save(\"bl.png\")\n",
                "    im.crop((128, 256, 384, 512)).save(\"bc.png\")\n",
                "    im.crop((256, 256, 511, 512)).save(\"br.png\")\n"
            ]
        },
        {
            "cell_type": "code",
            "execution_count": null,
            "metadata": {},
            "outputs": [],
            "source": [
                "from qiskit import QuantumCircuit\n",
                "\n",
                "\n",
                "qc = QuantumCircuit(2)\n",
                "\n",
                "qc.h(1)\n",
                "qc.cx(1, 0)\n",
                "\n",
                "qc.draw('mpl',reverse_bits=True)\n"
            ]
        },
        {
            "cell_type": "code",
            "execution_count": null,
            "metadata": {},
            "outputs": [],
            "source": [
                "from pathlib import Path\n",
                "from qcc.cli.pooling import _pooling\n",
                "\n",
                "inputs = Path(\"/Users/mingyoungjeng/Documents/Spring 2023.nosync/quantum-convolutional-classifier/img/color\")\n",
                "\n",
                "for n in [False]:\n",
                "    for method in [\"none\"]:\n",
                "            _pooling(method, [0], inputs=inputs, output_dir=Path(\"results\"), noise_free=n)\n"
            ]
        },
        {
            "cell_type": "code",
            "execution_count": null,
            "metadata": {},
            "outputs": [],
            "source": [
                "from pathlib import Path\n",
                "\n",
                "path = Path(\"/Users/mingyoungjeng/Downloads/pooling_results/results_pooling_1000000\")\n",
                "for file in path.glob(\"**/*_noisy.png\"):\n",
                "    stem = file.stem.replace(\"_noisy\", \"_100000\")\n",
                "\n",
                "    # parent = dest / file.parent.stem\n",
                "    # parent.mkdir(parents=True, exist_ok=True)\n",
                "    \n",
                "    # new_path = parent / file.name\n",
                "    file.rename(file.with_stem(stem))\n"
            ]
        },
        {
            "cell_type": "code",
            "execution_count": null,
            "metadata": {},
            "outputs": [],
            "source": [
                "from pathlib import Path\n",
                "\n",
                "root = Path(\"/Users/mingyoungjeng/Downloads/results_pooling\")\n",
                "path = Path(\"/Users/mingyoungjeng/Downloads/pooling_results\")\n",
                "for file in path.glob(\"**/*.png\"):\n",
                "    parent = file.parent.stem\n",
                "    \n",
                "    stem = file.stem.split(\"_\")\n",
                "    parent1, parent2, stem = stem[0], stem[-1], [parent, *stem[1:-1]]\n",
                "    stem = \"_\".join(stem)\n",
                "    \n",
                "    parent = root / parent1 / parent2\n",
                "    parent.mkdir(parents=True, exist_ok=True)\n",
                "    \n",
                "    new_path = parent / f\"{stem}.png\"\n",
                "    # print(new_path)\n",
                "    file.rename(new_path)\n"
            ]
        },
        {
            "cell_type": "code",
            "execution_count": null,
            "metadata": {},
            "outputs": [],
            "source": [
                "import polars as pl\n",
                "\n",
                "x = \"noise_free\"\n",
                " \n",
                "# read DataFrame\n",
                "df = pl.read_csv(f\"/Users/mingyoungjeng/Downloads/results_pooling/results_{x}.csv\")\n",
                "\n",
                "\n",
                " \n",
                "for data_size, group in df.group_by(['data_size']):\n",
                "    group = group.select(\"dimension_reduction\",\"fidelity\")\n",
                "    group.write_csv(f'{x}_{data_size[0]}.csv')\n",
                " \n",
                "# print(pd.read_csv(\"Male.csv\"))\n",
                "# print(pd.read_csv(\"Female.csv\"))\n"
            ]
        },
        {
            "cell_type": "code",
            "execution_count": null,
            "metadata": {},
            "outputs": [],
            "source": [
                "from qcc.quantum import to_qubits\n",
                "import torch\n",
                "\n",
                "def get_params(x_in: np.ndarray | torch.Tensor):\n",
                "    p = x_in\n",
                "    num_qubits = to_qubits(len(x_in))\n",
                "    for i in range(num_qubits):\n",
                "        x = p.reshape((len(p) // 2, 2))\n",
                "        p = x.norm(dim=1) if hasattr(x, \"norm\") else np.linalg.norm(x, axis=1)\n",
                "        \n",
                "        x = (x / (p[:, None]+1e-12)).T\n",
                "        \n",
                "        # ==== Ry angles ==== #\n",
                "        mag = abs(x)\n",
                "        theta = mag[0] + mag[1]*1j\n",
                "        theta = theta.angle() if hasattr(theta, \"angle\") else np.angle(theta)\n",
                "        theta = 2*theta\n",
                "        \n",
                "        # ==== Rz angles ==== #\n",
                "        if i == 0:\n",
                "            phase = x.angle() if hasattr(x, \"angle\") else np.angle(x)\n",
                "            phi = phase[1] - phase[0]\n",
                "            t = phase[1] + phase[0]\n"
            ]
        },
        {
            "cell_type": "code",
            "execution_count": null,
            "metadata": {},
            "outputs": [],
            "source": [
                "import torch\n",
                "\n",
                "x_in = np.array([1, 0, 0, 0])\n",
                "get_params(x_in)\n",
                "\n",
                "print(\"===========================\")\n",
                "\n",
                "x_in = torch.tensor(x_in, dtype=torch.complex128, requires_grad=True)\n",
                "get_params(x_in)"
            ]
        },
        {
            "cell_type": "code",
            "execution_count": null,
            "metadata": {},
            "outputs": [],
            "source": [
                "def get_params(x_in):\n",
                "    p = x_in\n",
                "    while len(p) > 1:\n",
                "        x = np.reshape(p, (int(len(p) / 2), 2))\n",
                "        p = np.linalg.norm(x, axis=1)\n",
                "\n",
                "        with np.errstate(divide=\"ignore\", invalid=\"ignore\"):\n",
                "            alpha, beta = np.array([y / m if m > 0 else (1, 0) for y, m in zip(x, p)]).T\n",
                "\n",
                "            alpha_mag, beta_mag = np.abs((alpha, beta))\n",
                "            alpha_phase, beta_phase = np.angle((alpha, beta))\n",
                "\n",
                "            with np.errstate(divide=\"ignore\"):\n",
                "                theta = 2 * np.arctan(beta_mag / alpha_mag)\n",
                "            phi = beta_phase - alpha_phase\n",
                "            r = np.sqrt(alpha_mag**2 + beta_mag**2)\n",
                "            t = beta_phase + alpha_phase\n",
                "\n",
                "        print(theta, phi, r, t)\n",
                "        \n",
                "x_in = np.array([1, 0, 0, 0])\n",
                "get_params(x_in)"
            ]
        },
        {
            "cell_type": "code",
            "execution_count": null,
            "metadata": {},
            "outputs": [],
            "source": [
                "from qcc.quantum.qiskit.c2q import C2Q\n",
                "import numpy as np\n",
                "from qiskit import QuantumCircuit\n",
                "from qiskit.quantum_info import Statevector\n",
                "\n",
                "qc = QuantumCircuit(3)\n",
                "x_in = np.array([4, -5, 6, 7, 1, 3, 7, 5])\n",
                "n = np.linalg.norm(x_in)\n",
                "\n",
                "test = C2Q(x_in)\n",
                "qc.compose(test, inplace=True)\n",
                "\n",
                "qc.decompose().draw(\"mpl\", reverse_bits=True)"
            ]
        },
        {
            "cell_type": "code",
            "execution_count": null,
            "metadata": {},
            "outputs": [],
            "source": [
                "n * Statevector(qc).data.round(4)"
            ]
        },
        {
            "cell_type": "code",
            "execution_count": null,
            "metadata": {},
            "outputs": [],
            "source": [
                "from qcc.quantum.qiskit import Shift\n",
                "import numpy as np\n",
                "from qiskit import QuantumCircuit\n",
                "from qiskit.quantum_info import Statevector\n",
                "\n",
                "qc = QuantumCircuit(4)\n",
                "test = Shift(4, k=5)\n",
                "qc.compose(test, inplace=True)\n",
                "\n",
                "qc.decompose().draw(\"mpl\", reverse_bits=True)"
            ]
        },
        {
            "cell_type": "code",
            "execution_count": null,
            "metadata": {},
            "outputs": [],
            "source": [
                "import torch\n",
                "\n",
                "size = [1, 2, 3]\n",
                "torch.arange(len(size) - 1, -1, -1)"
            ]
        },
        {
            "cell_type": "code",
            "execution_count": null,
            "metadata": {},
            "outputs": [],
            "source": [
                "print(*range(2, -1, -1))"
            ]
        },
        {
            "cell_type": "code",
            "execution_count": 27,
            "metadata": {},
            "outputs": [
                {
                    "ename": "TypeError",
                    "evalue": "object of type 'NoneType' has no len()",
                    "output_type": "error",
                    "traceback": [
                        "\u001b[0;31m---------------------------------------------------------------------------\u001b[0m",
                        "\u001b[0;31mTypeError\u001b[0m                                 Traceback (most recent call last)",
                        "Cell \u001b[0;32mIn[27], line 7\u001b[0m\n\u001b[1;32m      4\u001b[0m \u001b[38;5;28;01mimport\u001b[39;00m \u001b[38;5;21;01mnumpy\u001b[39;00m \u001b[38;5;28;01mas\u001b[39;00m \u001b[38;5;21;01mnp\u001b[39;00m\n\u001b[1;32m      5\u001b[0m \u001b[38;5;28;01mfrom\u001b[39;00m \u001b[38;5;21;01mPIL\u001b[39;00m \u001b[38;5;28;01mimport\u001b[39;00m Image\n\u001b[0;32m----> 7\u001b[0m data \u001b[38;5;241m=\u001b[39m Data(FashionMNIST, \u001b[43mImageTransform\u001b[49m\u001b[43m(\u001b[49m\u001b[43mflatten\u001b[49m\u001b[38;5;241;43m=\u001b[39;49m\u001b[38;5;28;43;01mFalse\u001b[39;49;00m\u001b[43m,\u001b[49m\u001b[43m \u001b[49m\u001b[43mnorm\u001b[49m\u001b[38;5;241;43m=\u001b[39;49m\u001b[38;5;28;43;01mFalse\u001b[39;49;00m\u001b[43m)\u001b[49m, batch_size\u001b[38;5;241m=\u001b[39m\u001b[38;5;241m1\u001b[39m)\n\u001b[1;32m      8\u001b[0m dataloader \u001b[38;5;241m=\u001b[39m data\u001b[38;5;241m.\u001b[39mload(is_train\u001b[38;5;241m=\u001b[39m\u001b[38;5;28;01mTrue\u001b[39;00m)\n\u001b[1;32m      9\u001b[0m \u001b[38;5;28;01mfor\u001b[39;00m j, (data, labels) \u001b[38;5;129;01min\u001b[39;00m \u001b[38;5;28menumerate\u001b[39m(dataloader):\n",
                        "File \u001b[0;32m~/Documents/repos.nosync/quantum-convolutional-classifier/src/qcc/ml/data.py:92\u001b[0m, in \u001b[0;36mImageTransform.__init__\u001b[0;34m(self, dims, fix_bands, flatten, norm, squeeze)\u001b[0m\n\u001b[1;32m     89\u001b[0m \u001b[38;5;28;01mif\u001b[39;00m squeeze:\n\u001b[1;32m     90\u001b[0m     ops \u001b[38;5;241m+\u001b[39m\u001b[38;5;241m=\u001b[39m [transforms\u001b[38;5;241m.\u001b[39mLambda(torch\u001b[38;5;241m.\u001b[39msqueeze)]\n\u001b[0;32m---> 92\u001b[0m \u001b[38;5;28;01mif\u001b[39;00m fix_bands \u001b[38;5;129;01mand\u001b[39;00m \u001b[38;5;28mlen\u001b[39m(dims) \u001b[38;5;241m>\u001b[39m\u001b[38;5;241m=\u001b[39m \u001b[38;5;241m3\u001b[39m:\n\u001b[1;32m     93\u001b[0m     ops \u001b[38;5;241m+\u001b[39m\u001b[38;5;241m=\u001b[39m [\u001b[38;5;28mself\u001b[39m\u001b[38;5;241m.\u001b[39m_fix_bands()]\n\u001b[1;32m     95\u001b[0m \u001b[38;5;28;01mif\u001b[39;00m flatten:\n",
                        "\u001b[0;31mTypeError\u001b[0m: object of type 'NoneType' has no len()"
                    ]
                }
            ],
            "source": [
                "from torchvision.datasets import MNIST, FashionMNIST, CIFAR10\n",
                "from qcc.ml.data import Data, ImageTransform\n",
                "from sympy import Matrix\n",
                "import numpy as np\n",
                "from PIL import Image\n",
                "\n",
                "data = Data(FashionMNIST, ImageTransform(flatten=False, norm=False), batch_size=1)\n",
                "dataloader = data.load(is_train=True)\n",
                "for j, (data, labels) in enumerate(dataloader):\n",
                "    tmp = 255 * data[0]\n",
                "    break\n",
                "\n",
                "tmp = tmp.numpy().astype(np.uint8)\n",
                "img = Image.fromarray(tmp)\n",
                "\n",
                "img.save(\"../img/ml/fashionmnist.png\")\n",
                "\n",
                "img"
            ]
        }
    ],
    "metadata": {
        "kernelspec": {
            "display_name": "Python 3",
            "language": "python",
            "name": "python3"
        },
        "language_info": {
            "codemirror_mode": {
                "name": "ipython",
                "version": 3
            },
            "file_extension": ".py",
            "mimetype": "text/x-python",
            "name": "python",
            "nbconvert_exporter": "python",
            "pygments_lexer": "ipython3",
            "version": "3.11.6"
        },
        "orig_nbformat": 4
    },
    "nbformat": 4,
    "nbformat_minor": 2
}
