{
    "cells": [
        {
            "cell_type": "code",
            "execution_count": 1,
            "metadata": {},
            "outputs": [
                {
                    "name": "stdout",
                    "output_type": "stream",
                    "text": [
                        "2023-06-27 01:04:51,074: (qcnn) Circuit ID: test\n",
                        "2023-06-27 01:04:51,074: (qcnn) data=Data(dataset=<class 'torchvision.datasets.mnist.MNIST'>, transform=image_transform, target_transform=None, classes=(0, 1), batch_size=1)\n",
                        "2023-06-27 01:04:51,074: (qcnn) optimizer=<class 'torch.optim.adam.Adam'>, self.args=(), self.kwargs={}\n",
                        "2023-06-27 01:04:51,074: (qcnn) loss=CrossEntropyLoss()\n",
                        "2023-06-27 01:04:51,074: (qcnn) num_trials=1\n",
                        "2023-06-27 01:04:51,074: (qcnn) dimensions=(28, 28)\n",
                        "2023-06-27 01:04:51,074: (qcnn) num_layers=0\n",
                        "2023-06-27 01:04:51,074: (qcnn) epoch=1\n",
                        "2023-06-27 01:04:51,074: (qcnn) ansatz_options={}\n",
                        "^C\n",
                        "\n",
                        "Aborted!\n"
                    ]
                }
            ],
            "source": [
                "!qcc -n test"
            ]
        }
    ],
    "metadata": {
        "kernelspec": {
            "display_name": "Python 3",
            "language": "python",
            "name": "python3"
        },
        "language_info": {
            "codemirror_mode": {
                "name": "ipython",
                "version": 3
            },
            "file_extension": ".py",
            "mimetype": "text/x-python",
            "name": "python",
            "nbconvert_exporter": "python",
            "pygments_lexer": "ipython3",
            "version": "3.11.4"
        },
        "orig_nbformat": 4
    },
    "nbformat": 4,
    "nbformat_minor": 2
}
