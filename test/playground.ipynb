{
    "cells": [
        {
            "cell_type": "code",
            "execution_count": 1,
            "metadata": {},
            "outputs": [],
            "source": [
                "import numpy as np\n",
                "from torchvision.datasets import MNIST, FashionMNIST, CIFAR10\n",
                "from torch.optim import SGD\n",
                "from torch.nn import CrossEntropyLoss, MSELoss\n",
                "from pennylane import NesterovMomentumOptimizer\n",
                "# rng = np.random.default_rng()\n",
                "\n",
                "%run src/qcnn.py\n",
                "# %run src/qcnn_old.py\n",
                "\n",
                "dims = (16, 16), (28, 28), (32, 32)\n",
                "num_trials = 1"
            ]
        },
        {
            "cell_type": "code",
            "execution_count": 2,
            "metadata": {},
            "outputs": [],
            "source": [
                "%run src/ansatz/baseline.py\n",
                "\n",
                "qcnn = QCNN((16, 16), BaselineAnsatz)\n",
                "\n",
                "# for _ in range(num_trials):\n",
                "#     accuracy = qcnn(FashionMNIST, SGD, CrossEntropyLoss())\n",
                "#     print(f\"New ansatz: {accuracy=:.3%}\")"
            ]
        },
        {
            "cell_type": "code",
            "execution_count": 3,
            "metadata": {},
            "outputs": [],
            "source": [
                "# for dim in dims:\n",
                "#     qcnn = QCNN_Old(dim)\n",
                "\n",
                "#     for _ in range(num_trials):\n",
                "#         accuracy = qcnn(FashionMNIST, SGD, CrossEntropyLoss())\n",
                "#         print(f\"Old ansatz: {accuracy=:.3%}\")"
            ]
        },
        {
            "cell_type": "code",
            "execution_count": 4,
            "metadata": {},
            "outputs": [],
            "source": [
                "# To test:\n",
                "# Dims = 16, 28, 32\n",
                "# Dataset = MNIST, FashionMNIST\n",
                "# All different ansatz\n",
                "# 20 trials each"
            ]
        }
    ],
    "metadata": {
        "kernelspec": {
            "display_name": "Python 3",
            "language": "python",
            "name": "python3"
        },
        "language_info": {
            "codemirror_mode": {
                "name": "ipython",
                "version": 3
            },
            "file_extension": ".py",
            "mimetype": "text/x-python",
            "name": "python",
            "nbconvert_exporter": "python",
            "pygments_lexer": "ipython3",
            "version": "3.10.9"
        },
        "orig_nbformat": 4,
        "vscode": {
            "interpreter": {
                "hash": "c7967d85baf232544f00baec60c53642b018367ac4c489b1a4dde60b922cc6fa"
            }
        }
    },
    "nbformat": 4,
    "nbformat_minor": 2
}
