{
 "cells": [
  {
   "cell_type": "code",
   "execution_count": null,
   "metadata": {},
   "outputs": [],
   "source": [
    "import numpy as np\n",
    "from qiskit import QuantumCircuit\n",
    "from qcc.quantum.qiskit.convolution import Convolution\n",
    "from qcc.quantum.qiskit.c2q import C2QAnsatz, C2Q\n",
    "\n",
    "num_qubits = 3\n",
    "\n",
    "qc = QuantumCircuit(num_qubits)\n",
    "qc.compose(C2Q(num_qubits), inplace=True)\n",
    "qc.assign_parameters(np.arange(qc.num_parameters), inplace=True)\n",
    "\n",
    "qc.decompose().decompose().draw('mpl', reverse_bits=True)"
   ]
  },
  {
   "cell_type": "code",
   "execution_count": null,
   "metadata": {},
   "outputs": [],
   "source": [
    "import numpy as np\n",
    "from qiskit import QuantumCircuit\n",
    "from qcc.quantum.qiskit.convolution import Convolution\n",
    "from qcc.quantum.qiskit.c2q import C2QAnsatz, C2Q\n",
    "\n",
    "num_qubits = 3\n",
    "\n",
    "qc = QuantumCircuit(num_qubits*2 + 5)\n",
    "qc.compose(Convolution([2**num_qubits, 2**num_qubits], (8, 4)), inplace=True)\n",
    "qc.assign_parameters(np.arange(qc.num_parameters), inplace=True)\n",
    "\n",
    "qc.decompose().draw('mpl', reverse_bits=True)"
   ]
  },
  {
   "cell_type": "code",
   "execution_count": 7,
   "metadata": {},
   "outputs": [
    {
     "name": "stdout",
     "output_type": "stream",
     "text": [
      "tensor([[0.4974, 0.5026]], grad_fn=<_TorchNNFunctionBackward>)\n"
     ]
    }
   ],
   "source": [
    "import torch\n",
    "import numpy as np\n",
    "\n",
    "from qcc.quantum.qiskit.qcnn import QCNN\n",
    "\n",
    "qcnn = QCNN.from_dims([16, 16], num_layers=3)\n",
    "\n",
    "test = qcnn.module\n",
    "qnn = test.neural_network\n",
    "\n",
    "predictions = test(torch.rand((1, test.neural_network.num_inputs)))\n",
    "\n",
    "print(predictions)"
   ]
  },
  {
   "cell_type": "code",
   "execution_count": 9,
   "metadata": {},
   "outputs": [
    {
     "data": {
      "text/plain": [
       "(None,\n",
       " array([[[ 4.43277797e-02,  2.04664161e-02,  1.88222065e-02,\n",
       "           7.08865723e-03,  5.37179577e-02,  7.56115876e-02,\n",
       "           5.49343763e-02,  1.25938653e-01,  1.02058104e-01,\n",
       "           1.10441335e-02,  2.86289575e-02,  8.87923719e-03,\n",
       "          -1.12993068e-02, -1.85603637e-02, -2.04592044e-02,\n",
       "           8.26191711e-03, -1.39788723e-02, -2.18475611e-02,\n",
       "          -1.09280330e-02, -4.42976816e-02, -4.63993330e-02,\n",
       "           3.46363677e-02, -2.79662311e-02, -6.07881742e-02,\n",
       "          -1.15743534e-02, -3.90114831e-02, -3.84040537e-02,\n",
       "           9.84756851e-03, -1.84233749e-02, -1.85672136e-02,\n",
       "          -2.26202890e-02, -2.01028227e-02, -2.97889082e-02,\n",
       "          -2.46380981e-02, -5.37364522e-03, -1.27303230e-04,\n",
       "           9.20531456e-03, -2.46695060e-02, -3.49397456e-02,\n",
       "           3.98757440e-03, -1.49058848e-02,  1.70333256e-02,\n",
       "          -7.35574573e-03, -2.02745806e-16,  1.95830703e-03,\n",
       "          -2.74443754e-02, -3.10685272e-03, -1.12162277e-02,\n",
       "          -2.67219296e-03, -4.87890978e-19, -5.35601861e-03],\n",
       "         [-4.43277797e-02, -2.04664161e-02, -1.88222065e-02,\n",
       "          -7.08865723e-03, -5.37179577e-02, -7.56115876e-02,\n",
       "          -5.49343763e-02, -1.25938653e-01, -1.02058104e-01,\n",
       "          -1.10441335e-02, -2.86289575e-02, -8.87923719e-03,\n",
       "           1.12993068e-02,  1.85603637e-02,  2.04592044e-02,\n",
       "          -8.26191711e-03,  1.39788723e-02,  2.18475611e-02,\n",
       "           1.09280330e-02,  4.42976816e-02,  4.63993330e-02,\n",
       "          -3.46363677e-02,  2.79662311e-02,  6.07881742e-02,\n",
       "           1.15743534e-02,  3.90114831e-02,  3.84040537e-02,\n",
       "          -9.84756851e-03,  1.84233749e-02,  1.85672136e-02,\n",
       "           2.26202890e-02,  2.01028227e-02,  2.97889082e-02,\n",
       "           2.46380981e-02,  5.37364522e-03,  1.27303230e-04,\n",
       "          -9.20531456e-03,  2.46695060e-02,  3.49397456e-02,\n",
       "          -3.98757440e-03,  1.49058848e-02, -1.70333256e-02,\n",
       "           7.35574573e-03, -2.49908601e-16, -1.95830703e-03,\n",
       "           2.74443754e-02,  3.10685272e-03,  1.12162277e-02,\n",
       "           2.67219296e-03,  2.16840434e-19,  5.35601861e-03]]]))"
      ]
     },
     "execution_count": 9,
     "metadata": {},
     "output_type": "execute_result"
    }
   ],
   "source": [
    "qnn.backward(torch.rand((1, qnn.num_inputs)), torch.rand((1, qnn.num_weights)))"
   ]
  },
  {
   "cell_type": "code",
   "execution_count": 10,
   "metadata": {},
   "outputs": [],
   "source": [
    "from torch.optim import Adam\n",
    "from torch.nn import CrossEntropyLoss, MSELoss\n",
    "\n",
    "optimizer = Adam(test.parameters())\n",
    "\n",
    "optimizer.zero_grad()\n",
    "cost = CrossEntropyLoss()(predictions, torch.tensor([1]))\n",
    "cost.backward()\n",
    "optimizer.step()"
   ]
  }
 ],
 "metadata": {
  "kernelspec": {
   "display_name": "Python 3",
   "language": "python",
   "name": "python3"
  },
  "language_info": {
   "codemirror_mode": {
    "name": "ipython",
    "version": 3
   },
   "file_extension": ".py",
   "mimetype": "text/x-python",
   "name": "python",
   "nbconvert_exporter": "python",
   "pygments_lexer": "ipython3",
   "version": "3.11.4"
  },
  "orig_nbformat": 4
 },
 "nbformat": 4,
 "nbformat_minor": 2
}
