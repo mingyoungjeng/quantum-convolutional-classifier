{
    "cells": [
        {
            "cell_type": "code",
            "execution_count": 1,
            "metadata": {},
            "outputs": [],
            "source": [
                "import numpy as np\n",
                "from torchvision.datasets import MNIST, FashionMNIST, CIFAR10\n",
                "from torch.optim import SGD, Adam\n",
                "from torch.nn import CrossEntropyLoss, MSELoss\n",
                "from pennylane import NesterovMomentumOptimizer\n",
                "from thesis.qcnn import QCNN\n",
                "\n",
                "dims = (16, 16), (28, 28), (32, 32)\n",
                "num_trials = 3"
            ]
        },
        {
            "cell_type": "code",
            "execution_count": 2,
            "metadata": {},
            "outputs": [
                {
                    "name": "stderr",
                    "output_type": "stream",
                    "text": [
                        "2023-06-02 04:19:38,044: (qcnn_trial_0) Number of Parameters: 66\n"
                    ]
                }
            ],
            "source": [
                "from thesis.quantum.operation.ansatz.convolution.v3 import ConvolutionAnsatz as A\n",
                "from thesis.ml.data import BinaryData\n",
                "from thesis.ml.optimize import Optimizer\n",
                "from thesis.ml.data import image_transform\n",
                "from thesis.experiment import Experiment\n",
                "from thesis.cnn import CNN\n",
                "\n",
                "dims = (16, 16)\n",
                "\n",
                "data = BinaryData(FashionMNIST, image_transform(dims, flatten=True), batch_size=(80, 1000))\n",
                "# optimizer = Optimizer(SGD, lr=0.01, momentum=0.9, nesterov=True)\n",
                "optimizer = Optimizer(Adam)\n",
                "qcnn = QCNN.with_logging(data, optimizer, CrossEntropyLoss(), epoch=1)\n",
                "\n",
                "# qcnn.ansatz = A.from_dims(dims, num_layers=2)\n",
                "# qcnn.draw()\n",
                "    \n",
                "experiment = Experiment(qcnn, num_trials, results_schema=[\"accuracy\"])\n",
                "# experiment(dims, 1)\n",
                "experiment(A, dims, num_layers=2)\n",
                "\n",
                "experiment.draw()"
            ]
        }
    ],
    "metadata": {
        "kernelspec": {
            "display_name": "Python 3",
            "language": "python",
            "name": "python3"
        },
        "language_info": {
            "codemirror_mode": {
                "name": "ipython",
                "version": 3
            },
            "file_extension": ".py",
            "mimetype": "text/x-python",
            "name": "python",
            "nbconvert_exporter": "python",
            "pygments_lexer": "ipython3",
            "version": "3.10.9"
        },
        "orig_nbformat": 4,
        "vscode": {
            "interpreter": {
                "hash": "c7967d85baf232544f00baec60c53642b018367ac4c489b1a4dde60b922cc6fa"
            }
        }
    },
    "nbformat": 4,
    "nbformat_minor": 2
}
