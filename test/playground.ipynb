{
    "cells": [
        {
            "cell_type": "code",
            "execution_count": 4,
            "metadata": {},
            "outputs": [],
            "source": [
                "class Yeet(type):\n",
                "    def __init__(self, *args, **kwargs):\n",
                "        print(\"meta init\")\n",
                "        super().__init__(*args, **kwargs)"
            ]
        },
        {
            "cell_type": "code",
            "execution_count": 6,
            "metadata": {},
            "outputs": [
                {
                    "name": "stdout",
                    "output_type": "stream",
                    "text": [
                        "meta init\n",
                        "class init\n"
                    ]
                },
                {
                    "data": {
                        "text/plain": [
                            "<__main__.Yote at 0x106e23990>"
                        ]
                    },
                    "execution_count": 6,
                    "metadata": {},
                    "output_type": "execute_result"
                }
            ],
            "source": [
                "class Yote(metaclass=Yeet):\n",
                "    def __init__(self):\n",
                "        print(\"class init\")\n",
                "        \n",
                "Yote()"
            ]
        }
    ],
    "metadata": {
        "kernelspec": {
            "display_name": "Python 3",
            "language": "python",
            "name": "python3"
        },
        "language_info": {
            "codemirror_mode": {
                "name": "ipython",
                "version": 3
            },
            "file_extension": ".py",
            "mimetype": "text/x-python",
            "name": "python",
            "nbconvert_exporter": "python",
            "pygments_lexer": "ipython3",
            "version": "3.11.4"
        },
        "orig_nbformat": 4
    },
    "nbformat": 4,
    "nbformat_minor": 2
}
