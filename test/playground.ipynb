{
    "cells": [
        {
            "cell_type": "code",
            "execution_count": 5,
            "metadata": {},
            "outputs": [],
            "source": [
                "import numpy as np\n",
                "from torchvision.datasets import MNIST, FashionMNIST, CIFAR10\n",
                "from torch.optim import SGD, Adam\n",
                "from torch.nn import CrossEntropyLoss, MSELoss\n",
                "from pennylane import NesterovMomentumOptimizer\n",
                "from thesis.qcnn import QCNN\n",
                "\n",
                "dims = (16, 16), (28, 28), (32, 32)\n",
                "num_trials = 1"
            ]
        },
        {
            "cell_type": "code",
            "execution_count": 6,
            "metadata": {},
            "outputs": [
                {
                    "name": "stderr",
                    "output_type": "stream",
                    "text": [
                        "2023-05-29 18:44:26,991: (qcnn_trial_0) Number of Parameters: 51\n",
                        "2023-05-29 18:44:47,285: (qcnn_trial_0) Accuracy: 51.700%\n"
                    ]
                },
                {
                    "data": {
                        "text/html": [
                            "<div><style>\n",
                            ".dataframe > thead > tr > th,\n",
                            ".dataframe > tbody > tr > td {\n",
                            "  text-align: right;\n",
                            "}\n",
                            "</style>\n",
                            "<small>shape: (1, 1)</small><table border=\"1\" class=\"dataframe\"><thead><tr><th>accuracy</th></tr><tr><td>f64</td></tr></thead><tbody><tr><td>0.517</td></tr></tbody></table></div>"
                        ],
                        "text/plain": [
                            "shape: (1, 1)\n",
                            "┌──────────┐\n",
                            "│ accuracy │\n",
                            "│ ---      │\n",
                            "│ f64      │\n",
                            "╞══════════╡\n",
                            "│ 0.517    │\n",
                            "└──────────┘"
                        ]
                    },
                    "execution_count": 6,
                    "metadata": {},
                    "output_type": "execute_result"
                }
            ],
            "source": [
                "from thesis.quantum.operation.ansatz import BaselineAnsatz as A\n",
                "from thesis.ml.data import Data\n",
                "from thesis.ml.optimize import Optimizer\n",
                "from thesis.ml.data import image_transform\n",
                "from thesis.experiment import Experiment\n",
                "from thesis.cnn import CNN\n",
                "\n",
                "dims = (16, 16)\n",
                "\n",
                "data = Data(FashionMNIST, image_transform(dims, flatten=True), None, classes=[0, 1], batch_size=(80, 1000))\n",
                "# optimizer = Optimizer(SGD, lr=0.01, momentum=0.9, nesterov=True)\n",
                "optimizer = Optimizer(Adam)\n",
                "cnn = QCNN.with_logging(data, optimizer, CrossEntropyLoss(), epoch=1)\n",
                "    \n",
                "experiment = Experiment(cnn, num_trials, results_schema=[\"accuracy\"])\n",
                "# experiment(dims, 1)\n",
                "experiment(A, dims)"
            ]
        }
    ],
    "metadata": {
        "kernelspec": {
            "display_name": "Python 3",
            "language": "python",
            "name": "python3"
        },
        "language_info": {
            "codemirror_mode": {
                "name": "ipython",
                "version": 3
            },
            "file_extension": ".py",
            "mimetype": "text/x-python",
            "name": "python",
            "nbconvert_exporter": "python",
            "pygments_lexer": "ipython3",
            "version": "3.10.9"
        },
        "orig_nbformat": 4,
        "vscode": {
            "interpreter": {
                "hash": "c7967d85baf232544f00baec60c53642b018367ac4c489b1a4dde60b922cc6fa"
            }
        }
    },
    "nbformat": 4,
    "nbformat_minor": 2
}
