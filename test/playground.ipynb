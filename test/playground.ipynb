{
    "cells": [
        {
            "cell_type": "code",
            "execution_count": 1,
            "metadata": {},
            "outputs": [],
            "source": [
                "import numpy as np\n",
                "from torchvision.datasets import MNIST, FashionMNIST, CIFAR10\n",
                "from torch.optim import SGD\n",
                "from torch.nn import CrossEntropyLoss, MSELoss\n",
                "from pennylane import NesterovMomentumOptimizer\n",
                "from thesis.qcnn import QCNN\n",
                "\n",
                "dims = (16, 16), (28, 28), (32, 32)\n",
                "num_trials = 1"
            ]
        },
        {
            "cell_type": "code",
            "execution_count": 2,
            "metadata": {},
            "outputs": [
                {
                    "name": "stdout",
                    "output_type": "stream",
                    "text": [
                        "51\n"
                    ]
                },
                {
                    "ename": "TypeError",
                    "evalue": "object of type 'NoneType' has no len()",
                    "output_type": "error",
                    "traceback": [
                        "\u001b[0;31m---------------------------------------------------------------------------\u001b[0m",
                        "\u001b[0;31mAttributeError\u001b[0m                            Traceback (most recent call last)",
                        "File \u001b[0;32m~/Documents/Spring 2023.nosync/thesis/.env/lib/python3.10/site-packages/numpy/lib/shape_base.py:767\u001b[0m, in \u001b[0;36marray_split\u001b[0;34m(ary, indices_or_sections, axis)\u001b[0m\n\u001b[1;32m    766\u001b[0m \u001b[39mtry\u001b[39;00m:\n\u001b[0;32m--> 767\u001b[0m     Ntotal \u001b[39m=\u001b[39m ary\u001b[39m.\u001b[39;49mshape[axis]\n\u001b[1;32m    768\u001b[0m \u001b[39mexcept\u001b[39;00m \u001b[39mAttributeError\u001b[39;00m:\n",
                        "\u001b[0;31mAttributeError\u001b[0m: 'NoneType' object has no attribute 'shape'",
                        "\nDuring handling of the above exception, another exception occurred:\n",
                        "\u001b[0;31mTypeError\u001b[0m                                 Traceback (most recent call last)",
                        "Cell \u001b[0;32mIn[2], line 11\u001b[0m\n\u001b[1;32m      8\u001b[0m qcnn \u001b[39m=\u001b[39m QCNN(data, optimizer, CrossEntropyLoss())\n\u001b[1;32m     10\u001b[0m \u001b[39mfor\u001b[39;00m _ \u001b[39min\u001b[39;00m \u001b[39mrange\u001b[39m(num_trials):\n\u001b[0;32m---> 11\u001b[0m     accuracy \u001b[39m=\u001b[39m qcnn(BaselineAnsatz, (\u001b[39m16\u001b[39;49m, \u001b[39m16\u001b[39;49m))\n\u001b[1;32m     12\u001b[0m     \u001b[39mprint\u001b[39m(\u001b[39mf\u001b[39m\u001b[39m\"\u001b[39m\u001b[39mNew ansatz: \u001b[39m\u001b[39m{\u001b[39;00maccuracy\u001b[39m=:\u001b[39;00m\u001b[39m.3%\u001b[39m\u001b[39m}\u001b[39;00m\u001b[39m\"\u001b[39m)\n",
                        "File \u001b[0;32m~/Documents/Spring 2023.nosync/thesis/src/thesis/qcnn.py:53\u001b[0m, in \u001b[0;36mQCNN.__call__\u001b[0;34m(self, ansatz, *args, **kwargs)\u001b[0m\n\u001b[1;32m     50\u001b[0m \u001b[39mself\u001b[39m\u001b[39m.\u001b[39mansatz \u001b[39m=\u001b[39m ansatz\u001b[39m.\u001b[39mfrom_dims(\u001b[39m*\u001b[39margs, \u001b[39m*\u001b[39m\u001b[39m*\u001b[39mkwargs)\n\u001b[1;32m     51\u001b[0m \u001b[39mprint\u001b[39m(\u001b[39mself\u001b[39m\u001b[39m.\u001b[39mansatz\u001b[39m.\u001b[39mshape)\n\u001b[0;32m---> 53\u001b[0m \u001b[39mreturn\u001b[39;00m \u001b[39msuper\u001b[39;49m()\u001b[39m.\u001b[39;49m\u001b[39m__call__\u001b[39;49m(\u001b[39mself\u001b[39;49m\u001b[39m.\u001b[39;49mpredict, \u001b[39mself\u001b[39;49m\u001b[39m.\u001b[39;49mansatz\u001b[39m.\u001b[39;49mshape)\n",
                        "File \u001b[0;32m~/Documents/Spring 2023.nosync/thesis/src/thesis/ml/model.py:24\u001b[0m, in \u001b[0;36mModel.__call__\u001b[0;34m(self, fn, params)\u001b[0m\n\u001b[1;32m     21\u001b[0m training_dataloader, testing_dataloader \u001b[39m=\u001b[39m \u001b[39mself\u001b[39m\u001b[39m.\u001b[39mdata\u001b[39m.\u001b[39mload()\n\u001b[1;32m     23\u001b[0m opt \u001b[39m=\u001b[39m \u001b[39mself\u001b[39m\u001b[39m.\u001b[39moptimizer(params)\n\u001b[0;32m---> 24\u001b[0m parameters \u001b[39m=\u001b[39m train(fn, opt, training_dataloader, \u001b[39mself\u001b[39;49m\u001b[39m.\u001b[39;49mcost_fn)\n\u001b[1;32m     26\u001b[0m accuracy \u001b[39m=\u001b[39m test(fn, parameters, testing_dataloader)\n\u001b[1;32m     28\u001b[0m \u001b[39mreturn\u001b[39;00m accuracy\n",
                        "File \u001b[0;32m~/Documents/Spring 2023.nosync/thesis/src/thesis/ml/optimize.py:61\u001b[0m, in \u001b[0;36mtrain\u001b[0;34m(fn, optimizer, training_dataloader, cost_fn)\u001b[0m\n\u001b[1;32m     54\u001b[0m \u001b[39mdef\u001b[39;00m \u001b[39mtrain\u001b[39m(\n\u001b[1;32m     55\u001b[0m     fn: MLFunction,\n\u001b[1;32m     56\u001b[0m     optimizer: Optimizer,\n\u001b[1;32m     57\u001b[0m     training_dataloader: DataLoader,\n\u001b[1;32m     58\u001b[0m     cost_fn: CostFunction,\n\u001b[1;32m     59\u001b[0m ):\n\u001b[1;32m     60\u001b[0m     \u001b[39mfor\u001b[39;00m i, (data, labels) \u001b[39min\u001b[39;00m \u001b[39menumerate\u001b[39m(training_dataloader):\n\u001b[0;32m---> 61\u001b[0m         predictions \u001b[39m=\u001b[39m fn(optimizer\u001b[39m.\u001b[39;49mparameters, data)\n\u001b[1;32m     62\u001b[0m         backpropagate(predictions, labels, optimizer, cost_fn)\n\u001b[1;32m     64\u001b[0m     \u001b[39mreturn\u001b[39;00m optimizer\u001b[39m.\u001b[39mparameters\n",
                        "File \u001b[0;32m~/Documents/Spring 2023.nosync/thesis/src/thesis/qcnn.py:42\u001b[0m, in \u001b[0;36mQCNN.predict\u001b[0;34m(self, *args, **kwargs)\u001b[0m\n\u001b[1;32m     41\u001b[0m \u001b[39mdef\u001b[39;00m \u001b[39mpredict\u001b[39m(\u001b[39mself\u001b[39m, \u001b[39m*\u001b[39margs, \u001b[39m*\u001b[39m\u001b[39m*\u001b[39mkwargs) \u001b[39m-\u001b[39m\u001b[39m>\u001b[39m Tensor:\n\u001b[0;32m---> 42\u001b[0m     result \u001b[39m=\u001b[39m \u001b[39mself\u001b[39;49m\u001b[39m.\u001b[39;49mansatz\u001b[39m.\u001b[39;49mqnode(\u001b[39m*\u001b[39;49margs, \u001b[39m*\u001b[39;49m\u001b[39m*\u001b[39;49mkwargs)\n\u001b[1;32m     44\u001b[0m     \u001b[39mif\u001b[39;00m result\u001b[39m.\u001b[39mdim() \u001b[39m==\u001b[39m \u001b[39m1\u001b[39m:  \u001b[39m# Makes sure batch is 2D array\u001b[39;00m\n\u001b[1;32m     45\u001b[0m         result \u001b[39m=\u001b[39m result\u001b[39m.\u001b[39munsqueeze(\u001b[39m0\u001b[39m)\n",
                        "File \u001b[0;32m~/Documents/Spring 2023.nosync/thesis/.env/lib/python3.10/site-packages/pennylane/qnode.py:800\u001b[0m, in \u001b[0;36mQNode.__call__\u001b[0;34m(self, *args, **kwargs)\u001b[0m\n\u001b[1;32m    797\u001b[0m         set_shots(\u001b[39mself\u001b[39m\u001b[39m.\u001b[39m_original_device, override_shots)(\u001b[39mself\u001b[39m\u001b[39m.\u001b[39m_update_gradient_fn)()\n\u001b[1;32m    799\u001b[0m \u001b[39m# construct the tape\u001b[39;00m\n\u001b[0;32m--> 800\u001b[0m \u001b[39mself\u001b[39;49m\u001b[39m.\u001b[39;49mconstruct(args, kwargs)\n\u001b[1;32m    802\u001b[0m cache \u001b[39m=\u001b[39m \u001b[39mself\u001b[39m\u001b[39m.\u001b[39mexecute_kwargs\u001b[39m.\u001b[39mget(\u001b[39m\"\u001b[39m\u001b[39mcache\u001b[39m\u001b[39m\"\u001b[39m, \u001b[39mFalse\u001b[39;00m)\n\u001b[1;32m    803\u001b[0m using_custom_cache \u001b[39m=\u001b[39m (\n\u001b[1;32m    804\u001b[0m     \u001b[39mhasattr\u001b[39m(cache, \u001b[39m\"\u001b[39m\u001b[39m__getitem__\u001b[39m\u001b[39m\"\u001b[39m)\n\u001b[1;32m    805\u001b[0m     \u001b[39mand\u001b[39;00m \u001b[39mhasattr\u001b[39m(cache, \u001b[39m\"\u001b[39m\u001b[39m__setitem__\u001b[39m\u001b[39m\"\u001b[39m)\n\u001b[1;32m    806\u001b[0m     \u001b[39mand\u001b[39;00m \u001b[39mhasattr\u001b[39m(cache, \u001b[39m\"\u001b[39m\u001b[39m__delitem__\u001b[39m\u001b[39m\"\u001b[39m)\n\u001b[1;32m    807\u001b[0m )\n",
                        "File \u001b[0;32m~/Documents/Spring 2023.nosync/thesis/.env/lib/python3.10/site-packages/pennylane/qnode.py:711\u001b[0m, in \u001b[0;36mQNode.construct\u001b[0;34m(self, args, kwargs)\u001b[0m\n\u001b[1;32m    708\u001b[0m \u001b[39mdef\u001b[39;00m \u001b[39mconstruct\u001b[39m(\u001b[39mself\u001b[39m, args, kwargs):\n\u001b[1;32m    709\u001b[0m \u001b[39m    \u001b[39m\u001b[39m\"\"\"Call the quantum function with a tape context, ensuring the operations get queued.\"\"\"\u001b[39;00m\n\u001b[0;32m--> 711\u001b[0m     \u001b[39mself\u001b[39m\u001b[39m.\u001b[39m_tape \u001b[39m=\u001b[39m make_qscript(\u001b[39mself\u001b[39;49m\u001b[39m.\u001b[39;49mfunc)(\u001b[39m*\u001b[39;49margs, \u001b[39m*\u001b[39;49m\u001b[39m*\u001b[39;49mkwargs)\n\u001b[1;32m    712\u001b[0m     \u001b[39mself\u001b[39m\u001b[39m.\u001b[39m_tape\u001b[39m.\u001b[39m_queue_category \u001b[39m=\u001b[39m \u001b[39m\"\u001b[39m\u001b[39m_ops\u001b[39m\u001b[39m\"\u001b[39m\n\u001b[1;32m    713\u001b[0m     \u001b[39mself\u001b[39m\u001b[39m.\u001b[39m_qfunc_output \u001b[39m=\u001b[39m \u001b[39mself\u001b[39m\u001b[39m.\u001b[39mtape\u001b[39m.\u001b[39m_qfunc_output\n",
                        "File \u001b[0;32m~/Documents/Spring 2023.nosync/thesis/.env/lib/python3.10/site-packages/pennylane/tape/qscript.py:1346\u001b[0m, in \u001b[0;36mmake_qscript.<locals>.wrapper\u001b[0;34m(*args, **kwargs)\u001b[0m\n\u001b[1;32m   1344\u001b[0m \u001b[39mdef\u001b[39;00m \u001b[39mwrapper\u001b[39m(\u001b[39m*\u001b[39margs, \u001b[39m*\u001b[39m\u001b[39m*\u001b[39mkwargs):\n\u001b[1;32m   1345\u001b[0m     \u001b[39mwith\u001b[39;00m AnnotatedQueue() \u001b[39mas\u001b[39;00m q:\n\u001b[0;32m-> 1346\u001b[0m         result \u001b[39m=\u001b[39m fn(\u001b[39m*\u001b[39;49margs, \u001b[39m*\u001b[39;49m\u001b[39m*\u001b[39;49mkwargs)\n\u001b[1;32m   1348\u001b[0m     qscript \u001b[39m=\u001b[39m QuantumScript\u001b[39m.\u001b[39mfrom_queue(q)\n\u001b[1;32m   1349\u001b[0m     qscript\u001b[39m.\u001b[39m_qfunc_output \u001b[39m=\u001b[39m result\n",
                        "File \u001b[0;32m~/Documents/Spring 2023.nosync/thesis/src/thesis/operation/unitary.py:107\u001b[0m, in \u001b[0;36mAnsatz.__call__\u001b[0;34m(self, params, psi_in)\u001b[0m\n\u001b[1;32m    105\u001b[0m \u001b[39mdef\u001b[39;00m \u001b[39m__call__\u001b[39m(\u001b[39mself\u001b[39m, params: Parameters, psi_in: Iterable[Number]) \u001b[39m-\u001b[39m\u001b[39m>\u001b[39m Iterable[\u001b[39mfloat\u001b[39m]:\n\u001b[1;32m    106\u001b[0m     \u001b[39mself\u001b[39m\u001b[39m.\u001b[39mc2q(psi_in)\n\u001b[0;32m--> 107\u001b[0m     meas \u001b[39m=\u001b[39m \u001b[39mself\u001b[39;49m\u001b[39m.\u001b[39;49mcircuit(params)\n\u001b[1;32m    108\u001b[0m     \u001b[39mreturn\u001b[39;00m \u001b[39mself\u001b[39m\u001b[39m.\u001b[39mq2c(meas)\n",
                        "File \u001b[0;32m~/Documents/Spring 2023.nosync/thesis/src/thesis/operation/ansatz/baseline.py:99\u001b[0m, in \u001b[0;36mBaselineAnsatz.circuit\u001b[0;34m(self, params)\u001b[0m\n\u001b[1;32m     97\u001b[0m \u001b[39mdef\u001b[39;00m \u001b[39mcircuit\u001b[39m(\u001b[39mself\u001b[39m, params):\n\u001b[1;32m     98\u001b[0m     idx \u001b[39m=\u001b[39m np\u001b[39m.\u001b[39mcumsum([\u001b[39mself\u001b[39m\u001b[39m.\u001b[39mconvolve\u001b[39m.\u001b[39mshape(), \u001b[39mself\u001b[39m\u001b[39m.\u001b[39mpool\u001b[39m.\u001b[39mshape()])\n\u001b[0;32m---> 99\u001b[0m     conv_params, pool_params, params \u001b[39m=\u001b[39m np\u001b[39m.\u001b[39;49msplit(params, idx)\n\u001b[1;32m    100\u001b[0m     wires \u001b[39m=\u001b[39m \u001b[39mself\u001b[39m\u001b[39m.\u001b[39mwires\n\u001b[1;32m    101\u001b[0m     \u001b[39mfor\u001b[39;00m _ \u001b[39min\u001b[39;00m \u001b[39mrange\u001b[39m(\u001b[39mself\u001b[39m\u001b[39m.\u001b[39mnum_layers):\n",
                        "File \u001b[0;32m<__array_function__ internals>:180\u001b[0m, in \u001b[0;36msplit\u001b[0;34m(*args, **kwargs)\u001b[0m\n",
                        "File \u001b[0;32m~/Documents/Spring 2023.nosync/thesis/.env/lib/python3.10/site-packages/numpy/lib/shape_base.py:874\u001b[0m, in \u001b[0;36msplit\u001b[0;34m(ary, indices_or_sections, axis)\u001b[0m\n\u001b[1;32m    871\u001b[0m     \u001b[39mif\u001b[39;00m N \u001b[39m%\u001b[39m sections:\n\u001b[1;32m    872\u001b[0m         \u001b[39mraise\u001b[39;00m \u001b[39mValueError\u001b[39;00m(\n\u001b[1;32m    873\u001b[0m             \u001b[39m'\u001b[39m\u001b[39marray split does not result in an equal division\u001b[39m\u001b[39m'\u001b[39m) \u001b[39mfrom\u001b[39;00m \u001b[39mNone\u001b[39m\n\u001b[0;32m--> 874\u001b[0m \u001b[39mreturn\u001b[39;00m array_split(ary, indices_or_sections, axis)\n",
                        "File \u001b[0;32m<__array_function__ internals>:180\u001b[0m, in \u001b[0;36marray_split\u001b[0;34m(*args, **kwargs)\u001b[0m\n",
                        "File \u001b[0;32m~/Documents/Spring 2023.nosync/thesis/.env/lib/python3.10/site-packages/numpy/lib/shape_base.py:769\u001b[0m, in \u001b[0;36marray_split\u001b[0;34m(ary, indices_or_sections, axis)\u001b[0m\n\u001b[1;32m    767\u001b[0m     Ntotal \u001b[39m=\u001b[39m ary\u001b[39m.\u001b[39mshape[axis]\n\u001b[1;32m    768\u001b[0m \u001b[39mexcept\u001b[39;00m \u001b[39mAttributeError\u001b[39;00m:\n\u001b[0;32m--> 769\u001b[0m     Ntotal \u001b[39m=\u001b[39m \u001b[39mlen\u001b[39;49m(ary)\n\u001b[1;32m    770\u001b[0m \u001b[39mtry\u001b[39;00m:\n\u001b[1;32m    771\u001b[0m     \u001b[39m# handle array case.\u001b[39;00m\n\u001b[1;32m    772\u001b[0m     Nsections \u001b[39m=\u001b[39m \u001b[39mlen\u001b[39m(indices_or_sections) \u001b[39m+\u001b[39m \u001b[39m1\u001b[39m\n",
                        "\u001b[0;31mTypeError\u001b[0m: object of type 'NoneType' has no len()"
                    ]
                }
            ],
            "source": [
                "from thesis.operation.ansatz import BaselineAnsatz\n",
                "from thesis.ml.data import Data\n",
                "from thesis.ml.optimize import Optimizer\n",
                "from thesis.ml.data import image_transform\n",
                "\n",
                "data = Data(FashionMNIST, image_transform((16, 16)), None, classes=[0, 1], batch_size=40)\n",
                "optimizer = Optimizer(SGD, lr=0.01, momentum=0.9, nesterov=True)\n",
                "qcnn = QCNN(data, optimizer, CrossEntropyLoss())\n",
                "\n",
                "for _ in range(num_trials):\n",
                "    accuracy = qcnn(BaselineAnsatz, (16, 16))\n",
                "    print(f\"New ansatz: {accuracy=:.3%}\")"
            ]
        }
    ],
    "metadata": {
        "kernelspec": {
            "display_name": "Python 3",
            "language": "python",
            "name": "python3"
        },
        "language_info": {
            "codemirror_mode": {
                "name": "ipython",
                "version": 3
            },
            "file_extension": ".py",
            "mimetype": "text/x-python",
            "name": "python",
            "nbconvert_exporter": "python",
            "pygments_lexer": "ipython3",
            "version": "3.10.9"
        },
        "orig_nbformat": 4,
        "vscode": {
            "interpreter": {
                "hash": "c7967d85baf232544f00baec60c53642b018367ac4c489b1a4dde60b922cc6fa"
            }
        }
    },
    "nbformat": 4,
    "nbformat_minor": 2
}
