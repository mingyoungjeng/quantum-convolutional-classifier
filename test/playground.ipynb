{
    "cells": [
        {
            "cell_type": "code",
            "execution_count": 1,
            "metadata": {},
            "outputs": [],
            "source": [
                "import numpy as np\n",
                "from torchvision.datasets import MNIST, FashionMNIST, CIFAR10\n",
                "from torch.optim import SGD, Adam\n",
                "from torch.nn import CrossEntropyLoss, MSELoss\n",
                "from pennylane import NesterovMomentumOptimizer\n",
                "from thesis.qcnn import QCNN\n",
                "\n",
                "dims = (16, 16), (28, 28), (32, 32)\n",
                "num_trials = 3"
            ]
        },
        {
            "cell_type": "code",
            "execution_count": 2,
            "metadata": {},
            "outputs": [
                {
                    "name": "stderr",
                    "output_type": "stream",
                    "text": [
                        "2023-05-20 03:24:55,901: (cnn_trial_0) Number of Parameters: 3\n",
                        "2023-05-20 03:24:58,243: (cnn_trial_0) Accuracy: 99.433%\n",
                        "2023-05-20 03:24:58,267: (cnn_trial_1) Number of Parameters: 3\n",
                        "2023-05-20 03:25:00,580: (cnn_trial_1) Accuracy: 99.527%\n",
                        "2023-05-20 03:25:00,596: (cnn_trial_2) Number of Parameters: 3\n",
                        "2023-05-20 03:25:02,907: (cnn_trial_2) Accuracy: 99.338%\n"
                    ]
                },
                {
                    "data": {
                        "text/html": [
                            "<div><style>\n",
                            ".dataframe > thead > tr > th,\n",
                            ".dataframe > tbody > tr > td {\n",
                            "  text-align: right;\n",
                            "}\n",
                            "</style>\n",
                            "<small>shape: (3, 1)</small><table border=\"1\" class=\"dataframe\"><thead><tr><th>accuracy</th></tr><tr><td>f64</td></tr></thead><tbody><tr><td>0.994326</td></tr><tr><td>0.995272</td></tr><tr><td>0.993381</td></tr></tbody></table></div>"
                        ],
                        "text/plain": [
                            "shape: (3, 1)\n",
                            "┌──────────┐\n",
                            "│ accuracy │\n",
                            "│ ---      │\n",
                            "│ f64      │\n",
                            "╞══════════╡\n",
                            "│ 0.994326 │\n",
                            "│ 0.995272 │\n",
                            "│ 0.993381 │\n",
                            "└──────────┘"
                        ]
                    },
                    "execution_count": 2,
                    "metadata": {},
                    "output_type": "execute_result"
                }
            ],
            "source": [
                "from thesis.quantum.operation.ansatz import BaselineAnsatz as A\n",
                "from thesis.ml.data import Data\n",
                "from thesis.ml.optimize import Optimizer\n",
                "from thesis.ml.data import image_transform\n",
                "from thesis.experiment import Experiment\n",
                "from thesis.cnn import CNN\n",
                "\n",
                "dims = (16, 16)\n",
                "\n",
                "data = Data(MNIST, image_transform(dims, flatten=False), None, classes=[0, 1], batch_size=(80, 1000))\n",
                "# optimizer = Optimizer(SGD, lr=0.01, momentum=0.9, nesterov=True)\n",
                "optimizer = Optimizer(Adam)\n",
                "cnn = CNN.with_logging(data, optimizer, CrossEntropyLoss(), epoch=1)\n",
                "    \n",
                "experiment = Experiment(cnn, num_trials, results_schema=[\"accuracy\"])\n",
                "experiment((16, 16), 3)"
            ]
        }
    ],
    "metadata": {
        "kernelspec": {
            "display_name": "Python 3",
            "language": "python",
            "name": "python3"
        },
        "language_info": {
            "codemirror_mode": {
                "name": "ipython",
                "version": 3
            },
            "file_extension": ".py",
            "mimetype": "text/x-python",
            "name": "python",
            "nbconvert_exporter": "python",
            "pygments_lexer": "ipython3",
            "version": "3.10.9"
        },
        "orig_nbformat": 4,
        "vscode": {
            "interpreter": {
                "hash": "c7967d85baf232544f00baec60c53642b018367ac4c489b1a4dde60b922cc6fa"
            }
        }
    },
    "nbformat": 4,
    "nbformat_minor": 2
}
