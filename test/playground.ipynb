{
 "cells": [
  {
   "cell_type": "code",
   "execution_count": null,
   "metadata": {},
   "outputs": [],
   "source": [
    "import numpy as np\n",
    "from qiskit import QuantumCircuit\n",
    "from qcc.quantum.qiskit.convolution import Convolution\n",
    "from qcc.quantum.qiskit.c2q import C2QAnsatz, C2Q\n",
    "\n",
    "num_qubits = 3\n",
    "\n",
    "qc = QuantumCircuit(num_qubits)\n",
    "qc.compose(C2Q(num_qubits), inplace=True)\n",
    "qc.assign_parameters(np.arange(qc.num_parameters), inplace=True)\n",
    "\n",
    "qc.decompose().decompose().draw('mpl', reverse_bits=True)"
   ]
  },
  {
   "cell_type": "code",
   "execution_count": null,
   "metadata": {},
   "outputs": [],
   "source": [
    "import numpy as np\n",
    "from qiskit import QuantumCircuit\n",
    "from qcc.quantum.qiskit.convolution import Convolution\n",
    "from qcc.quantum.qiskit.c2q import C2QAnsatz, C2Q\n",
    "\n",
    "num_qubits = 3\n",
    "\n",
    "qc = QuantumCircuit(num_qubits*2 + 5)\n",
    "qc.compose(Convolution([2**num_qubits, 2**num_qubits], (8, 4)), inplace=True)\n",
    "qc.assign_parameters(np.arange(qc.num_parameters), inplace=True)\n",
    "\n",
    "qc.decompose().draw('mpl', reverse_bits=True)"
   ]
  },
  {
   "cell_type": "code",
   "execution_count": 7,
   "metadata": {},
   "outputs": [
    {
     "name": "stdout",
     "output_type": "stream",
     "text": [
      "tensor([[0.4974, 0.5026]], grad_fn=<_TorchNNFunctionBackward>)\n"
     ]
    }
   ],
   "source": [
    "import torch\n",
    "import numpy as np\n",
    "\n",
    "from qcc.quantum.qiskit.qcnn import QCNN\n",
    "\n",
    "qcnn = QCNN.from_dims([16, 16], num_layers=3)\n",
    "\n",
    "test = qcnn.module\n",
    "qnn = test.neural_network\n",
    "\n",
    "predictions = test(torch.rand((1, test.neural_network.num_inputs)))\n",
    "\n",
    "print(predictions)"
   ]
  },
  {
   "cell_type": "code",
   "execution_count": 9,
   "metadata": {},
   "outputs": [
    {
     "data": {
      "text/plain": [
       "(None,\n",
       " array([[[ 4.43277797e-02,  2.04664161e-02,  1.88222065e-02,\n",
       "           7.08865723e-03,  5.37179577e-02,  7.56115876e-02,\n",
       "           5.49343763e-02,  1.25938653e-01,  1.02058104e-01,\n",
       "           1.10441335e-02,  2.86289575e-02,  8.87923719e-03,\n",
       "          -1.12993068e-02, -1.85603637e-02, -2.04592044e-02,\n",
       "           8.26191711e-03, -1.39788723e-02, -2.18475611e-02,\n",
       "          -1.09280330e-02, -4.42976816e-02, -4.63993330e-02,\n",
       "           3.46363677e-02, -2.79662311e-02, -6.07881742e-02,\n",
       "          -1.15743534e-02, -3.90114831e-02, -3.84040537e-02,\n",
       "           9.84756851e-03, -1.84233749e-02, -1.85672136e-02,\n",
       "          -2.26202890e-02, -2.01028227e-02, -2.97889082e-02,\n",
       "          -2.46380981e-02, -5.37364522e-03, -1.27303230e-04,\n",
       "           9.20531456e-03, -2.46695060e-02, -3.49397456e-02,\n",
       "           3.98757440e-03, -1.49058848e-02,  1.70333256e-02,\n",
       "          -7.35574573e-03, -2.02745806e-16,  1.95830703e-03,\n",
       "          -2.74443754e-02, -3.10685272e-03, -1.12162277e-02,\n",
       "          -2.67219296e-03, -4.87890978e-19, -5.35601861e-03],\n",
       "         [-4.43277797e-02, -2.04664161e-02, -1.88222065e-02,\n",
       "          -7.08865723e-03, -5.37179577e-02, -7.56115876e-02,\n",
       "          -5.49343763e-02, -1.25938653e-01, -1.02058104e-01,\n",
       "          -1.10441335e-02, -2.86289575e-02, -8.87923719e-03,\n",
       "           1.12993068e-02,  1.85603637e-02,  2.04592044e-02,\n",
       "          -8.26191711e-03,  1.39788723e-02,  2.18475611e-02,\n",
       "           1.09280330e-02,  4.42976816e-02,  4.63993330e-02,\n",
       "          -3.46363677e-02,  2.79662311e-02,  6.07881742e-02,\n",
       "           1.15743534e-02,  3.90114831e-02,  3.84040537e-02,\n",
       "          -9.84756851e-03,  1.84233749e-02,  1.85672136e-02,\n",
       "           2.26202890e-02,  2.01028227e-02,  2.97889082e-02,\n",
       "           2.46380981e-02,  5.37364522e-03,  1.27303230e-04,\n",
       "          -9.20531456e-03,  2.46695060e-02,  3.49397456e-02,\n",
       "          -3.98757440e-03,  1.49058848e-02, -1.70333256e-02,\n",
       "           7.35574573e-03, -2.49908601e-16, -1.95830703e-03,\n",
       "           2.74443754e-02,  3.10685272e-03,  1.12162277e-02,\n",
       "           2.67219296e-03,  2.16840434e-19,  5.35601861e-03]]]))"
      ]
     },
     "execution_count": 9,
     "metadata": {},
     "output_type": "execute_result"
    }
   ],
   "source": [
    "qnn.backward(torch.rand((1, qnn.num_inputs)), torch.rand((1, qnn.num_weights)))"
   ]
  },
  {
   "cell_type": "code",
   "execution_count": 1,
   "metadata": {},
   "outputs": [
    {
     "ename": "NameError",
     "evalue": "name 'test' is not defined",
     "output_type": "error",
     "traceback": [
      "\u001b[0;31m---------------------------------------------------------------------------\u001b[0m",
      "\u001b[0;31mNameError\u001b[0m                                 Traceback (most recent call last)",
      "Cell \u001b[0;32mIn[1], line 4\u001b[0m\n\u001b[1;32m      1\u001b[0m \u001b[39mfrom\u001b[39;00m \u001b[39mtorch\u001b[39;00m\u001b[39m.\u001b[39;00m\u001b[39moptim\u001b[39;00m \u001b[39mimport\u001b[39;00m Adam\n\u001b[1;32m      2\u001b[0m \u001b[39mfrom\u001b[39;00m \u001b[39mtorch\u001b[39;00m\u001b[39m.\u001b[39;00m\u001b[39mnn\u001b[39;00m \u001b[39mimport\u001b[39;00m CrossEntropyLoss, MSELoss\n\u001b[0;32m----> 4\u001b[0m optimizer \u001b[39m=\u001b[39m Adam(test\u001b[39m.\u001b[39mparameters())\n\u001b[1;32m      6\u001b[0m optimizer\u001b[39m.\u001b[39mzero_grad()\n\u001b[1;32m      7\u001b[0m cost \u001b[39m=\u001b[39m CrossEntropyLoss()(predictions, torch\u001b[39m.\u001b[39mtensor([\u001b[39m1\u001b[39m]))\n",
      "\u001b[0;31mNameError\u001b[0m: name 'test' is not defined"
     ]
    }
   ],
   "source": [
    "from torch.optim import Adam\n",
    "from torch.nn import CrossEntropyLoss, MSELoss\n",
    "\n",
    "optimizer = Adam(test.parameters())\n",
    "\n",
    "optimizer.zero_grad()\n",
    "cost = CrossEntropyLoss()(predictions, torch.tensor([1]))\n",
    "cost.backward()\n",
    "optimizer.step()"
   ]
  },
  {
   "cell_type": "code",
   "execution_count": 11,
   "metadata": {},
   "outputs": [
    {
     "data": {
      "image/png": "[encoded data removed]",
      "text/plain": [
       "<Figure size 515.006x367.889 with 1 Axes>"
      ]
     },
     "execution_count": 11,
     "metadata": {},
     "output_type": "execute_result"
    }
   ],
   "source": [
    "from qiskit import QuantumCircuit, Aer\n",
    "\n",
    "qc = QuantumCircuit(2)\n",
    "\n",
    "qc.h([0, 1])\n",
    "qc.measure_all()\n",
    "\n",
    "qc.draw('mpl', reverse_bits=True)"
   ]
  },
  {
   "cell_type": "code",
   "execution_count": 12,
   "metadata": {},
   "outputs": [],
   "source": [
    "from qiskit.result import sampled_expectation_value\n",
    "\n",
    "backend = Aer.get_backend(\"aer_simulator\")\n",
    "\n",
    "result = backend.run(qc, shots=10000).result()"
   ]
  },
  {
   "cell_type": "code",
   "execution_count": 14,
   "metadata": {},
   "outputs": [
    {
     "name": "stdout",
     "output_type": "stream",
     "text": [
      "{'01': 2456, '00': 2509, '11': 2511, '10': 2524}\n"
     ]
    }
   ],
   "source": [
    "counts = result.get_counts()\n",
    "\n",
    "print(counts)"
   ]
  },
  {
   "cell_type": "code",
   "execution_count": 47,
   "metadata": {},
   "outputs": [
    {
     "data": {
      "text/plain": [
       "0.25"
      ]
     },
     "execution_count": 47,
     "metadata": {},
     "output_type": "execute_result"
    }
   ],
   "source": [
    "sampled_expectation_value({\n",
    "    \"00\": 1,\n",
    "    \"01\": 1,\n",
    "    \"10\": 1,\n",
    "    \"11\": 1,\n",
    "}, oper=\"00\")"
   ]
  },
  {
   "cell_type": "code",
   "execution_count": 1,
   "metadata": {},
   "outputs": [
    {
     "data": {
      "text/plain": [
       "tensor(0., requires_grad=True)"
      ]
     },
     "execution_count": 1,
     "metadata": {},
     "output_type": "execute_result"
    }
   ],
   "source": [
    "import pennylane as qml\n",
    "\n",
    "dev = qml.device(\"default.qubit\", wires=3)\n",
    "\n",
    "@qml.qnode(dev)\n",
    "def my_quantum_function(x, y):\n",
    "    qml.RZ(x, wires=0)\n",
    "    qml.CNOT(wires=[0, 1])\n",
    "    qml.RY(y, wires=1)\n",
    "    qml.CNOT(wires=[0, 2])\n",
    "    return qml.expval(qml.PauliZ(0) @ qml.PauliX(2))\n",
    "\n",
    "my_quantum_function(1, 2)"
   ]
  }
 ],
 "metadata": {
  "kernelspec": {
   "display_name": "Python 3",
   "language": "python",
   "name": "python3"
  },
  "language_info": {
   "codemirror_mode": {
    "name": "ipython",
    "version": 3
   },
   "file_extension": ".py",
   "mimetype": "text/x-python",
   "name": "python",
   "nbconvert_exporter": "python",
   "pygments_lexer": "ipython3",
   "version": "3.11.6"
  },
  "orig_nbformat": 4
 },
 "nbformat": 4,
 "nbformat_minor": 2
}
