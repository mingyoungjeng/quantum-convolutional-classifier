{
    "cells": [
        {
            "cell_type": "code",
            "execution_count": 1,
            "metadata": {},
            "outputs": [],
            "source": [
                "import numpy as np\n",
                "from torchvision.datasets import MNIST, FashionMNIST, CIFAR10\n",
                "from torch.optim import SGD\n",
                "from torch.nn import CrossEntropyLoss, MSELoss\n",
                "from pennylane import NesterovMomentumOptimizer\n",
                "from thesis.qcnn import QCNN\n",
                "\n",
                "dims = (16, 16), (28, 28), (32, 32)\n",
                "num_trials = 1"
            ]
        },
        {
            "cell_type": "code",
            "execution_count": 2,
            "metadata": {},
            "outputs": [
                {
                    "name": "stderr",
                    "output_type": "stream",
                    "text": [
                        "INFO:potato:Accuracy: 93.050%\n"
                    ]
                },
                {
                    "name": "stdout",
                    "output_type": "stream",
                    "text": [
                        "New ansatz: accuracy=93.050%\n"
                    ]
                }
            ],
            "source": [
                "from thesis.operation.ansatz import ConvolutionAnsatz\n",
                "from thesis.ml.data import Data\n",
                "from thesis.ml.optimize import Optimizer\n",
                "from thesis.ml.data import image_transform\n",
                "from thesis.logger import Logger\n",
                "\n",
                "data = Data(FashionMNIST, image_transform((16, 16)), None, classes=[0, 1], batch_size=(80, 1000))\n",
                "optimizer = Optimizer(SGD, lr=0.01, momentum=0.9, nesterov=True)\n",
                "qcnn = QCNN(data, optimizer, CrossEntropyLoss(), Logger.from_schema([(\"a\",int)], name=\"potato\"))\n",
                "\n",
                "for _ in range(num_trials):\n",
                "    accuracy = qcnn(ConvolutionAnsatz, (16, 16))\n",
                "    print(f\"New ansatz: {accuracy=:.3%}\")"
            ]
        },
        {
            "cell_type": "code",
            "execution_count": 3,
            "metadata": {},
            "outputs": [],
            "source": [
                "from thesis.logger import Logger\n",
                "\n",
                "test = Logger.from_schema([(\"a\", int)], name=\"yeetus\")"
            ]
        },
        {
            "cell_type": "code",
            "execution_count": 4,
            "metadata": {},
            "outputs": [
                {
                    "name": "stderr",
                    "output_type": "stream",
                    "text": [
                        "INFO:yeetus:{'a': 3}\n"
                    ]
                }
            ],
            "source": [
                "test.log(3)"
            ]
        }
    ],
    "metadata": {
        "kernelspec": {
            "display_name": "Python 3",
            "language": "python",
            "name": "python3"
        },
        "language_info": {
            "codemirror_mode": {
                "name": "ipython",
                "version": 3
            },
            "file_extension": ".py",
            "mimetype": "text/x-python",
            "name": "python",
            "nbconvert_exporter": "python",
            "pygments_lexer": "ipython3",
            "version": "3.10.9"
        },
        "orig_nbformat": 4,
        "vscode": {
            "interpreter": {
                "hash": "c7967d85baf232544f00baec60c53642b018367ac4c489b1a4dde60b922cc6fa"
            }
        }
    },
    "nbformat": 4,
    "nbformat_minor": 2
}
