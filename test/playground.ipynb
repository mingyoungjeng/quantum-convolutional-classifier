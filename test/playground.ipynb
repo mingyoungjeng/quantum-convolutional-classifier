{
    "cells": [
        {
            "cell_type": "code",
            "execution_count": 1,
            "metadata": {},
            "outputs": [],
            "source": [
                "import numpy as np\n",
                "from torchvision.datasets import MNIST, FashionMNIST, CIFAR10\n",
                "from torch.optim import SGD, Adam\n",
                "from torch.nn import CrossEntropyLoss, MSELoss\n",
                "from pennylane import NesterovMomentumOptimizer\n",
                "from thesis.qcnn import QCNN\n",
                "\n",
                "dims = (16, 16), (28, 28), (32, 32)\n",
                "num_trials = 3"
            ]
        },
        {
            "cell_type": "code",
            "execution_count": 2,
            "metadata": {},
            "outputs": [
                {
                    "name": "stderr",
                    "output_type": "stream",
                    "text": [
                        "2023-05-31 11:47:00,375: (qcnn_trial_0) Number of Parameters: 51\n",
                        "2023-05-31 11:47:17,732: (qcnn_trial_0) Accuracy: 92.650%\n",
                        "2023-05-31 11:47:17,749: (qcnn_trial_1) Number of Parameters: 51\n",
                        "2023-05-31 11:47:34,287: (qcnn_trial_1) Accuracy: 88.250%\n",
                        "2023-05-31 11:47:34,302: (qcnn_trial_2) Number of Parameters: 51\n",
                        "2023-05-31 11:47:49,969: (qcnn_trial_2) Accuracy: 92.350%\n"
                    ]
                },
                {
                    "data": {
                        "text/html": [
                            "<div><style>\n",
                            ".dataframe > thead > tr > th,\n",
                            ".dataframe > tbody > tr > td {\n",
                            "  text-align: right;\n",
                            "}\n",
                            "</style>\n",
                            "<small>shape: (3, 1)</small><table border=\"1\" class=\"dataframe\"><thead><tr><th>accuracy</th></tr><tr><td>f64</td></tr></thead><tbody><tr><td>0.9265</td></tr><tr><td>0.8825</td></tr><tr><td>0.9235</td></tr></tbody></table></div>"
                        ],
                        "text/plain": [
                            "shape: (3, 1)\n",
                            "┌──────────┐\n",
                            "│ accuracy │\n",
                            "│ ---      │\n",
                            "│ f64      │\n",
                            "╞══════════╡\n",
                            "│ 0.9265   │\n",
                            "│ 0.8825   │\n",
                            "│ 0.9235   │\n",
                            "└──────────┘"
                        ]
                    },
                    "execution_count": 2,
                    "metadata": {},
                    "output_type": "execute_result"
                }
            ],
            "source": [
                "from thesis.quantum.operation.ansatz import BaselineAnsatz as A\n",
                "from thesis.ml.data import BinaryData\n",
                "from thesis.ml.optimize import Optimizer\n",
                "from thesis.ml.data import image_transform\n",
                "from thesis.experiment import Experiment\n",
                "from thesis.cnn import CNN\n",
                "\n",
                "dims = (16, 16)\n",
                "\n",
                "data = BinaryData(FashionMNIST, image_transform(dims, flatten=True), batch_size=(80, 1000))\n",
                "# optimizer = Optimizer(SGD, lr=0.01, momentum=0.9, nesterov=True)\n",
                "optimizer = Optimizer(Adam)\n",
                "cnn = QCNN.with_logging(data, optimizer, CrossEntropyLoss(), epoch=1)\n",
                "    \n",
                "experiment = Experiment(cnn, num_trials, results_schema=[\"accuracy\"])\n",
                "# experiment(dims, 1)\n",
                "experiment(A, dims)"
            ]
        }
    ],
    "metadata": {
        "kernelspec": {
            "display_name": "Python 3",
            "language": "python",
            "name": "python3"
        },
        "language_info": {
            "codemirror_mode": {
                "name": "ipython",
                "version": 3
            },
            "file_extension": ".py",
            "mimetype": "text/x-python",
            "name": "python",
            "nbconvert_exporter": "python",
            "pygments_lexer": "ipython3",
            "version": "3.10.9"
        },
        "orig_nbformat": 4,
        "vscode": {
            "interpreter": {
                "hash": "c7967d85baf232544f00baec60c53642b018367ac4c489b1a4dde60b922cc6fa"
            }
        }
    },
    "nbformat": 4,
    "nbformat_minor": 2
}
