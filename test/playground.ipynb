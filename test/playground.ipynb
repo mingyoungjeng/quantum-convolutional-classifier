{
    "cells": [
        {
            "cell_type": "code",
            "execution_count": 1,
            "metadata": {},
            "outputs": [],
            "source": [
                "import numpy as np\n",
                "from torchvision.datasets import MNIST, FashionMNIST, CIFAR10\n",
                "from torch.optim import SGD\n",
                "from torch.nn import CrossEntropyLoss, MSELoss\n",
                "from pennylane import NesterovMomentumOptimizer\n",
                "from thesis.qcnn import QCNN\n",
                "\n",
                "dims = (16, 16), (28, 28), (32, 32)\n",
                "num_trials = 1"
            ]
        },
        {
            "cell_type": "code",
            "execution_count": 2,
            "metadata": {},
            "outputs": [
                {
                    "name": "stdout",
                    "output_type": "stream",
                    "text": [
                        "New ansatz: accuracy=90.550%\n"
                    ]
                }
            ],
            "source": [
                "from thesis.operation.ansatz import BaselineAnsatz\n",
                "from thesis.ml.data import Data\n",
                "from thesis.ml.optimize import Optimizer\n",
                "from thesis.ml.data import image_transform\n",
                "\n",
                "data = Data(FashionMNIST, image_transform((16, 16)), None, classes=[0, 1], batch_size=40)\n",
                "optimizer = Optimizer(SGD, lr=0.01, momentum=0.9, nesterov=True)\n",
                "qcnn = QCNN(data, optimizer, CrossEntropyLoss())\n",
                "\n",
                "for _ in range(num_trials):\n",
                "    accuracy = qcnn(BaselineAnsatz, (16, 16))\n",
                "    print(f\"New ansatz: {accuracy=:.3%}\")"
            ]
        },
        {
            "cell_type": "code",
            "execution_count": 3,
            "metadata": {},
            "outputs": [
                {
                    "data": {
                        "text/plain": [
                            "tensor([-4.5765e-02,  7.9935e-01, -3.7380e-01,  1.4373e+00,  5.2809e-01,\n",
                            "         5.4720e-01, -1.0870e+00, -6.6234e-01, -1.0488e+00, -1.7396e-01,\n",
                            "         1.1051e+00,  6.4705e-01, -1.7782e+00, -6.2740e-01,  1.6417e+00,\n",
                            "        -6.9680e-01,  1.2863e+00, -2.6506e-01, -1.3776e+00, -2.1283e+00,\n",
                            "         2.2712e-01,  2.1360e-01, -1.0757e+00,  4.1644e-02, -9.8557e-01,\n",
                            "        -3.0567e-01, -6.0147e-01, -1.6008e+00, -8.6339e-01,  1.0339e+00,\n",
                            "         1.2897e-01, -4.4971e-01,  8.6895e-01,  4.2214e-01,  1.3937e+00,\n",
                            "        -4.6003e-01,  6.0596e-01,  2.4117e-03,  2.5941e+00, -2.0494e-01,\n",
                            "         1.2000e+00,  2.6816e-01, -3.5818e-02, -7.8356e-01, -7.9043e-01,\n",
                            "        -2.0637e-01,  7.4554e-01,  5.2625e-01, -1.3002e+00,  1.1012e-01,\n",
                            "         2.0880e-01], requires_grad=True)"
                        ]
                    },
                    "execution_count": 3,
                    "metadata": {},
                    "output_type": "execute_result"
                }
            ],
            "source": [
                "optimizer.parameters"
            ]
        }
    ],
    "metadata": {
        "kernelspec": {
            "display_name": "Python 3",
            "language": "python",
            "name": "python3"
        },
        "language_info": {
            "codemirror_mode": {
                "name": "ipython",
                "version": 3
            },
            "file_extension": ".py",
            "mimetype": "text/x-python",
            "name": "python",
            "nbconvert_exporter": "python",
            "pygments_lexer": "ipython3",
            "version": "3.10.9"
        },
        "orig_nbformat": 4,
        "vscode": {
            "interpreter": {
                "hash": "c7967d85baf232544f00baec60c53642b018367ac4c489b1a4dde60b922cc6fa"
            }
        }
    },
    "nbformat": 4,
    "nbformat_minor": 2
}
