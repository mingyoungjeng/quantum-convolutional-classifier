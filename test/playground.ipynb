{
 "cells": [
  {
   "cell_type": "code",
   "execution_count": 1,
   "metadata": {},
   "outputs": [
    {
     "data": {
      "text/plain": [
       "tensor([ 0.67587122-9.13476639e-18j,  0.19949589+3.10696442e-01j,\n",
       "         0.19949589+3.10696442e-01j, -0.08394154+1.83415602e-01j,\n",
       "         0.19949589+3.10696442e-01j, -0.08394154+1.83415602e-01j,\n",
       "        -0.08394154+1.83415602e-01j, -0.10909263+1.55507768e-02j], requires_grad=True)"
      ]
     },
     "execution_count": 1,
     "metadata": {},
     "output_type": "execute_result"
    }
   ],
   "source": [
    "from qcnn.quantum.operation import C2Q\n",
    "import pennylane as qml\n",
    "from pennylane import numpy as np\n",
    "\n",
    "device = qml.device('default.qubit', wires=range(3))\n",
    "\n",
    "theta = np.ones(7)\n",
    "phi = np.ones(7)\n",
    "t = np.ones(7)\n",
    "\n",
    "@qml.qnode(device)\n",
    "def circuit():\n",
    "    C2Q(theta, phi, t, wires=range(3), angles=True)\n",
    "    return qml.state()\n",
    "    \n",
    "circuit()"
   ]
  },
  {
   "cell_type": "code",
   "execution_count": 26,
   "metadata": {},
   "outputs": [
    {
     "name": "stdout",
     "output_type": "stream",
     "text": [
      "31 16\n",
      "[23, 24, 25, 26, 27, 28, 29, 30]\n"
     ]
    },
    {
     "data": {
      "text/plain": [
       "([0, 1, 2, 3, 4, 5, 6, 7],\n",
       " [8, 9, 10, 11, 12, 13, 14, 15, 16, 17, 18, 19, 20, 21, 22],\n",
       " [23, 24, 25, 26, 27, 28, 29, 30])"
      ]
     },
     "execution_count": 26,
     "metadata": {},
     "output_type": "execute_result"
    }
   ],
   "source": [
    "import torch\n",
    "import numpy as np\n",
    "\n",
    "i = 4\n",
    "n = 2 ** (i + 1) - 1\n",
    "params = list(range(n))\n",
    "\n",
    "print(n, 2 ** i, )\n",
    "num_phi = (len(params) + 1) // 4\n",
    "\n",
    "print(params[-num_phi:])\n",
    "\n",
    "t, theta, phi = params[:num_phi], params[num_phi:-num_phi], params[-num_phi:]\n",
    "\n",
    "t, theta, phi"
   ]
  },
  {
   "cell_type": "code",
   "execution_count": 7,
   "metadata": {},
   "outputs": [
    {
     "ename": "TypeError",
     "evalue": "'int' object is not iterable",
     "output_type": "error",
     "traceback": [
      "\u001b[0;31m---------------------------------------------------------------------------\u001b[0m",
      "\u001b[0;31mTypeError\u001b[0m                                 Traceback (most recent call last)",
      "Cell \u001b[0;32mIn[7], line 3\u001b[0m\n\u001b[1;32m      1\u001b[0m \u001b[39mfrom\u001b[39;00m \u001b[39mpennylane\u001b[39;00m\u001b[39m.\u001b[39;00m\u001b[39mwires\u001b[39;00m \u001b[39mimport\u001b[39;00m Wires\n\u001b[0;32m----> 3\u001b[0m Wires\u001b[39m.\u001b[39;49mall_wires(\u001b[39m3\u001b[39;49m)\n",
      "File \u001b[0;32m~/Documents/Spring 2023.nosync/thesis/.env/lib/python3.10/site-packages/pennylane/wires.py:425\u001b[0m, in \u001b[0;36mWires.all_wires\u001b[0;34m(list_of_wires, sort)\u001b[0m\n\u001b[1;32m    402\u001b[0m \u001b[39m@staticmethod\u001b[39m\n\u001b[1;32m    403\u001b[0m \u001b[39mdef\u001b[39;00m \u001b[39mall_wires\u001b[39m(list_of_wires, sort\u001b[39m=\u001b[39m\u001b[39mFalse\u001b[39;00m):\n\u001b[1;32m    404\u001b[0m \u001b[39m    \u001b[39m\u001b[39m\"\"\"Return the wires that appear in any of the Wires objects in the list.\u001b[39;00m\n\u001b[1;32m    405\u001b[0m \n\u001b[1;32m    406\u001b[0m \u001b[39m    This is similar to a set combine method, but keeps the order of wires as they appear in the list.\u001b[39;00m\n\u001b[0;32m   (...)\u001b[0m\n\u001b[1;32m    423\u001b[0m \u001b[39m    <Wires = [4, 0, 1, 3, 5]>\u001b[39;00m\n\u001b[1;32m    424\u001b[0m \u001b[39m    \"\"\"\u001b[39;00m\n\u001b[0;32m--> 425\u001b[0m     converted_wires \u001b[39m=\u001b[39m (\n\u001b[1;32m    426\u001b[0m         wires \u001b[39mif\u001b[39;00m \u001b[39misinstance\u001b[39m(wires, Wires) \u001b[39melse\u001b[39;00m Wires(wires) \u001b[39mfor\u001b[39;00m wires \u001b[39min\u001b[39;00m list_of_wires\n\u001b[1;32m    427\u001b[0m     )\n\u001b[1;32m    428\u001b[0m     all_wires_list \u001b[39m=\u001b[39m itertools\u001b[39m.\u001b[39mchain(\u001b[39m*\u001b[39m(w\u001b[39m.\u001b[39mlabels \u001b[39mfor\u001b[39;00m w \u001b[39min\u001b[39;00m converted_wires))\n\u001b[1;32m    429\u001b[0m     combined \u001b[39m=\u001b[39m \u001b[39mlist\u001b[39m(\u001b[39mdict\u001b[39m\u001b[39m.\u001b[39mfromkeys(all_wires_list))\n",
      "\u001b[0;31mTypeError\u001b[0m: 'int' object is not iterable"
     ]
    }
   ],
   "source": [
    "from pennylane.wires import Wires\n",
    "\n",
    "Wires.all_wires(3)"
   ]
  },
  {
   "cell_type": "code",
   "execution_count": 7,
   "metadata": {},
   "outputs": [
    {
     "name": "stdout",
     "output_type": "stream",
     "text": [
      "CrossEntropyLoss()\n"
     ]
    }
   ],
   "source": [
    "from torchvision.datasets import MNIST, FashionMNIST, CIFAR10\n",
    "from torch.optim import Adam, SGD\n",
    "from torch.nn import CrossEntropyLoss, MSELoss\n",
    "\n",
    "from qcnn.ml.data import BinaryData\n",
    "from qcnn.ml.data import image_transform, baseline_image_transform\n",
    "from qcnn.ml.optimize import Optimizer\n",
    "from qcnn.experiment import Experiment\n",
    "from qcnn.qcnn import QCNN\n",
    "from qcnn.cnn import CNN\n",
    "from qcnn.file import save_dataframe_as_csv\n",
    "\n",
    "print(CrossEntropyLoss())"
   ]
  }
 ],
 "metadata": {
  "kernelspec": {
   "display_name": "Python 3",
   "language": "python",
   "name": "python3"
  },
  "language_info": {
   "codemirror_mode": {
    "name": "ipython",
    "version": 3
   },
   "file_extension": ".py",
   "mimetype": "text/x-python",
   "name": "python",
   "nbconvert_exporter": "python",
   "pygments_lexer": "ipython3",
   "version": "3.10.9"
  },
  "orig_nbformat": 4
 },
 "nbformat": 4,
 "nbformat_minor": 2
}
