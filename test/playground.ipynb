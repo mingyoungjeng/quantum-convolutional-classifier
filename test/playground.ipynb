{
 "cells": [
  {
   "cell_type": "code",
   "execution_count": 1,
   "metadata": {},
   "outputs": [
    {
     "data": {
      "text/plain": [
       "tensor([ 0.67587122-9.13476639e-18j,  0.19949589+3.10696442e-01j,\n",
       "         0.19949589+3.10696442e-01j, -0.08394154+1.83415602e-01j,\n",
       "         0.19949589+3.10696442e-01j, -0.08394154+1.83415602e-01j,\n",
       "        -0.08394154+1.83415602e-01j, -0.10909263+1.55507768e-02j], requires_grad=True)"
      ]
     },
     "execution_count": 1,
     "metadata": {},
     "output_type": "execute_result"
    }
   ],
   "source": [
    "from qcnn.quantum.operation import C2Q\n",
    "import pennylane as qml\n",
    "from pennylane import numpy as np\n",
    "\n",
    "device = qml.device('default.qubit', wires=range(3))\n",
    "\n",
    "theta = np.ones(7)\n",
    "phi = np.ones(7)\n",
    "t = np.ones(7)\n",
    "\n",
    "@qml.qnode(device)\n",
    "def circuit():\n",
    "    C2Q(theta, phi, t, wires=range(3), angles=True)\n",
    "    return qml.state()\n",
    "    \n",
    "circuit()"
   ]
  }
 ],
 "metadata": {
  "kernelspec": {
   "display_name": "Python 3",
   "language": "python",
   "name": "python3"
  },
  "language_info": {
   "codemirror_mode": {
    "name": "ipython",
    "version": 3
   },
   "file_extension": ".py",
   "mimetype": "text/x-python",
   "name": "python",
   "nbconvert_exporter": "python",
   "pygments_lexer": "ipython3",
   "version": "3.10.9"
  },
  "orig_nbformat": 4
 },
 "nbformat": 4,
 "nbformat_minor": 2
}
