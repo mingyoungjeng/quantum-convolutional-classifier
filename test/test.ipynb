{
    "cells": [
        {
            "cell_type": "code",
            "execution_count": 1,
            "metadata": {},
            "outputs": [],
            "source": [
                "import logging\n",
                "\n",
                "logging.basicConfig(level=logging.INFO)"
            ]
        },
        {
            "cell_type": "code",
            "execution_count": 2,
            "metadata": {},
            "outputs": [
                {
                    "name": "stderr",
                    "output_type": "stream",
                    "text": [
                        "INFO:qcc.ml.ml:Using CUDA on device cuda\n"
                    ]
                }
            ],
            "source": [
                "from torchvision.datasets import MNIST, FashionMNIST, CIFAR10\n",
                "from torch.optim import SGD, Adam\n",
                "from torch.nn import CrossEntropyLoss, MSELoss\n",
                "\n",
                "# from pennylane import NesterovMomentumOptimizer\n",
                "\n",
                "from qcc.ml.data import Data, BinaryData\n",
                "from qcc.ml.optimize import Optimizer\n",
                "from qcc.ml.data import ImageTransform, ImageTransform1D, ClassicalImageTransform\n",
                "from qcc.experiment import Experiment\n",
                "from qcc.ml.model import Model\n",
                "\n",
                "from pathlib import Path\n",
                "from qcc.file import new_dir\n",
                "\n",
                "# from qcc.quantum.pennylane.ansatz import MQCCOptimized as Module\n",
                "# from qcc.ml.cnn import ConvolutionalNeuralNetwork as Module\n",
                "from qcc.ml.hybrid_cnn import MQCCHybrid as Module\n",
                "\n",
                "# from qcc.quantum.pennylane.ansatz.basic import BasicFiltering6\n",
                "from qcc.quantum.pennylane.pyramid import Pyramid\n",
                "from qcc.quantum.pennylane.c2q import ConvolutionAngleFilter, ConvolutionComplexAngleFilter, ConvolutionFilter\n",
                "from qcc.quantum.pennylane.local import define_filter"
            ]
        },
        {
            "cell_type": "code",
            "execution_count": 3,
            "metadata": {},
            "outputs": [],
            "source": [
                "# Meta parameters\n",
                "name = \"test\"\n",
                "filename = Path(f\"results/{name}\")\n",
                "num_trials = 1\n",
                "silent = False\n",
                "is_quantum = False\n",
                "\n",
                "# Ansatz parameters\n",
                "dims = (16, 16, 1)\n",
                "num_layers = 4\n",
                "module_options = {\n",
                "    # \"U_filter\": ConvolutionAngleFilter,\n",
                "    # \"pre_op\": True,\n",
                "    \"num_features\": 4,\n",
                "    # \"U_fully_connected\": define_filter(num_layers=2),\n",
                "    # # \"pooling\": True,\n",
                "    # # \"filter_shape\": (2, 2, 2),\n",
                "    # \"q2c_method\": \"parity\"\n",
                "}"
            ]
        },
        {
            "cell_type": "code",
            "execution_count": 4,
            "metadata": {},
            "outputs": [
                {
                    "name": "stderr",
                    "output_type": "stream",
                    "text": [
                        "INFO:qcc.quantum.pennylane.ansatz.ansatz:Depth: 22\n",
                        "INFO:qcc.quantum.pennylane.ansatz.ansatz:Gate Count: 88\n",
                        "INFO:qcc.quantum.pennylane.ansatz.ansatz:Depth: 8\n",
                        "INFO:qcc.quantum.pennylane.ansatz.ansatz:Gate Count: 29\n",
                        "INFO:qcc.quantum.pennylane.ansatz.ansatz:Depth: 7\n",
                        "INFO:qcc.quantum.pennylane.ansatz.ansatz:Gate Count: 21\n",
                        "INFO:qcc.quantum.pennylane.ansatz.ansatz:Depth: 6\n",
                        "INFO:qcc.quantum.pennylane.ansatz.ansatz:Gate Count: 15\n",
                        "2023-10-21 05:27:59,543: (mqcchybrid) Circuit ID: test\n",
                        "2023-10-21 05:27:59,543: (mqcchybrid) module=MQCCHybrid(\n",
                        "  (0): MQCCLayer(\n",
                        "    (mqcc): MQCC()\n",
                        "  )\n",
                        "  (1): ReLU()\n",
                        "  (2): MQCCLayer(\n",
                        "    (mqcc): MQCC()\n",
                        "  )\n",
                        "  (3): ReLU()\n",
                        "  (4): MQCCLayer(\n",
                        "    (mqcc): MQCC()\n",
                        "  )\n",
                        "  (5): ReLU()\n",
                        "  (6): MQCCLayer(\n",
                        "    (mqcc): MQCC()\n",
                        "  )\n",
                        "  (7): ReLU()\n",
                        "  (8): Flatten(start_dim=1, end_dim=-1)\n",
                        "  (9): Linear(in_features=4, out_features=2, bias=True)\n",
                        ")\n",
                        "2023-10-21 05:27:59,543: (mqcchybrid) data=BinaryData(dataset=<class 'torchvision.datasets.mnist.FashionMNIST'>, transform=image_transform_classical, target_transform=None, batch_size=(8, 1000), classes=[0, 1])\n",
                        "2023-10-21 05:27:59,544: (mqcchybrid) optimizer=<class 'torch.optim.adam.Adam'>, self.args=(), self.kwargs={}\n",
                        "2023-10-21 05:27:59,544: (mqcchybrid) loss=CrossEntropyLoss()\n",
                        "2023-10-21 05:27:59,544: (mqcchybrid) num_trials=1\n",
                        "2023-10-21 05:27:59,544: (mqcchybrid) dims=(16, 16, 1)\n",
                        "2023-10-21 05:27:59,545: (mqcchybrid) num_layers=4\n",
                        "2023-10-21 05:27:59,545: (mqcchybrid) module_options={'num_features': 4}\n"
                    ]
                }
            ],
            "source": [
                "filename = new_dir(filename, overwrite=True)\n",
                "filename = filename / name\n",
                "\n",
                "if is_quantum:\n",
                "    module = Module.from_dims\n",
                "else:\n",
                "    module = Module\n",
                "\n",
                "# Create module\n",
                "module = module(\n",
                "    dims,\n",
                "    num_layers=num_layers,\n",
                "    **module_options,\n",
                ")\n",
                "data = BinaryData(\n",
                "    FashionMNIST,\n",
                "    ImageTransform(dims) if is_quantum else ClassicalImageTransform(dims),\n",
                "    batch_size=(8,1000),\n",
                ")\n",
                "optimizer = Optimizer(Adam)\n",
                "loss = CrossEntropyLoss()\n",
                "model = Model.with_logging(module, data, optimizer, loss, epoch=8)\n",
                "\n",
                "# Log important values\n",
                "model.logger.info(f\"Circuit ID: {name}\")\n",
                "model.logger.info(f\"{module=}\")\n",
                "model.logger.info(f\"{data=}\")\n",
                "model.logger.info(f\"{optimizer=}\")\n",
                "model.logger.info(f\"{loss=}\")\n",
                "\n",
                "model.logger.info(f\"{num_trials=}\")\n",
                "model.logger.info(f\"{dims=}\")\n",
                "model.logger.info(f\"{num_layers=}\")\n",
                "# model.logger.info(f\"{1=}\")\n",
                "model.logger.info(f\"{module_options=}\")\n",
                "\n",
                "# Save circuit drawing\n",
                "if is_quantum:\n",
                "    filename = filename.with_stem(f\"{name}_circuit\")\n",
                "    module.draw(filename=filename, decompose=True)"
            ]
        },
        {
            "cell_type": "code",
            "execution_count": 6,
            "metadata": {},
            "outputs": [
                {
                    "name": "stderr",
                    "output_type": "stream",
                    "text": [
                        "2023-10-21 05:27:59,600: (mqcchybrid) Number of Parameters: 31\n",
                        "/home/mingyoungjeng/Documents/repos/quantum-convolutional-classifier/src/qcc/quantum/quantum.py:125: UserWarning: The use of `x.T` on tensors of dimension other than 2 to reverse their shape is deprecated and it will throw an error in a future release. Consider `x.mT` to transpose batches of matrices or `x.permute(*torch.arange(x.ndim - 1, -1, -1))` to reverse the dimensions of a tensor. (Triggered internally at ../aten/src/ATen/native/TensorShape.cpp:3614.)\n",
                        "  data = data.reshape(new_dims[::-1]).T\n"
                    ]
                }
            ],
            "source": [
                "# Run experiment\n",
                "results_schema = [\"accuracy\", \"training_time\", \"testing_time\"]\n",
                "experiment = Experiment(model, num_trials, results_schema)\n",
                "# experiment.partial(silent=silent)\n",
                "results = experiment(filename=filename)"
            ]
        },
        {
            "cell_type": "code",
            "execution_count": null,
            "metadata": {},
            "outputs": [],
            "source": [
                "# Print accuracy results\n",
                "metrics = (\"median\", \"mean\", \"max\", \"min\", \"std\")\n",
                "for name in results.columns:\n",
                "    col = results[name]\n",
                "    msg = (f\"{metric}={getattr(col, metric)()}\" for metric in metrics)\n",
                "    msg = \", \".join(msg)\n",
                "    msg = f\"{name}: {msg}\"\n",
                "    model.logger.info(msg)\n",
                "\n",
                "# Save aggregated loss history figure\n",
                "display(experiment.draw(filename))"
            ]
        }
    ],
    "metadata": {
        "kernelspec": {
            "display_name": "Python 3",
            "language": "python",
            "name": "python3"
        },
        "language_info": {
            "codemirror_mode": {
                "name": "ipython",
                "version": 3
            },
            "file_extension": ".py",
            "mimetype": "text/x-python",
            "name": "python",
            "nbconvert_exporter": "python",
            "pygments_lexer": "ipython3",
            "version": "3.11.6"
        },
        "orig_nbformat": 4,
        "vscode": {
            "interpreter": {
                "hash": "c7967d85baf232544f00baec60c53642b018367ac4c489b1a4dde60b922cc6fa"
            }
        }
    },
    "nbformat": 4,
    "nbformat_minor": 2
}
