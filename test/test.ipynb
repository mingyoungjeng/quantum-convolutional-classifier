{
    "cells": [
        {
            "cell_type": "code",
            "execution_count": null,
            "metadata": {},
            "outputs": [],
            "source": [
                "from torchvision.datasets import MNIST, FashionMNIST, CIFAR10\n",
                "from torch.optim import SGD, Adam\n",
                "from torch.nn import CrossEntropyLoss, MSELoss\n",
                "\n",
                "# from pennylane import NesterovMomentumOptimizer\n",
                "from qcnn.qcnn import QCNN\n",
                "\n",
                "from qcnn.ml.data import Data, BinaryData\n",
                "from qcnn.ml.optimize import Optimizer\n",
                "from qcnn.ml.data import ImageTransform, ImageTransform1D\n",
                "from qcnn.experiment import Experiment\n",
                "from qcnn.cnn import CNN\n",
                "\n",
                "from pathlib import Path\n",
                "from qcnn.file import save_dataframe_as_csv\n",
                "\n",
                "from qcnn.quantum.operation.ansatz import ConvolutionPoolingAnsatz as Ansatz\n",
                "# from qcnn.quantum.operation.ansatz import BaselineAnsatz as Ansatz\n",
                "\n",
                "from qcnn.quantum.operation.ansatz.basic import BasicFiltering"
            ]
        },
        {
            "cell_type": "code",
            "execution_count": null,
            "metadata": {},
            "outputs": [],
            "source": [
                "# Meta parameters\n",
                "name = \"name\"\n",
                "path = Path(f\"results/{name}\")\n",
                "num_trials = 10\n",
                "silent = False\n",
                "is_quantum = True\n",
                "\n",
                "# Ansatz parameters\n",
                "dims = (28, 28)\n",
                "num_layers = 4\n",
                "options = {\n",
                "    \"U_filter\": BasicFiltering\n",
                "}"
            ]
        },
        {
            "cell_type": "code",
            "execution_count": null,
            "metadata": {},
            "outputs": [],
            "source": [
                "# Create model\n",
                "cls = QCNN if is_quantum else CNN\n",
                "data = BinaryData(FashionMNIST, ImageTransform(dims, flatten=is_quantum), batch_size=(4, 1000))\n",
                "# optimizer = Optimizer(SGD, lr=0.01, momentum=0.9, nesterov=True)\n",
                "optimizer = Optimizer(Adam)\n",
                "loss = CrossEntropyLoss()\n",
                "epoch = 1\n",
                "model = cls.with_logging(data, optimizer, loss, epoch=epoch)\n",
                "\n",
                "# Log circuit ID\n",
                "model.logger.info(f\"Circuit ID: {name}\")\n",
                "\n",
                "# Save circuit drawing\n",
                "if is_quantum:\n",
                "    model.ansatz = Ansatz.from_dims(dims, num_layers=num_layers, **options)\n",
                "    filename = path.with_stem(f\"{name}_circuit\").with_suffix(\".png\")\n",
                "    model.ansatz.draw(filename=filename, decompose=True)"
            ]
        },
        {
            "cell_type": "code",
            "execution_count": null,
            "metadata": {},
            "outputs": [],
            "source": [
                "# Run experiment\n",
                "experiment = Experiment(model, num_trials, results_schema=[\"accuracy\"])\n",
                "\n",
                "args = (Ansatz,) if is_quantum else ()\n",
                "results = experiment(*args, dims, num_layers=num_layers, silent=silent, **options)"
            ]
        },
        {
            "cell_type": "code",
            "execution_count": null,
            "metadata": {},
            "outputs": [],
            "source": [
                "# Save and print accuracy results\n",
                "save_dataframe_as_csv(path.with_suffix(\".csv\"), results)\n",
                "acc = results[\"accuracy\"]\n",
                "print(acc.median(), acc.mean(), acc.std())"
            ]
        },
        {
            "cell_type": "code",
            "execution_count": null,
            "metadata": {},
            "outputs": [],
            "source": [
                "# Save aggregated loss history figure\n",
                "(fig,) = experiment.draw(path.with_suffix(\".png\"))"
            ]
        }
    ],
    "metadata": {
        "kernelspec": {
            "display_name": "Python 3",
            "language": "python",
            "name": "python3"
        },
        "language_info": {
            "codemirror_mode": {
                "name": "ipython",
                "version": 3
            },
            "file_extension": ".py",
            "mimetype": "text/x-python",
            "name": "python",
            "nbconvert_exporter": "python",
            "pygments_lexer": "ipython3",
            "version": "3.10.9"
        },
        "orig_nbformat": 4,
        "vscode": {
            "interpreter": {
                "hash": "c7967d85baf232544f00baec60c53642b018367ac4c489b1a4dde60b922cc6fa"
            }
        }
    },
    "nbformat": 4,
    "nbformat_minor": 2
}
