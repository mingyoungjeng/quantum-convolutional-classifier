{
 "cells": [
  {
   "cell_type": "code",
   "execution_count": 17,
   "metadata": {},
   "outputs": [],
   "source": [
    "from pathlib import Path\n",
    "\n",
    "# filename = \"Gate count of variational quantum classifiers<br> for tested data sizes\"\n",
    "# path = Path(f\"/Users/mingyoungjeng/Downloads/figures_thesis/{filename}\")\n",
    "\n",
    "path = Path(\"/Users/mingyoungjeng/Downloads/figures_thesis/Classification accuracy of CIFAR10 dataset<br>with resolution of (16x16x3) pixels\")\n",
    "filename = path.stem\n",
    "\n",
    "glob = \"**/*.csv\"\n"
   ]
  },
  {
   "cell_type": "code",
   "execution_count": 18,
   "metadata": {},
   "outputs": [],
   "source": [
    "from fnmatch import fnmatch\n",
    "from polars import DataFrame, read_csv\n",
    "\n",
    "# if path.is_dir():\n",
    "#     dfs = [read_csv(file) for file in path.glob(glob)]\n",
    "# else:\n",
    "#     if fnmatch(path, glob):\n",
    "#         df = read_csv(path)\n",
    "\n",
    "dfs = tuple(read_csv(file) for file in path.glob(glob))\n",
    "kwargs = [dict(name=file.stem) for file in path.glob(glob)]\n",
    "title = path.stem\n"
   ]
  },
  {
   "cell_type": "code",
   "execution_count": 19,
   "metadata": {},
   "outputs": [],
   "source": [
    "for i, kwarg in enumerate(kwargs):\n",
    "    name = kwarg.get(\"name\", \"\")\n",
    "    if \"cnn\" in name:\n",
    "        kwarg[\"name\"] = \"CNN\"\n",
    "        kwarg[\"marker_color\"] = \"#4472C4\"\n",
    "    \n",
    "    if \"mqcc\" in name:\n",
    "        kwarg[\"name\"] = \"MQCC\"\n",
    "        kwarg[\"marker_color\"] = \"#7030A0\"\n",
    "    \n",
    "    if \"quanvolution\" in name:\n",
    "        kwarg[\"name\"] = \"Quanvolution\"\n",
    "        kwarg[\"marker_color\"] = \"#ED7D31\"\n",
    "    \n",
    "    if (\"qcnn\" in name) | (\"baseline\" in name):\n",
    "        kwarg[\"name\"] = \"QCNN\"\n",
    "        kwarg[\"marker_color\"] = \"#548235\"\n",
    "    \n",
    "    # kwarg[\"type\"] = \"bar\"\n"
   ]
  },
  {
   "cell_type": "code",
   "execution_count": 20,
   "metadata": {},
   "outputs": [],
   "source": [
    "import polars as pl\n",
    "\n",
    "def rolling_mean(df, window_size):\n",
    "    return df.select(pl.all().rolling_mean(window_size, center=True)).drop_nulls()\n",
    "\n",
    "# dfs = (rolling_mean(df, 40) for df in dfs)\n"
   ]
  },
  {
   "cell_type": "code",
   "execution_count": 21,
   "metadata": {},
   "outputs": [],
   "source": [
    "from qcc.graph import process_dataframe\n",
    "\n",
    "dfs = [process_dataframe(df, as_plotly=True) if len(df.columns) > 1 else dict(y=list(df[df.columns[0]])) for df in dfs]\n",
    "\n",
    "for df, kwarg in zip(dfs, kwargs):\n",
    "    df.update(kwarg)\n",
    "    df.update(x=list(range(1, len(df[\"y\"])+1)))\n",
    "    # del df[\"error_y\"]\n"
   ]
  },
  {
   "cell_type": "code",
   "execution_count": 22,
   "metadata": {},
   "outputs": [
    {
     "data": {
      "application/vnd.plotly.v1+json": {
       "config": {
        "plotlyServerURL": "https://plot.ly"
       },
       "data": [
        {
         "error_y": {
          "array": [
           0.04379235745383969,
           0.030460682043935594,
           0.02622987122331988,
           0.024112043614842538,
           0.019900914947233117,
           0.01407305390381619,
           0.01473472229487427,
           0.015709258297386897
          ],
          "arrayminus": [
           0.08669238329841367,
           0.07906068814745126,
           0.05882984490190879,
           0.02211205744312017,
           0.012500914851865774,
           0.021273020811317322,
           0.010134721913404587,
           0.01990923998684002
          ],
          "symmetric": false,
          "type": "data"
         },
         "marker": {
          "color": "#7030A0"
         },
         "name": "<b>MQCC",
         "type": "scatter",
         "x": [
          1,
          2,
          3,
          4,
          5,
          6,
          7,
          8
         ],
         "y": [
          0.7312500476837158,
          0.7635000348091125,
          0.7695000171661377,
          0.7590000331401825,
          0.7637500464916229,
          0.7752500176429749,
          0.7710000276565552,
          0.7812500298023224
         ]
        },
        {
         "error_y": {
          "array": [
           0.021688307043045252,
           0.011750418845876354,
           0.012801182996102778,
           0.010702834825147112,
           0.01212378489738275,
           0.0071574398553739815,
           0.006793054061278836,
           0.007778330419423218
          ],
          "arrayminus": [
           0.02968831133457972,
           0.008150429431661221,
           0.013301182519265708,
           0.01310286353074408,
           0.011323783276136368,
           0.01185745683077677,
           0.012493093924865306,
           0.005578334901692461
          ],
          "symmetric": false,
          "type": "data"
         },
         "marker": {
          "color": "#4472C4"
         },
         "name": "<b>CNN",
         "type": "scatter",
         "x": [
          1,
          2,
          3,
          4,
          5,
          6,
          7,
          8
         ],
         "y": [
          0.7790000438690186,
          0.812000036239624,
          0.8242500424385071,
          0.8295000493526459,
          0.8337500393390656,
          0.8410000503063202,
          0.8442500531673431,
          0.8460000455379486
         ]
        },
        {
         "error_y": {
          "array": [
           0.047564201764905056,
           0.037309024318676776,
           0.025641716280092486,
           0.03613626990827701,
           0.024649378734033833,
           0.026112964952492934,
           0.02925163490927163,
           0.03184161674259545
          ],
          "arrayminus": [
           0.10296416800483421,
           0.03350906132124021,
           0.08644172028552466,
           0.09293620620283272,
           0.10224942870656806,
           0.06771297773172869,
           0.049451577498077826,
           0.040041642301067215
          ],
          "symmetric": false,
          "type": "data"
         },
         "marker": {
          "color": "#548235"
         },
         "name": "<b>QCNN",
         "type": "scatter",
         "x": [
          1,
          2,
          3,
          4,
          5,
          6,
          7,
          8
         ],
         "y": [
          0.6915000081062317,
          0.6505000591278076,
          0.7010000348091125,
          0.6965000033378601,
          0.6990000605583191,
          0.6820000410079956,
          0.6965000033378601,
          0.6835000514984131
         ]
        },
        {
         "error_y": {
          "array": [
           0.0063448217926413975,
           0.007580056723875073,
           0.01050397659485569,
           0.009821374076848133,
           0.00399511535180519,
           0.0025898185127676276,
           0.005076867098181892,
           0.0075293199135916256
          ],
          "arrayminus": [
           0.0085447815475852,
           0.004180040892881376,
           0.010903971445014427,
           0.00842140402222158,
           0.0031951494933457614,
           0.0037898507469594778,
           0.005276876444190282,
           0.003929294736589761
          ],
          "symmetric": false,
          "type": "data"
         },
         "marker": {
          "color": "#ED7D31"
         },
         "name": "<b>Quanvolution",
         "type": "scatter",
         "x": [
          1,
          2,
          3,
          4,
          5,
          6,
          7,
          8
         ],
         "y": [
          0.8090000152587891,
          0.8235000371932983,
          0.8300000429153442,
          0.8330000638961792,
          0.8365000486373901,
          0.8355000615119934,
          0.8365000486373901,
          0.8385000228881836
         ]
        }
       ],
       "layout": {
        "legend": {
         "x": 0.65,
         "y": 0.3
        },
        "margin": {
         "b": 68,
         "l": 72,
         "t": 70
        },
        "template": {
         "data": {
          "bar": [
           {
            "error_x": {
             "color": "#2a3f5f"
            },
            "error_y": {
             "color": "#2a3f5f"
            },
            "marker": {
             "line": {
              "color": "#E5ECF6",
              "width": 0.5
             },
             "pattern": {
              "fillmode": "overlay",
              "size": 10,
              "solidity": 0.2
             }
            },
            "type": "bar"
           }
          ],
          "barpolar": [
           {
            "marker": {
             "line": {
              "color": "#E5ECF6",
              "width": 0.5
             },
             "pattern": {
              "fillmode": "overlay",
              "size": 10,
              "solidity": 0.2
             }
            },
            "type": "barpolar"
           }
          ],
          "carpet": [
           {
            "aaxis": {
             "endlinecolor": "#2a3f5f",
             "gridcolor": "white",
             "linecolor": "white",
             "minorgridcolor": "white",
             "startlinecolor": "#2a3f5f"
            },
            "baxis": {
             "endlinecolor": "#2a3f5f",
             "gridcolor": "white",
             "linecolor": "white",
             "minorgridcolor": "white",
             "startlinecolor": "#2a3f5f"
            },
            "type": "carpet"
           }
          ],
          "choropleth": [
           {
            "colorbar": {
             "outlinewidth": 0,
             "ticks": ""
            },
            "type": "choropleth"
           }
          ],
          "contour": [
           {
            "colorbar": {
             "outlinewidth": 0,
             "ticks": ""
            },
            "colorscale": [
             [
              0,
              "#0d0887"
             ],
             [
              0.1111111111111111,
              "#46039f"
             ],
             [
              0.2222222222222222,
              "#7201a8"
             ],
             [
              0.3333333333333333,
              "#9c179e"
             ],
             [
              0.4444444444444444,
              "#bd3786"
             ],
             [
              0.5555555555555556,
              "#d8576b"
             ],
             [
              0.6666666666666666,
              "#ed7953"
             ],
             [
              0.7777777777777778,
              "#fb9f3a"
             ],
             [
              0.8888888888888888,
              "#fdca26"
             ],
             [
              1,
              "#f0f921"
             ]
            ],
            "type": "contour"
           }
          ],
          "contourcarpet": [
           {
            "colorbar": {
             "outlinewidth": 0,
             "ticks": ""
            },
            "type": "contourcarpet"
           }
          ],
          "heatmap": [
           {
            "colorbar": {
             "outlinewidth": 0,
             "ticks": ""
            },
            "colorscale": [
             [
              0,
              "#0d0887"
             ],
             [
              0.1111111111111111,
              "#46039f"
             ],
             [
              0.2222222222222222,
              "#7201a8"
             ],
             [
              0.3333333333333333,
              "#9c179e"
             ],
             [
              0.4444444444444444,
              "#bd3786"
             ],
             [
              0.5555555555555556,
              "#d8576b"
             ],
             [
              0.6666666666666666,
              "#ed7953"
             ],
             [
              0.7777777777777778,
              "#fb9f3a"
             ],
             [
              0.8888888888888888,
              "#fdca26"
             ],
             [
              1,
              "#f0f921"
             ]
            ],
            "type": "heatmap"
           }
          ],
          "heatmapgl": [
           {
            "colorbar": {
             "outlinewidth": 0,
             "ticks": ""
            },
            "colorscale": [
             [
              0,
              "#0d0887"
             ],
             [
              0.1111111111111111,
              "#46039f"
             ],
             [
              0.2222222222222222,
              "#7201a8"
             ],
             [
              0.3333333333333333,
              "#9c179e"
             ],
             [
              0.4444444444444444,
              "#bd3786"
             ],
             [
              0.5555555555555556,
              "#d8576b"
             ],
             [
              0.6666666666666666,
              "#ed7953"
             ],
             [
              0.7777777777777778,
              "#fb9f3a"
             ],
             [
              0.8888888888888888,
              "#fdca26"
             ],
             [
              1,
              "#f0f921"
             ]
            ],
            "type": "heatmapgl"
           }
          ],
          "histogram": [
           {
            "marker": {
             "pattern": {
              "fillmode": "overlay",
              "size": 10,
              "solidity": 0.2
             }
            },
            "type": "histogram"
           }
          ],
          "histogram2d": [
           {
            "colorbar": {
             "outlinewidth": 0,
             "ticks": ""
            },
            "colorscale": [
             [
              0,
              "#0d0887"
             ],
             [
              0.1111111111111111,
              "#46039f"
             ],
             [
              0.2222222222222222,
              "#7201a8"
             ],
             [
              0.3333333333333333,
              "#9c179e"
             ],
             [
              0.4444444444444444,
              "#bd3786"
             ],
             [
              0.5555555555555556,
              "#d8576b"
             ],
             [
              0.6666666666666666,
              "#ed7953"
             ],
             [
              0.7777777777777778,
              "#fb9f3a"
             ],
             [
              0.8888888888888888,
              "#fdca26"
             ],
             [
              1,
              "#f0f921"
             ]
            ],
            "type": "histogram2d"
           }
          ],
          "histogram2dcontour": [
           {
            "colorbar": {
             "outlinewidth": 0,
             "ticks": ""
            },
            "colorscale": [
             [
              0,
              "#0d0887"
             ],
             [
              0.1111111111111111,
              "#46039f"
             ],
             [
              0.2222222222222222,
              "#7201a8"
             ],
             [
              0.3333333333333333,
              "#9c179e"
             ],
             [
              0.4444444444444444,
              "#bd3786"
             ],
             [
              0.5555555555555556,
              "#d8576b"
             ],
             [
              0.6666666666666666,
              "#ed7953"
             ],
             [
              0.7777777777777778,
              "#fb9f3a"
             ],
             [
              0.8888888888888888,
              "#fdca26"
             ],
             [
              1,
              "#f0f921"
             ]
            ],
            "type": "histogram2dcontour"
           }
          ],
          "mesh3d": [
           {
            "colorbar": {
             "outlinewidth": 0,
             "ticks": ""
            },
            "type": "mesh3d"
           }
          ],
          "parcoords": [
           {
            "line": {
             "colorbar": {
              "outlinewidth": 0,
              "ticks": ""
             }
            },
            "type": "parcoords"
           }
          ],
          "pie": [
           {
            "automargin": true,
            "type": "pie"
           }
          ],
          "scatter": [
           {
            "fillpattern": {
             "fillmode": "overlay",
             "size": 10,
             "solidity": 0.2
            },
            "line": {
             "shape": "spline",
             "width": 3
            },
            "marker": {
             "size": 10
            },
            "type": "scatter"
           }
          ],
          "scatter3d": [
           {
            "line": {
             "colorbar": {
              "outlinewidth": 0,
              "ticks": ""
             }
            },
            "marker": {
             "colorbar": {
              "outlinewidth": 0,
              "ticks": ""
             }
            },
            "type": "scatter3d"
           }
          ],
          "scattercarpet": [
           {
            "marker": {
             "colorbar": {
              "outlinewidth": 0,
              "ticks": ""
             }
            },
            "type": "scattercarpet"
           }
          ],
          "scattergeo": [
           {
            "marker": {
             "colorbar": {
              "outlinewidth": 0,
              "ticks": ""
             }
            },
            "type": "scattergeo"
           }
          ],
          "scattergl": [
           {
            "marker": {
             "colorbar": {
              "outlinewidth": 0,
              "ticks": ""
             }
            },
            "type": "scattergl"
           }
          ],
          "scattermapbox": [
           {
            "marker": {
             "colorbar": {
              "outlinewidth": 0,
              "ticks": ""
             }
            },
            "type": "scattermapbox"
           }
          ],
          "scatterpolar": [
           {
            "marker": {
             "colorbar": {
              "outlinewidth": 0,
              "ticks": ""
             }
            },
            "type": "scatterpolar"
           }
          ],
          "scatterpolargl": [
           {
            "marker": {
             "colorbar": {
              "outlinewidth": 0,
              "ticks": ""
             }
            },
            "type": "scatterpolargl"
           }
          ],
          "scatterternary": [
           {
            "marker": {
             "colorbar": {
              "outlinewidth": 0,
              "ticks": ""
             }
            },
            "type": "scatterternary"
           }
          ],
          "surface": [
           {
            "colorbar": {
             "outlinewidth": 0,
             "ticks": ""
            },
            "colorscale": [
             [
              0,
              "#0d0887"
             ],
             [
              0.1111111111111111,
              "#46039f"
             ],
             [
              0.2222222222222222,
              "#7201a8"
             ],
             [
              0.3333333333333333,
              "#9c179e"
             ],
             [
              0.4444444444444444,
              "#bd3786"
             ],
             [
              0.5555555555555556,
              "#d8576b"
             ],
             [
              0.6666666666666666,
              "#ed7953"
             ],
             [
              0.7777777777777778,
              "#fb9f3a"
             ],
             [
              0.8888888888888888,
              "#fdca26"
             ],
             [
              1,
              "#f0f921"
             ]
            ],
            "type": "surface"
           }
          ],
          "table": [
           {
            "cells": {
             "fill": {
              "color": "#EBF0F8"
             },
             "line": {
              "color": "white"
             }
            },
            "header": {
             "fill": {
              "color": "#C8D4E3"
             },
             "line": {
              "color": "white"
             }
            },
            "type": "table"
           }
          ]
         },
         "layout": {
          "annotationdefaults": {
           "arrowcolor": "#2a3f5f",
           "arrowhead": 0,
           "arrowwidth": 1
          },
          "autosize": false,
          "autotypenumbers": "strict",
          "coloraxis": {
           "colorbar": {
            "outlinewidth": 0,
            "ticks": ""
           }
          },
          "colorscale": {
           "diverging": [
            [
             0,
             "#8e0152"
            ],
            [
             0.1,
             "#c51b7d"
            ],
            [
             0.2,
             "#de77ae"
            ],
            [
             0.3,
             "#f1b6da"
            ],
            [
             0.4,
             "#fde0ef"
            ],
            [
             0.5,
             "#f7f7f7"
            ],
            [
             0.6,
             "#e6f5d0"
            ],
            [
             0.7,
             "#b8e186"
            ],
            [
             0.8,
             "#7fbc41"
            ],
            [
             0.9,
             "#4d9221"
            ],
            [
             1,
             "#276419"
            ]
           ],
           "sequential": [
            [
             0,
             "#0d0887"
            ],
            [
             0.1111111111111111,
             "#46039f"
            ],
            [
             0.2222222222222222,
             "#7201a8"
            ],
            [
             0.3333333333333333,
             "#9c179e"
            ],
            [
             0.4444444444444444,
             "#bd3786"
            ],
            [
             0.5555555555555556,
             "#d8576b"
            ],
            [
             0.6666666666666666,
             "#ed7953"
            ],
            [
             0.7777777777777778,
             "#fb9f3a"
            ],
            [
             0.8888888888888888,
             "#fdca26"
            ],
            [
             1,
             "#f0f921"
            ]
           ],
           "sequentialminus": [
            [
             0,
             "#0d0887"
            ],
            [
             0.1111111111111111,
             "#46039f"
            ],
            [
             0.2222222222222222,
             "#7201a8"
            ],
            [
             0.3333333333333333,
             "#9c179e"
            ],
            [
             0.4444444444444444,
             "#bd3786"
            ],
            [
             0.5555555555555556,
             "#d8576b"
            ],
            [
             0.6666666666666666,
             "#ed7953"
            ],
            [
             0.7777777777777778,
             "#fb9f3a"
            ],
            [
             0.8888888888888888,
             "#fdca26"
            ],
            [
             1,
             "#f0f921"
            ]
           ]
          },
          "colorway": [
           "#4472C4",
           "#ED7D31",
           "#548235",
           "#7030A0",
           "#CE34D1"
          ],
          "font": {
           "color": "black",
           "family": "Arial",
           "size": 14
          },
          "geo": {
           "bgcolor": "white",
           "lakecolor": "white",
           "landcolor": "#E5ECF6",
           "showlakes": true,
           "showland": true,
           "subunitcolor": "white"
          },
          "height": 500,
          "hoverlabel": {
           "align": "left"
          },
          "hovermode": "closest",
          "legend": {
           "bgcolor": "white",
           "bordercolor": "black",
           "borderwidth": 1,
           "font": {
            "color": "black",
            "family": "Arial",
            "size": 14
           },
           "y": 1.006,
           "yanchor": "top"
          },
          "mapbox": {
           "style": "light"
          },
          "margin": {
           "b": 40,
           "l": 40,
           "pad": 0,
           "r": 40,
           "t": 0
          },
          "paper_bgcolor": "#E6F5E6",
          "plot_bgcolor": "#CBD5DD",
          "polar": {
           "angularaxis": {
            "gridcolor": "white",
            "linecolor": "white",
            "ticks": ""
           },
           "bgcolor": "#E5ECF6",
           "radialaxis": {
            "gridcolor": "white",
            "linecolor": "white",
            "ticks": ""
           }
          },
          "scene": {
           "xaxis": {
            "backgroundcolor": "#E5ECF6",
            "gridcolor": "white",
            "gridwidth": 2,
            "linecolor": "white",
            "showbackground": true,
            "ticks": "",
            "zerolinecolor": "white"
           },
           "yaxis": {
            "backgroundcolor": "#E5ECF6",
            "gridcolor": "white",
            "gridwidth": 2,
            "linecolor": "white",
            "showbackground": true,
            "ticks": "",
            "zerolinecolor": "white"
           },
           "zaxis": {
            "backgroundcolor": "#E5ECF6",
            "gridcolor": "white",
            "gridwidth": 2,
            "linecolor": "white",
            "showbackground": true,
            "ticks": "",
            "zerolinecolor": "white"
           }
          },
          "shapedefaults": {
           "line": {
            "color": "#2a3f5f"
           }
          },
          "ternary": {
           "aaxis": {
            "gridcolor": "white",
            "linecolor": "white",
            "ticks": ""
           },
           "baxis": {
            "gridcolor": "white",
            "linecolor": "white",
            "ticks": ""
           },
           "bgcolor": "#E5ECF6",
           "caxis": {
            "gridcolor": "white",
            "linecolor": "white",
            "ticks": ""
           }
          },
          "title": {
           "automargin": false,
           "font": {
            "color": "black",
            "family": "Arial",
            "size": 20
           },
           "pad": {
            "b": 0,
            "l": 0,
            "r": 0,
            "t": 0
           },
           "x": 0.5,
           "xanchor": "center",
           "y": 1,
           "yanchor": "middle"
          },
          "width": 600,
          "xaxis": {
           "automargin": false,
           "gridcolor": "#c8c8c8",
           "gridwidth": 1,
           "linecolor": "black",
           "linewidth": 1,
           "minor": {
            "gridcolor": "black",
            "showgrid": false,
            "tickcolor": "black",
            "ticks": "inside"
           },
           "mirror": true,
           "showgrid": false,
           "showline": true,
           "tickcolor": "black",
           "ticks": "outside",
           "tickwidth": 1,
           "title": {
            "font": {
             "color": "black",
             "family": "Arial",
             "size": 20
            },
            "standoff": 16
           },
           "zerolinecolor": "black",
           "zerolinewidth": 1
          },
          "yaxis": {
           "automargin": false,
           "gridcolor": "#ebebeb",
           "gridwidth": 1,
           "linecolor": "black",
           "linewidth": 1,
           "minor": {
            "showgrid": false,
            "tickcolor": "black",
            "ticks": "inside"
           },
           "mirror": true,
           "showgrid": true,
           "showline": true,
           "tickcolor": "black",
           "ticks": "outside",
           "tickwidth": 1,
           "title": {
            "font": {
             "color": "black",
             "family": "Arial",
             "size": 20
            },
            "standoff": 0
           },
           "zerolinecolor": "black",
           "zerolinewidth": 1
          }
         }
        },
        "title": {
         "text": "<b>Classification accuracy of CIFAR10 dataset<br>with resolution of (16x16x3) pixels",
         "x": 0.53,
         "y": 0.94
        },
        "xaxis": {
         "dtick": 1,
         "title": {
          "text": "<b>Epoch"
         }
        },
        "yaxis": {
         "range": [
          0.45,
          0.9
         ],
         "tickformat": ",.0%",
         "title": {
          "text": "<b>Accuracy"
         }
        }
       }
      }
     },
     "metadata": {},
     "output_type": "display_data"
    }
   ],
   "source": [
    "from qcc.graph import plot\n",
    "\n",
    "# dfs[:] = [dfs[i] for i in [1, 0]]\n",
    "fig = plot(*dfs, title=title,\n",
    "\n",
    "# Log Loss\n",
    "# ylabel=\"Log Loss\", xlabel=\"Iteration\", legend=(0.65, 0.6), xaxis_tickformat= ',.2r', xaxis_dtick=2000, yaxis_range = [0, 0.7])\n",
    "# yaxis_tickformat= ',.0%', xaxis_dtick=1\n",
    "\n",
    "# Accuracy\n",
    "ylabel=\"Accuracy\", xlabel=\"Epoch\", legend=(0.65, 0.3), yaxis_tickformat= ',.0%', xaxis_dtick=1, yaxis_range = [0.45, .9])\n",
    "\n",
    "# Number of X\n",
    "# ylabel=\"Number of Training Parameters\", xlabel=\"Data Size\", legend=(0.4, 0.95),)\n",
    "\n",
    "fig.show()\n"
   ]
  },
  {
   "cell_type": "code",
   "execution_count": 23,
   "metadata": {},
   "outputs": [],
   "source": [
    "fig.write_json(f\"{filename}.json\")\n"
   ]
  },
  {
   "cell_type": "code",
   "execution_count": 24,
   "metadata": {},
   "outputs": [
    {
     "ename": "SyntaxError",
     "evalue": "invalid syntax (485895094.py, line 7)",
     "output_type": "error",
     "traceback": [
      "\u001b[0;36m  Cell \u001b[0;32mIn[24], line 7\u001b[0;36m\u001b[0m\n\u001b[0;31m    fig.write_image(file.with_suffix(.png), scale=3)\u001b[0m\n\u001b[0m                                     ^\u001b[0m\n\u001b[0;31mSyntaxError\u001b[0m\u001b[0;31m:\u001b[0m invalid syntax\n"
     ]
    }
   ],
   "source": [
    "from pathlib import Path\n",
    "import plotly.io as pio\n",
    "\n",
    "path = Path(\"/Users/mingyoungjeng/Downloads/figures_thesis\")\n",
    "for file in path.glob(\"*.json\"):\n",
    "    fig = pio.read_json(file)\n",
    "    fig.write_image(file.with_suffix(.png), scale=3)\n"
   ]
  }
 ],
 "metadata": {
  "kernelspec": {
   "display_name": "Python 3",
   "language": "python",
   "name": "python3"
  },
  "language_info": {
   "codemirror_mode": {
    "name": "ipython",
    "version": 3
   },
   "file_extension": ".py",
   "mimetype": "text/x-python",
   "name": "python",
   "nbconvert_exporter": "python",
   "pygments_lexer": "ipython3",
   "version": "3.11.4"
  }
 },
 "nbformat": 4,
 "nbformat_minor": 2
}
