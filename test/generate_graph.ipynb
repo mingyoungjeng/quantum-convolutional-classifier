{
 "cells": [
  {
   "cell_type": "code",
   "execution_count": 1,
   "metadata": {},
   "outputs": [],
   "source": [
    "from pathlib import Path\n",
    "\n",
    "path = Path(\"/Users/mingyoungjeng/Downloads/figures_thesis/Classification accuracy of CNN configurations<br>on the (16x16) FashionMNIST dataset\")\n",
    "glob = \"**/*.csv\"\n"
   ]
  },
  {
   "cell_type": "code",
   "execution_count": 2,
   "metadata": {},
   "outputs": [],
   "source": [
    "from fnmatch import fnmatch\n",
    "from polars import DataFrame, read_csv\n",
    "\n",
    "# if path.is_dir():\n",
    "#     dfs = [read_csv(file) for file in path.glob(glob)]\n",
    "# else:\n",
    "#     if fnmatch(path, glob):\n",
    "#         df = read_csv(path)\n",
    "\n",
    "dfs = (read_csv(file) for file in path.glob(glob))\n",
    "labels = [file.stem for file in path.glob(glob)]\n",
    "title = path.stem\n"
   ]
  },
  {
   "cell_type": "code",
   "execution_count": 3,
   "metadata": {},
   "outputs": [],
   "source": [
    "from qcc.graph import process_dataframe\n",
    "\n",
    "dfs = [process_dataframe(df, as_plotly=True) for df in dfs]\n",
    "\n",
    "for df, name in zip(dfs, labels):\n",
    "    df.update(name=name, x=list(range(1, len(df[\"y\"])+1)))\n"
   ]
  },
  {
   "cell_type": "code",
   "execution_count": 4,
   "metadata": {},
   "outputs": [
    {
     "data": {
      "application/vnd.plotly.v1+json": {
       "config": {
        "plotlyServerURL": "https://plot.ly"
       },
       "data": [
        {
         "error_y": {
          "array": [
           0.00881330833681504,
           0.006913944275358963,
           0.004629947598890127,
           0.0047610121410506245,
           0.0055253418178331515,
           0.004070026084677214,
           0.005003914433911016,
           0.0033992342993512947
          ],
          "arrayminus": [
           0.00901332960375234,
           0.010913940460661742,
           0.008229984696821124,
           0.004561002795042235,
           0.0028253110141527316,
           0.005169982120291183,
           0.0013039203466916893,
           0.002099256996800025
          ],
          "symmetric": false,
          "type": "data"
         },
         "name": "Max Pooling",
         "type": "scatter",
         "x": [
          1,
          2,
          3,
          4,
          5,
          6,
          7,
          8
         ],
         "y": [
          0.9547500610351562,
          0.9677500426769257,
          0.9720000624656677,
          0.9752500355243683,
          0.9752500355243683,
          0.9782500267028809,
          0.9780000448226929,
          0.9795000553131104
         ]
        },
        {
         "error_y": {
          "array": [
           0.016357963378034635,
           0.011507192374789699,
           0.009234612746844006,
           0.00965035774189793,
           0.0070187298173779444,
           0.005528550624997575,
           0.006474615304354003,
           0.006200673764810372
          ],
          "arrayminus": [
           0.013457958991132779,
           0.015707185985171734,
           0.018734615607867044,
           0.01525033332783543,
           0.01791875041674318,
           0.01692857074752574,
           0.008874644009950972,
           0.009800710862741369
          ],
          "symmetric": false,
          "type": "data"
         },
         "name": "Max Pooling, ReLU",
         "type": "scatter",
         "x": [
          1,
          2,
          3,
          4,
          5,
          6,
          7,
          8
         ],
         "y": [
          0.9440000355243683,
          0.9600000381469727,
          0.9690000414848328,
          0.9680000245571136,
          0.9740000665187836,
          0.9742500483989716,
          0.9725000560283661,
          0.9745000600814819
         ]
        },
        {
         "error_y": {
          "array": [
           0.10578192507999895,
           0.12139075726063275,
           0.09490011665444364,
           0.08005332927391973,
           0.07685648146777724,
           0.07578584003182098,
           0.07601270620749268,
           0.0769346809939333
          ],
          "arrayminus": [
           0.23328194653767098,
           0.25729074209721103,
           0.29460018608193383,
           0.3232533333747193,
           0.3309564823260842,
           0.33468587445946385,
           0.3344127172701148,
           0.3341347075060791
          ],
          "symmetric": false,
          "type": "data"
         },
         "name": "Avg Pooling, ReLU",
         "type": "scatter",
         "x": [
          1,
          2,
          3,
          4,
          5,
          6,
          7,
          8
         ],
         "y": [
          0.8020000457763672,
          0.8345000147819519,
          0.8770000636577606,
          0.9132500290870667,
          0.9222500324249268,
          0.9265000522136688,
          0.9262500405311584,
          0.9262500405311584
         ]
        },
        {
         "error_y": {
          "array": [
           0.02478296293927873,
           0.006285260717759922,
           0.019581916097648255,
           0.010630191277602563,
           0.014495856869559343,
           0.00515785147036385,
           0.009955822337523568,
           0.0020356175264559795
          ],
          "arrayminus": [
           0.03758297695829127,
           0.037585269014726475,
           0.020281901124961532,
           0.04533021540556281,
           0.02039589415822507,
           0.01215786863650159,
           0.040855823863402474,
           0.012035619910641726
          ],
          "symmetric": false,
          "type": "data"
         },
         "name": "Avg Pooling",
         "type": "scatter",
         "x": [
          1,
          2,
          3,
          4,
          5,
          6,
          7,
          8
         ],
         "y": [
          0.7625000476837158,
          0.7822500467300415,
          0.7635000348091125,
          0.780500054359436,
          0.7730000615119934,
          0.7797500491142273,
          0.7827500402927399,
          0.7830000221729279
         ]
        }
       ],
       "layout": {
        "margin": {
         "b": 80,
         "l": 96,
         "t": 92
        },
        "template": {
         "data": {
          "bar": [
           {
            "error_x": {
             "color": "#2a3f5f"
            },
            "error_y": {
             "color": "#2a3f5f"
            },
            "marker": {
             "line": {
              "color": "#E5ECF6",
              "width": 0.5
             },
             "pattern": {
              "fillmode": "overlay",
              "size": 10,
              "solidity": 0.2
             }
            },
            "type": "bar"
           }
          ],
          "barpolar": [
           {
            "marker": {
             "line": {
              "color": "#E5ECF6",
              "width": 0.5
             },
             "pattern": {
              "fillmode": "overlay",
              "size": 10,
              "solidity": 0.2
             }
            },
            "type": "barpolar"
           }
          ],
          "carpet": [
           {
            "aaxis": {
             "endlinecolor": "#2a3f5f",
             "gridcolor": "white",
             "linecolor": "white",
             "minorgridcolor": "white",
             "startlinecolor": "#2a3f5f"
            },
            "baxis": {
             "endlinecolor": "#2a3f5f",
             "gridcolor": "white",
             "linecolor": "white",
             "minorgridcolor": "white",
             "startlinecolor": "#2a3f5f"
            },
            "type": "carpet"
           }
          ],
          "choropleth": [
           {
            "colorbar": {
             "outlinewidth": 0,
             "ticks": ""
            },
            "type": "choropleth"
           }
          ],
          "contour": [
           {
            "colorbar": {
             "outlinewidth": 0,
             "ticks": ""
            },
            "colorscale": [
             [
              0,
              "#0d0887"
             ],
             [
              0.1111111111111111,
              "#46039f"
             ],
             [
              0.2222222222222222,
              "#7201a8"
             ],
             [
              0.3333333333333333,
              "#9c179e"
             ],
             [
              0.4444444444444444,
              "#bd3786"
             ],
             [
              0.5555555555555556,
              "#d8576b"
             ],
             [
              0.6666666666666666,
              "#ed7953"
             ],
             [
              0.7777777777777778,
              "#fb9f3a"
             ],
             [
              0.8888888888888888,
              "#fdca26"
             ],
             [
              1,
              "#f0f921"
             ]
            ],
            "type": "contour"
           }
          ],
          "contourcarpet": [
           {
            "colorbar": {
             "outlinewidth": 0,
             "ticks": ""
            },
            "type": "contourcarpet"
           }
          ],
          "heatmap": [
           {
            "colorbar": {
             "outlinewidth": 0,
             "ticks": ""
            },
            "colorscale": [
             [
              0,
              "#0d0887"
             ],
             [
              0.1111111111111111,
              "#46039f"
             ],
             [
              0.2222222222222222,
              "#7201a8"
             ],
             [
              0.3333333333333333,
              "#9c179e"
             ],
             [
              0.4444444444444444,
              "#bd3786"
             ],
             [
              0.5555555555555556,
              "#d8576b"
             ],
             [
              0.6666666666666666,
              "#ed7953"
             ],
             [
              0.7777777777777778,
              "#fb9f3a"
             ],
             [
              0.8888888888888888,
              "#fdca26"
             ],
             [
              1,
              "#f0f921"
             ]
            ],
            "type": "heatmap"
           }
          ],
          "heatmapgl": [
           {
            "colorbar": {
             "outlinewidth": 0,
             "ticks": ""
            },
            "colorscale": [
             [
              0,
              "#0d0887"
             ],
             [
              0.1111111111111111,
              "#46039f"
             ],
             [
              0.2222222222222222,
              "#7201a8"
             ],
             [
              0.3333333333333333,
              "#9c179e"
             ],
             [
              0.4444444444444444,
              "#bd3786"
             ],
             [
              0.5555555555555556,
              "#d8576b"
             ],
             [
              0.6666666666666666,
              "#ed7953"
             ],
             [
              0.7777777777777778,
              "#fb9f3a"
             ],
             [
              0.8888888888888888,
              "#fdca26"
             ],
             [
              1,
              "#f0f921"
             ]
            ],
            "type": "heatmapgl"
           }
          ],
          "histogram": [
           {
            "marker": {
             "pattern": {
              "fillmode": "overlay",
              "size": 10,
              "solidity": 0.2
             }
            },
            "type": "histogram"
           }
          ],
          "histogram2d": [
           {
            "colorbar": {
             "outlinewidth": 0,
             "ticks": ""
            },
            "colorscale": [
             [
              0,
              "#0d0887"
             ],
             [
              0.1111111111111111,
              "#46039f"
             ],
             [
              0.2222222222222222,
              "#7201a8"
             ],
             [
              0.3333333333333333,
              "#9c179e"
             ],
             [
              0.4444444444444444,
              "#bd3786"
             ],
             [
              0.5555555555555556,
              "#d8576b"
             ],
             [
              0.6666666666666666,
              "#ed7953"
             ],
             [
              0.7777777777777778,
              "#fb9f3a"
             ],
             [
              0.8888888888888888,
              "#fdca26"
             ],
             [
              1,
              "#f0f921"
             ]
            ],
            "type": "histogram2d"
           }
          ],
          "histogram2dcontour": [
           {
            "colorbar": {
             "outlinewidth": 0,
             "ticks": ""
            },
            "colorscale": [
             [
              0,
              "#0d0887"
             ],
             [
              0.1111111111111111,
              "#46039f"
             ],
             [
              0.2222222222222222,
              "#7201a8"
             ],
             [
              0.3333333333333333,
              "#9c179e"
             ],
             [
              0.4444444444444444,
              "#bd3786"
             ],
             [
              0.5555555555555556,
              "#d8576b"
             ],
             [
              0.6666666666666666,
              "#ed7953"
             ],
             [
              0.7777777777777778,
              "#fb9f3a"
             ],
             [
              0.8888888888888888,
              "#fdca26"
             ],
             [
              1,
              "#f0f921"
             ]
            ],
            "type": "histogram2dcontour"
           }
          ],
          "mesh3d": [
           {
            "colorbar": {
             "outlinewidth": 0,
             "ticks": ""
            },
            "type": "mesh3d"
           }
          ],
          "parcoords": [
           {
            "line": {
             "colorbar": {
              "outlinewidth": 0,
              "ticks": ""
             }
            },
            "type": "parcoords"
           }
          ],
          "pie": [
           {
            "automargin": true,
            "type": "pie"
           }
          ],
          "scatter": [
           {
            "fillpattern": {
             "fillmode": "overlay",
             "size": 10,
             "solidity": 0.2
            },
            "line": {
             "shape": "spline",
             "width": 3
            },
            "marker": {
             "size": 10
            },
            "type": "scatter"
           }
          ],
          "scatter3d": [
           {
            "line": {
             "colorbar": {
              "outlinewidth": 0,
              "ticks": ""
             }
            },
            "marker": {
             "colorbar": {
              "outlinewidth": 0,
              "ticks": ""
             }
            },
            "type": "scatter3d"
           }
          ],
          "scattercarpet": [
           {
            "marker": {
             "colorbar": {
              "outlinewidth": 0,
              "ticks": ""
             }
            },
            "type": "scattercarpet"
           }
          ],
          "scattergeo": [
           {
            "marker": {
             "colorbar": {
              "outlinewidth": 0,
              "ticks": ""
             }
            },
            "type": "scattergeo"
           }
          ],
          "scattergl": [
           {
            "marker": {
             "colorbar": {
              "outlinewidth": 0,
              "ticks": ""
             }
            },
            "type": "scattergl"
           }
          ],
          "scattermapbox": [
           {
            "marker": {
             "colorbar": {
              "outlinewidth": 0,
              "ticks": ""
             }
            },
            "type": "scattermapbox"
           }
          ],
          "scatterpolar": [
           {
            "marker": {
             "colorbar": {
              "outlinewidth": 0,
              "ticks": ""
             }
            },
            "type": "scatterpolar"
           }
          ],
          "scatterpolargl": [
           {
            "marker": {
             "colorbar": {
              "outlinewidth": 0,
              "ticks": ""
             }
            },
            "type": "scatterpolargl"
           }
          ],
          "scatterternary": [
           {
            "marker": {
             "colorbar": {
              "outlinewidth": 0,
              "ticks": ""
             }
            },
            "type": "scatterternary"
           }
          ],
          "surface": [
           {
            "colorbar": {
             "outlinewidth": 0,
             "ticks": ""
            },
            "colorscale": [
             [
              0,
              "#0d0887"
             ],
             [
              0.1111111111111111,
              "#46039f"
             ],
             [
              0.2222222222222222,
              "#7201a8"
             ],
             [
              0.3333333333333333,
              "#9c179e"
             ],
             [
              0.4444444444444444,
              "#bd3786"
             ],
             [
              0.5555555555555556,
              "#d8576b"
             ],
             [
              0.6666666666666666,
              "#ed7953"
             ],
             [
              0.7777777777777778,
              "#fb9f3a"
             ],
             [
              0.8888888888888888,
              "#fdca26"
             ],
             [
              1,
              "#f0f921"
             ]
            ],
            "type": "surface"
           }
          ],
          "table": [
           {
            "cells": {
             "fill": {
              "color": "#EBF0F8"
             },
             "line": {
              "color": "white"
             }
            },
            "header": {
             "fill": {
              "color": "#C8D4E3"
             },
             "line": {
              "color": "white"
             }
            },
            "type": "table"
           }
          ]
         },
         "layout": {
          "annotationdefaults": {
           "arrowcolor": "#2a3f5f",
           "arrowhead": 0,
           "arrowwidth": 1
          },
          "autosize": false,
          "autotypenumbers": "strict",
          "coloraxis": {
           "colorbar": {
            "outlinewidth": 0,
            "ticks": ""
           }
          },
          "colorscale": {
           "diverging": [
            [
             0,
             "#8e0152"
            ],
            [
             0.1,
             "#c51b7d"
            ],
            [
             0.2,
             "#de77ae"
            ],
            [
             0.3,
             "#f1b6da"
            ],
            [
             0.4,
             "#fde0ef"
            ],
            [
             0.5,
             "#f7f7f7"
            ],
            [
             0.6,
             "#e6f5d0"
            ],
            [
             0.7,
             "#b8e186"
            ],
            [
             0.8,
             "#7fbc41"
            ],
            [
             0.9,
             "#4d9221"
            ],
            [
             1,
             "#276419"
            ]
           ],
           "sequential": [
            [
             0,
             "#0d0887"
            ],
            [
             0.1111111111111111,
             "#46039f"
            ],
            [
             0.2222222222222222,
             "#7201a8"
            ],
            [
             0.3333333333333333,
             "#9c179e"
            ],
            [
             0.4444444444444444,
             "#bd3786"
            ],
            [
             0.5555555555555556,
             "#d8576b"
            ],
            [
             0.6666666666666666,
             "#ed7953"
            ],
            [
             0.7777777777777778,
             "#fb9f3a"
            ],
            [
             0.8888888888888888,
             "#fdca26"
            ],
            [
             1,
             "#f0f921"
            ]
           ],
           "sequentialminus": [
            [
             0,
             "#0d0887"
            ],
            [
             0.1111111111111111,
             "#46039f"
            ],
            [
             0.2222222222222222,
             "#7201a8"
            ],
            [
             0.3333333333333333,
             "#9c179e"
            ],
            [
             0.4444444444444444,
             "#bd3786"
            ],
            [
             0.5555555555555556,
             "#d8576b"
            ],
            [
             0.6666666666666666,
             "#ed7953"
            ],
            [
             0.7777777777777778,
             "#fb9f3a"
            ],
            [
             0.8888888888888888,
             "#fdca26"
            ],
            [
             1,
             "#f0f921"
            ]
           ]
          },
          "colorway": [
           "#636efa",
           "#EF553B",
           "#00cc96",
           "#ab63fa",
           "#FFA15A",
           "#19d3f3",
           "#FF6692",
           "#B6E880",
           "#FF97FF",
           "#FECB52"
          ],
          "font": {
           "color": "black",
           "family": "Inter",
           "size": 16
          },
          "geo": {
           "bgcolor": "white",
           "lakecolor": "white",
           "landcolor": "#E5ECF6",
           "showlakes": true,
           "showland": true,
           "subunitcolor": "white"
          },
          "height": 500,
          "hoverlabel": {
           "align": "left"
          },
          "hovermode": "closest",
          "legend": {
           "bordercolor": "black",
           "borderwidth": 2,
           "font": {
            "color": "black",
            "family": "Inter",
            "size": 14
           },
           "y": 1.006,
           "yanchor": "top"
          },
          "mapbox": {
           "style": "light"
          },
          "margin": {
           "b": 40,
           "l": 40,
           "pad": 0,
           "r": 40,
           "t": 0
          },
          "paper_bgcolor": "white",
          "plot_bgcolor": "#ebebeb",
          "polar": {
           "angularaxis": {
            "gridcolor": "white",
            "linecolor": "white",
            "ticks": ""
           },
           "bgcolor": "#E5ECF6",
           "radialaxis": {
            "gridcolor": "white",
            "linecolor": "white",
            "ticks": ""
           }
          },
          "scene": {
           "xaxis": {
            "backgroundcolor": "#E5ECF6",
            "gridcolor": "white",
            "gridwidth": 2,
            "linecolor": "white",
            "showbackground": true,
            "ticks": "",
            "zerolinecolor": "white"
           },
           "yaxis": {
            "backgroundcolor": "#E5ECF6",
            "gridcolor": "white",
            "gridwidth": 2,
            "linecolor": "white",
            "showbackground": true,
            "ticks": "",
            "zerolinecolor": "white"
           },
           "zaxis": {
            "backgroundcolor": "#E5ECF6",
            "gridcolor": "white",
            "gridwidth": 2,
            "linecolor": "white",
            "showbackground": true,
            "ticks": "",
            "zerolinecolor": "white"
           }
          },
          "shapedefaults": {
           "line": {
            "color": "#2a3f5f"
           }
          },
          "ternary": {
           "aaxis": {
            "gridcolor": "white",
            "linecolor": "white",
            "ticks": ""
           },
           "baxis": {
            "gridcolor": "white",
            "linecolor": "white",
            "ticks": ""
           },
           "bgcolor": "#E5ECF6",
           "caxis": {
            "gridcolor": "white",
            "linecolor": "white",
            "ticks": ""
           }
          },
          "title": {
           "automargin": false,
           "font": {
            "color": "black",
            "family": "Inter SemiBold",
            "size": 20
           },
           "pad": {
            "b": 0,
            "l": 0,
            "r": 0,
            "t": 0
           },
           "x": 0.5,
           "xanchor": "center",
           "y": 1,
           "yanchor": "middle"
          },
          "width": 700,
          "xaxis": {
           "automargin": false,
           "gridcolor": "#c8c8c8",
           "gridwidth": 2,
           "linecolor": "#c8c8c8",
           "linewidth": 2,
           "minor": {
            "gridcolor": "#e1e1e1",
            "showgrid": false,
            "tickcolor": "#e1e1e1",
            "ticks": "outside"
           },
           "mirror": true,
           "showgrid": false,
           "showline": true,
           "tickcolor": "#c8c8c8",
           "ticks": "outside",
           "tickwidth": 2,
           "title": {
            "font": {
             "color": "black",
             "family": "Inter SemiBold",
             "size": 20
            },
            "standoff": 16
           },
           "zerolinecolor": "#c8c8c8",
           "zerolinewidth": 2
          },
          "yaxis": {
           "automargin": false,
           "gridcolor": "#c8c8c8",
           "gridwidth": 2,
           "linecolor": "#c8c8c8",
           "linewidth": 2,
           "minor": {
            "gridcolor": "#e1e1e1",
            "showgrid": true,
            "tickcolor": "#e1e1e1",
            "ticks": "outside"
           },
           "mirror": true,
           "showgrid": true,
           "showline": true,
           "tickcolor": "#c8c8c8",
           "ticks": "outside",
           "tickwidth": 2,
           "title": {
            "font": {
             "color": "black",
             "family": "Inter SemiBold",
             "size": 20
            },
            "standoff": 4
           },
           "zerolinecolor": "#c8c8c8",
           "zerolinewidth": 2
          }
         }
        },
        "title": {
         "text": "Classification accuracy of CNN configurations<br>on the (16x16) FashionMNIST dataset",
         "y": 0.92
        },
        "xaxis": {
         "dtick": 1,
         "title": {
          "text": "Epoch"
         }
        },
        "yaxis": {
         "tickformat": ",.0%",
         "title": {
          "text": "Accuracy"
         }
        }
       }
      }
     },
     "metadata": {},
     "output_type": "display_data"
    }
   ],
   "source": [
    "from qcc.graph import plot\n",
    "\n",
    "dfs[:] = [dfs[i] for i in [1, 3, 0, 2]]\n",
    "fig = plot(*dfs, title=title, ylabel=\"Accuracy\", xlabel=\"Epoch\",\n",
    "           yaxis_tickformat= ',.0%', xaxis_dtick=1)\n",
    "# layout_yaxis_range=[<from_value>, <to_value>]\n",
    "\n",
    "fig.show()\n"
   ]
  }
 ],
 "metadata": {
  "kernelspec": {
   "display_name": "Python 3",
   "language": "python",
   "name": "python3"
  },
  "language_info": {
   "codemirror_mode": {
    "name": "ipython",
    "version": 3
   },
   "file_extension": ".py",
   "mimetype": "text/x-python",
   "name": "python",
   "nbconvert_exporter": "python",
   "pygments_lexer": "ipython3",
   "version": "3.11.6"
  }
 },
 "nbformat": 4,
 "nbformat_minor": 2
}
