{
 "cells": [
  {
   "attachments": {},
   "cell_type": "markdown",
   "metadata": {},
   "source": [
    "### Creating a tensor \n",
    "(like ```NumPy.ndarray```)"
   ]
  },
  {
   "cell_type": "code",
   "execution_count": 1,
   "metadata": {},
   "outputs": [
    {
     "data": {
      "text/plain": [
       "tensor([[1, 2],\n",
       "        [3, 4]])"
      ]
     },
     "execution_count": 1,
     "metadata": {},
     "output_type": "execute_result"
    }
   ],
   "source": [
    "import torch\n",
    "import numpy as np\n",
    "\n",
    "data = [[1, 2],[3, 4]]\n",
    "torch.tensor(data)"
   ]
  },
  {
   "cell_type": "markdown",
   "metadata": {},
   "source": [
    "### Loading datasets"
   ]
  },
  {
   "cell_type": "code",
   "execution_count": 2,
   "metadata": {},
   "outputs": [],
   "source": [
    "from torchvision import datasets\n",
    "from torchvision.transforms import ToTensor, Lambda\n",
    "\n",
    "training_data = datasets.MNIST(\n",
    "    root=\"data\",\n",
    "    train=True,\n",
    "    download=True,\n",
    "    transform=ToTensor(),\n",
    "    # target_transform=Lambda(lambda y: torch.zeros(10, dtype=torch.float).scatter_(0, torch.tensor(y), value=1))\n",
    ")\n",
    "\n",
    "test_data = datasets.MNIST(\n",
    "    root=\"data\",\n",
    "    train=False,\n",
    "    download=True,\n",
    "    transform=ToTensor(),\n",
    "    # target_transform=Lambda(lambda y: torch.zeros(10, dtype=torch.float).scatter_(0, torch.tensor(y), value=1))\n",
    ")"
   ]
  },
  {
   "cell_type": "code",
   "execution_count": 18,
   "metadata": {},
   "outputs": [
    {
     "data": {
      "image/png": "[encoded data removed]",
      "text/plain": [
       "<Figure size 640x480 with 1 Axes>"
      ]
     },
     "metadata": {},
     "output_type": "display_data"
    }
   ],
   "source": [
    "from PIL import Image\n",
    "import matplotlib.pyplot as plt\n",
    "\n",
    "%matplotlib inline\n",
    "\n",
    "i = 0\n",
    "data, label = training_data[i]\n",
    "data = data.reshape((28, 28))\n",
    "\n",
    "plt.imshow(data, cmap='gray')\n",
    "plt.show()\n",
    "\n",
    "# img = Image.fromarray(255 * data.numpy()).convert(\"L\")\n",
    "# display(img)"
   ]
  },
  {
   "attachments": {},
   "cell_type": "markdown",
   "metadata": {},
   "source": [
    "### Neural network construction"
   ]
  },
  {
   "cell_type": "code",
   "execution_count": 4,
   "metadata": {},
   "outputs": [
    {
     "name": "stdout",
     "output_type": "stream",
     "text": [
      "Using cpu device\n"
     ]
    }
   ],
   "source": [
    "import os\n",
    "import torch\n",
    "from torch import nn\n",
    "from torch.utils.data import DataLoader\n",
    "from torchvision import datasets, transforms\n",
    "\n",
    "device = \"cuda\" if torch.cuda.is_available() else \"cpu\"\n",
    "print(f\"Using {device} device\")"
   ]
  },
  {
   "cell_type": "code",
   "execution_count": 5,
   "metadata": {},
   "outputs": [
    {
     "name": "stdout",
     "output_type": "stream",
     "text": [
      "NeuralNetwork(\n",
      "  (flatten): Flatten(start_dim=1, end_dim=-1)\n",
      "  (linear_relu_stack): Sequential(\n",
      "    (0): Linear(in_features=784, out_features=512, bias=True)\n",
      "    (1): ReLU()\n",
      "    (2): Linear(in_features=512, out_features=512, bias=True)\n",
      "    (3): ReLU()\n",
      "    (4): Linear(in_features=512, out_features=10, bias=True)\n",
      "  )\n",
      ")\n"
     ]
    }
   ],
   "source": [
    "class NeuralNetwork(nn.Module):\n",
    "    def __init__(self):\n",
    "        super(NeuralNetwork, self).__init__()\n",
    "        self.flatten = nn.Flatten()\n",
    "        self.linear_relu_stack = nn.Sequential(\n",
    "            nn.Linear(28*28, 512),\n",
    "            nn.ReLU(),\n",
    "            nn.Linear(512, 512),\n",
    "            nn.ReLU(),\n",
    "            nn.Linear(512, 10),\n",
    "        )\n",
    "\n",
    "    def forward(self, x):\n",
    "        x = self.flatten(x) # 2D to 1D input\n",
    "        logits = self.linear_relu_stack(x) # Neural network layers\n",
    "        return logits # Final output\n",
    "    \n",
    "    \n",
    "# class Mnist_CNN(nn.Module):\n",
    "#     def __init__(self):\n",
    "#         super().__init__()\n",
    "#         self.conv1 = nn.Conv2d(1, 16, kernel_size=3, stride=2, padding=1)\n",
    "#         self.conv2 = nn.Conv2d(16, 16, kernel_size=3, stride=2, padding=1)\n",
    "#         self.conv3 = nn.Conv2d(16, 10, kernel_size=3, stride=2, padding=1)\n",
    "\n",
    "#     def forward(self, xb):\n",
    "#         xb = xb.view(-1, 1, 28, 28)\n",
    "#         xb = F.relu(self.conv1(xb))\n",
    "#         xb = F.relu(self.conv2(xb))\n",
    "#         xb = F.relu(self.conv3(xb))\n",
    "#         xb = F.avg_pool2d(xb, 4)\n",
    "#         return xb.view(-1, xb.size(1))\n",
    "\n",
    "lr = 0.1\n",
    "    \n",
    "model = NeuralNetwork().to(device)\n",
    "print(model)"
   ]
  },
  {
   "attachments": {},
   "cell_type": "markdown",
   "metadata": {},
   "source": [
    "Example run with 1 input data"
   ]
  },
  {
   "cell_type": "code",
   "execution_count": 6,
   "metadata": {},
   "outputs": [
    {
     "name": "stdout",
     "output_type": "stream",
     "text": [
      "Predicted class: tensor([1])\n"
     ]
    }
   ],
   "source": [
    "X = torch.rand(1, 28, 28, device=device)\n",
    "logits = model(X) # 2D array of outputs (dim=0) and individual values of each output (dim=1)\n",
    "pred_probab = nn.Softmax(dim=1)(logits) # Converts to a probability amplitude (normalization)\n",
    "y_pred = pred_probab.argmax(1) # Gets maximum probability\n",
    "print(f\"Predicted class: {y_pred}\")"
   ]
  },
  {
   "attachments": {},
   "cell_type": "markdown",
   "metadata": {},
   "source": [
    "### Back propagation\n",
    "using ```torch.autograd```\n",
    "\n",
    "Inside the training loop, optimization happens in three steps:\n",
    "* Call `optimizer.zero_grad()` to reset the gradients of model parameters. Gradients by default add up; to prevent double-counting, we explicitly zero them at each iteration.\n",
    "* Backpropagate the prediction loss with a call to `loss.backward()`. PyTorch deposits the gradients of the loss w.r.t. each parameter.\n",
    "* Once we have our gradients, we call `optimizer.step()` to adjust the parameters by the gradients collected in the backward pass."
   ]
  },
  {
   "cell_type": "code",
   "execution_count": 7,
   "metadata": {},
   "outputs": [],
   "source": [
    "learning_rate = 1e-3\n",
    "batch_size = 64\n",
    "epochs = 5"
   ]
  },
  {
   "attachments": {},
   "cell_type": "markdown",
   "metadata": {},
   "source": [
    "Loss Function"
   ]
  },
  {
   "cell_type": "code",
   "execution_count": 8,
   "metadata": {},
   "outputs": [],
   "source": [
    "# Initialize the loss function\n",
    "loss_fn = nn.CrossEntropyLoss()"
   ]
  },
  {
   "attachments": {},
   "cell_type": "markdown",
   "metadata": {},
   "source": [
    "[Optimizers](https://pytorch.org/docs/stable/optim.html)"
   ]
  },
  {
   "cell_type": "code",
   "execution_count": 9,
   "metadata": {},
   "outputs": [],
   "source": [
    "optimizer = torch.optim.SGD(model.parameters(), lr=learning_rate)"
   ]
  },
  {
   "cell_type": "code",
   "execution_count": 10,
   "metadata": {},
   "outputs": [],
   "source": [
    "def train_loop(dataloader, model, loss_fn, optimizer):\n",
    "    size = len(dataloader.dataset)\n",
    "    for batch, (X, y) in enumerate(dataloader):\n",
    "        # Compute prediction and loss\n",
    "        pred = model(X)\n",
    "        loss = loss_fn(pred, y)\n",
    "\n",
    "        # Backpropagation\n",
    "        optimizer.zero_grad()\n",
    "        loss.backward()\n",
    "        optimizer.step()\n",
    "\n",
    "        if batch % 100 == 0:\n",
    "            loss, current = loss.item(), batch * len(X)\n",
    "            print(f\"loss: {loss:>7f}  [{current:>5d}/{size:>5d}]\")\n",
    "\n",
    "\n",
    "def test_loop(dataloader, model, loss_fn):\n",
    "    size = len(dataloader.dataset)\n",
    "    num_batches = len(dataloader)\n",
    "    test_loss, correct = 0, 0\n",
    "\n",
    "    with torch.no_grad():\n",
    "        for X, y in dataloader:\n",
    "            pred = model(X)\n",
    "            test_loss += loss_fn(pred, y).item()\n",
    "            correct += (pred.argmax(1) == y).type(torch.float).sum().item()\n",
    "\n",
    "    test_loss /= num_batches\n",
    "    correct /= size\n",
    "    print(f\"Test Error: \\n Accuracy: {(100*correct):>0.1f}%, Avg loss: {test_loss:>8f} \\n\")"
   ]
  },
  {
   "cell_type": "code",
   "execution_count": 11,
   "metadata": {},
   "outputs": [
    {
     "name": "stdout",
     "output_type": "stream",
     "text": [
      "Epoch 1\n",
      "-------------------------------\n",
      "loss: 2.302346  [    0/60000]\n",
      "loss: 2.304604  [ 6400/60000]\n",
      "loss: 2.290633  [12800/60000]\n",
      "loss: 2.287872  [19200/60000]\n",
      "loss: 2.280988  [25600/60000]\n",
      "loss: 2.280408  [32000/60000]\n",
      "loss: 2.267185  [38400/60000]\n",
      "loss: 2.282729  [44800/60000]\n",
      "loss: 2.265456  [51200/60000]\n",
      "loss: 2.248088  [57600/60000]\n",
      "Test Error: \n",
      " Accuracy: 41.2%, Avg loss: 2.255135 \n",
      "\n",
      "Epoch 2\n",
      "-------------------------------\n",
      "loss: 2.253543  [    0/60000]\n",
      "loss: 2.252153  [ 6400/60000]\n",
      "loss: 2.251847  [12800/60000]\n",
      "loss: 2.225836  [19200/60000]\n",
      "loss: 2.228175  [25600/60000]\n",
      "loss: 2.228032  [32000/60000]\n",
      "loss: 2.205345  [38400/60000]\n",
      "loss: 2.238328  [44800/60000]\n",
      "loss: 2.201232  [51200/60000]\n",
      "loss: 2.182041  [57600/60000]\n",
      "Test Error: \n",
      " Accuracy: 63.3%, Avg loss: 2.188731 \n",
      "\n",
      "Epoch 3\n",
      "-------------------------------\n",
      "loss: 2.187288  [    0/60000]\n",
      "loss: 2.179158  [ 6400/60000]\n",
      "loss: 2.191605  [12800/60000]\n",
      "loss: 2.135399  [19200/60000]\n",
      "loss: 2.147136  [25600/60000]\n",
      "loss: 2.143727  [32000/60000]\n",
      "loss: 2.104757  [38400/60000]\n",
      "loss: 2.163319  [44800/60000]\n",
      "loss: 2.096880  [51200/60000]\n",
      "loss: 2.071399  [57600/60000]\n",
      "Test Error: \n",
      " Accuracy: 70.4%, Avg loss: 2.076977 \n",
      "\n",
      "Epoch 4\n",
      "-------------------------------\n",
      "loss: 2.076171  [    0/60000]\n",
      "loss: 2.054708  [ 6400/60000]\n",
      "loss: 2.087306  [12800/60000]\n",
      "loss: 1.983539  [19200/60000]\n",
      "loss: 2.008351  [25600/60000]\n",
      "loss: 1.997025  [32000/60000]\n",
      "loss: 1.931878  [38400/60000]\n",
      "loss: 2.028443  [44800/60000]\n",
      "loss: 1.918861  [51200/60000]\n",
      "loss: 1.883192  [57600/60000]\n",
      "Test Error: \n",
      " Accuracy: 73.0%, Avg loss: 1.883988 \n",
      "\n",
      "Epoch 5\n",
      "-------------------------------\n",
      "loss: 1.886621  [    0/60000]\n",
      "loss: 1.840400  [ 6400/60000]\n",
      "loss: 1.904564  [12800/60000]\n",
      "loss: 1.736795  [19200/60000]\n",
      "loss: 1.773156  [25600/60000]\n",
      "loss: 1.751644  [32000/60000]\n",
      "loss: 1.659579  [38400/60000]\n",
      "loss: 1.801283  [44800/60000]\n",
      "loss: 1.646153  [51200/60000]\n",
      "loss: 1.598541  [57600/60000]\n",
      "Test Error: \n",
      " Accuracy: 74.7%, Avg loss: 1.590260 \n",
      "\n",
      "Epoch 6\n",
      "-------------------------------\n",
      "loss: 1.607350  [    0/60000]\n",
      "loss: 1.525786  [ 6400/60000]\n",
      "loss: 1.620664  [12800/60000]\n",
      "loss: 1.410864  [19200/60000]\n",
      "loss: 1.442575  [25600/60000]\n",
      "loss: 1.422755  [32000/60000]\n",
      "loss: 1.323949  [38400/60000]\n",
      "loss: 1.501486  [44800/60000]\n",
      "loss: 1.332631  [51200/60000]\n",
      "loss: 1.277372  [57600/60000]\n",
      "Test Error: \n",
      " Accuracy: 77.1%, Avg loss: 1.261959 \n",
      "\n",
      "Epoch 7\n",
      "-------------------------------\n",
      "loss: 1.306553  [    0/60000]\n",
      "loss: 1.199109  [ 6400/60000]\n",
      "loss: 1.300617  [12800/60000]\n",
      "loss: 1.106241  [19200/60000]\n",
      "loss: 1.124811  [25600/60000]\n",
      "loss: 1.113938  [32000/60000]\n",
      "loss: 1.026420  [38400/60000]\n",
      "loss: 1.220400  [44800/60000]\n",
      "loss: 1.079447  [51200/60000]\n",
      "loss: 1.019943  [57600/60000]\n",
      "Test Error: \n",
      " Accuracy: 80.2%, Avg loss: 1.002396 \n",
      "\n",
      "Epoch 8\n",
      "-------------------------------\n",
      "loss: 1.072357  [    0/60000]\n",
      "loss: 0.958143  [ 6400/60000]\n",
      "loss: 1.041375  [12800/60000]\n",
      "loss: 0.891830  [19200/60000]\n",
      "loss: 0.900300  [25600/60000]\n",
      "loss: 0.893351  [32000/60000]\n",
      "loss: 0.817660  [38400/60000]\n",
      "loss: 1.013678  [44800/60000]\n",
      "loss: 0.911129  [51200/60000]\n",
      "loss: 0.850412  [57600/60000]\n",
      "Test Error: \n",
      " Accuracy: 82.2%, Avg loss: 0.829421 \n",
      "\n",
      "Epoch 9\n",
      "-------------------------------\n",
      "loss: 0.913627  [    0/60000]\n",
      "loss: 0.801727  [ 6400/60000]\n",
      "loss: 0.862145  [12800/60000]\n",
      "loss: 0.753389  [19200/60000]\n",
      "loss: 0.754473  [25600/60000]\n",
      "loss: 0.750200  [32000/60000]\n",
      "loss: 0.679097  [38400/60000]\n",
      "loss: 0.873041  [44800/60000]\n",
      "loss: 0.800220  [51200/60000]\n",
      "loss: 0.742555  [57600/60000]\n",
      "Test Error: \n",
      " Accuracy: 83.5%, Avg loss: 0.715436 \n",
      "\n",
      "Epoch 10\n",
      "-------------------------------\n",
      "loss: 0.805705  [    0/60000]\n",
      "loss: 0.696904  [ 6400/60000]\n",
      "loss: 0.740041  [12800/60000]\n",
      "loss: 0.663189  [19200/60000]\n",
      "loss: 0.656236  [25600/60000]\n",
      "loss: 0.656077  [32000/60000]\n",
      "loss: 0.583829  [38400/60000]\n",
      "loss: 0.776761  [44800/60000]\n",
      "loss: 0.722366  [51200/60000]\n",
      "loss: 0.671780  [57600/60000]\n",
      "Test Error: \n",
      " Accuracy: 84.6%, Avg loss: 0.636879 \n",
      "\n",
      "Done!\n"
     ]
    }
   ],
   "source": [
    "train_dataloader = DataLoader(training_data, batch_size=64)\n",
    "test_dataloader = DataLoader(test_data, batch_size=64)\n",
    "\n",
    "loss_fn = nn.CrossEntropyLoss()\n",
    "optimizer = torch.optim.SGD(model.parameters(), lr=learning_rate)\n",
    "\n",
    "epochs = 10\n",
    "for t in range(epochs):\n",
    "    print(f\"Epoch {t+1}\\n-------------------------------\")\n",
    "    train_loop(train_dataloader, model, loss_fn, optimizer)\n",
    "    test_loop(test_dataloader, model, loss_fn)\n",
    "print(\"Done!\")"
   ]
  },
  {
   "attachments": {},
   "cell_type": "markdown",
   "metadata": {},
   "source": [
    "### Saving and loading the model"
   ]
  },
  {
   "cell_type": "code",
   "execution_count": 12,
   "metadata": {},
   "outputs": [],
   "source": [
    "torch.save(model.state_dict(), 'model_weights.pth')"
   ]
  },
  {
   "cell_type": "code",
   "execution_count": 13,
   "metadata": {},
   "outputs": [
    {
     "data": {
      "text/plain": [
       "NeuralNetwork(\n",
       "  (flatten): Flatten(start_dim=1, end_dim=-1)\n",
       "  (linear_relu_stack): Sequential(\n",
       "    (0): Linear(in_features=784, out_features=512, bias=True)\n",
       "    (1): ReLU()\n",
       "    (2): Linear(in_features=512, out_features=512, bias=True)\n",
       "    (3): ReLU()\n",
       "    (4): Linear(in_features=512, out_features=10, bias=True)\n",
       "  )\n",
       ")"
      ]
     },
     "execution_count": 13,
     "metadata": {},
     "output_type": "execute_result"
    }
   ],
   "source": [
    "model.load_state_dict(torch.load('model_weights.pth'))\n",
    "model.eval()"
   ]
  },
  {
   "attachments": {},
   "cell_type": "markdown",
   "metadata": {},
   "source": [
    "Alternate syntax to also store model structure"
   ]
  },
  {
   "cell_type": "code",
   "execution_count": 14,
   "metadata": {},
   "outputs": [],
   "source": [
    "torch.save(model, 'model.pth')"
   ]
  },
  {
   "cell_type": "code",
   "execution_count": 15,
   "metadata": {},
   "outputs": [],
   "source": [
    "model = torch.load('model.pth')"
   ]
  }
 ],
 "metadata": {
  "kernelspec": {
   "display_name": "Python 3",
   "language": "python",
   "name": "python3"
  },
  "language_info": {
   "codemirror_mode": {
    "name": "ipython",
    "version": 3
   },
   "file_extension": ".py",
   "mimetype": "text/x-python",
   "name": "python",
   "nbconvert_exporter": "python",
   "pygments_lexer": "ipython3",
   "version": "3.10.9"
  },
  "orig_nbformat": 4,
  "vscode": {
   "interpreter": {
    "hash": "c7967d85baf232544f00baec60c53642b018367ac4c489b1a4dde60b922cc6fa"
   }
  }
 },
 "nbformat": 4,
 "nbformat_minor": 2
}
