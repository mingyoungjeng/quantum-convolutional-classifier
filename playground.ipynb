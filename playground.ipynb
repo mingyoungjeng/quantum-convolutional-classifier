{
 "cells": [
  {
   "cell_type": "code",
   "execution_count": null,
   "metadata": {},
   "outputs": [],
   "source": [
    "import numpy as np\n",
    "\n",
    "theta_1 = complex(0.6 * np.pi/2)\n",
    "phi_1 = complex(-0.8 * np.pi/2)\n",
    "phi_2 = complex(0.2 * np.pi/2)\n",
    "\n",
    "np.cos(theta_1)**2 * np.cos(phi_1)**2 + np.sin(theta_1)**2 * np.cos(phi_2)**2, np.cos(theta_1)**2 * np.sin(phi_1)**2 + np.sin(theta_1)**2 * np.sin(phi_2)**2"
   ]
  },
  {
   "cell_type": "code",
   "execution_count": null,
   "metadata": {},
   "outputs": [],
   "source": [
    "theta_2a = np.arccos(np.sqrt(np.cos(theta_1)**2 * np.cos(phi_1)**2 + np.sin(theta_1)**2 * np.cos(phi_2)**2))\n",
    "theta_2b = np.arcsin(np.sqrt(np.cos(theta_1)**2 * np.sin(phi_1)**2 + np.sin(theta_1)**2 * np.sin(phi_2)**2))\n",
    "\n",
    "np.cos(theta_2a)**2, np.sin(theta_2b)**2"
   ]
  },
  {
   "cell_type": "code",
   "execution_count": null,
   "metadata": {},
   "outputs": [],
   "source": [
    "# This doesn't work, I don't think\n",
    "\n",
    "theta_2a = np.arccos(np.cos(theta_1)*np.cos(phi_1) + 1j*np.sin(theta_1)*np.cos(phi_2))\n",
    "theta_2b = np.arcsin(np.cos(theta_1)*np.sin(phi_1) + 1j*np.sin(theta_1)*np.sin(phi_2))\n",
    "\n",
    "np.abs(np.cos(theta_2a))**2, np.abs(np.sin(theta_2b))**2"
   ]
  },
  {
   "cell_type": "code",
   "execution_count": null,
   "metadata": {},
   "outputs": [],
   "source": [
    "theta_2a = -1j*np.log(1j*np.sqrt(1 - np.cos(theta_1)**2 * np.cos(phi_1)**2 - np.sin(theta_1)**2 * np.cos(phi_2)**2) + np.sqrt(np.cos(theta_1)**2 * np.cos(phi_1)**2 + np.sin(theta_1)**2 * np.cos(phi_2)**2))\n",
    "theta_2b = -1j*np.log(np.sqrt(1 - np.cos(theta_1)**2 * np.sin(phi_1)**2 - np.sin(theta_1)**2 * np.sin(phi_2)**2) + 1j * np.sqrt(np.cos(theta_1)**2 * np.sin(phi_1)**2 + np.sin(theta_1)**2 * np.sin(phi_2)**2))\n",
    "\n",
    "theta_2a, theta_2b"
   ]
  },
  {
   "cell_type": "code",
   "execution_count": null,
   "metadata": {},
   "outputs": [],
   "source": [
    "np.sqrt(1 - np.cos(theta_1)**2 * np.cos(phi_1)**2 - np.sin(theta_1)**2 * np.cos(phi_2)**2), np.sqrt(np.cos(theta_1)**2 * np.sin(phi_1)**2 + np.sin(theta_1)**2 * np.sin(phi_2)**2)"
   ]
  },
  {
   "cell_type": "code",
   "execution_count": null,
   "metadata": {},
   "outputs": [],
   "source": [
    "np.arctan(np.sqrt((np.cos(theta_1)**2 * np.sin(phi_1)**2 + np.sin(theta_1)**2 * np.sin(phi_2)**2) / (np.cos(theta_1)**2 * np.cos(phi_1)**2 + np.sin(theta_1)**2 * np.cos(phi_2)**2)))"
   ]
  },
  {
   "cell_type": "code",
   "execution_count": null,
   "metadata": {},
   "outputs": [],
   "source": [
    "np.angle((np.cos(theta_1)**2 * np.sin(phi_1)**2 + np.sin(theta_1)**2 * np.sin(phi_2)**2) / (np.cos(theta_1)**2 * np.cos(phi_1)**2 + np.sin(theta_1)**2 * np.cos(phi_2)**2))"
   ]
  },
  {
   "cell_type": "code",
   "execution_count": null,
   "metadata": {},
   "outputs": [],
   "source": [
    "from qiskit import QuantumCircuit, ClassicalRegister, Aer, execute\n",
    "\n",
    "qc = QuantumCircuit(2)\n",
    "qc.h([0, 1])\n",
    "\n",
    "qc.add_register(ClassicalRegister(1))\n",
    "qc.measure(0, 0)\n",
    "\n",
    "qc.cx(0, 1)\n",
    "qc.measure_all()\n",
    "\n",
    "display(qc.draw('mpl'))\n",
    "\n",
    "job = execute(qc, Aer.get_backend('aer_simulator'))\n",
    "result = job.result()\n",
    "\n",
    "counts = result.get_counts()\n",
    "print(counts)"
   ]
  },
  {
   "cell_type": "code",
   "execution_count": 37,
   "metadata": {},
   "outputs": [],
   "source": [
    "import numpy as np\n",
    "\n",
    "dims = [16, 3, 34]\n",
    "dims_q = [int(np.ceil(np.log2(dim))) for dim in dims]\n",
    "dims = np.stack(\n",
    "    [\n",
    "        np.pad(range(end - size, end), (0, max(dims_q) - size), constant_values=-1)\n",
    "        for size, end in zip(dims_q, np.cumsum(dims_q))\n",
    "    ],\n",
    "    axis=1,\n",
    ")\n",
    "\n",
    "dims"
   ]
  }
 ],
 "metadata": {
  "kernelspec": {
   "display_name": "Python 3",
   "language": "python",
   "name": "python3"
  },
  "language_info": {
   "codemirror_mode": {
    "name": "ipython",
    "version": 3
   },
   "file_extension": ".py",
   "mimetype": "text/x-python",
   "name": "python",
   "nbconvert_exporter": "python",
   "pygments_lexer": "ipython3",
   "version": "3.10.9"
  },
  "orig_nbformat": 4,
  "vscode": {
   "interpreter": {
    "hash": "c7967d85baf232544f00baec60c53642b018367ac4c489b1a4dde60b922cc6fa"
   }
  }
 },
 "nbformat": 4,
 "nbformat_minor": 2
}
