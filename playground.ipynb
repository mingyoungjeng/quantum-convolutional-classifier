{
 "cells": [
  {
   "cell_type": "code",
   "execution_count": 1,
   "metadata": {},
   "outputs": [],
   "source": [
    "import numpy as np\n",
    "rng = np.random.default_rng()\n",
    "\n",
    "%run src/qcnn.py"
   ]
  },
  {
   "cell_type": "code",
   "execution_count": 2,
   "metadata": {},
   "outputs": [],
   "source": [
    "qcnn = QCNN((16, 16))"
   ]
  },
  {
   "cell_type": "code",
   "execution_count": 3,
   "metadata": {},
   "outputs": [],
   "source": [
    "# qcnn.predict(rng.random(2**8), rng.random(420))"
   ]
  },
  {
   "cell_type": "code",
   "execution_count": 4,
   "metadata": {},
   "outputs": [
    {
     "name": "stdout",
     "output_type": "stream",
     "text": [
      "iteration: 0/3167, cost: 0.692\n",
      "iteration: 100/3167, cost: 0.580\n",
      "iteration: 200/3167, cost: 0.587\n",
      "iteration: 300/3167, cost: 0.463\n",
      "iteration: 400/3167, cost: 0.423\n",
      "iteration: 500/3167, cost: 0.548\n",
      "iteration: 600/3167, cost: 0.610\n",
      "iteration: 700/3167, cost: 0.493\n",
      "iteration: 800/3167, cost: 0.566\n",
      "iteration: 900/3167, cost: 0.496\n",
      "iteration: 1000/3167, cost: 0.524\n",
      "iteration: 1100/3167, cost: 0.437\n",
      "iteration: 1200/3167, cost: 0.427\n",
      "iteration: 1300/3167, cost: 0.521\n",
      "iteration: 1400/3167, cost: 0.493\n",
      "iteration: 1500/3167, cost: 0.526\n",
      "iteration: 1600/3167, cost: 0.513\n",
      "iteration: 1700/3167, cost: 0.378\n",
      "iteration: 1800/3167, cost: 0.575\n",
      "iteration: 1900/3167, cost: 0.613\n",
      "iteration: 2000/3167, cost: 0.504\n",
      "iteration: 2100/3167, cost: 0.550\n",
      "iteration: 2200/3167, cost: 0.395\n",
      "iteration: 2300/3167, cost: 0.447\n",
      "iteration: 2400/3167, cost: 0.390\n",
      "iteration: 2500/3167, cost: 0.538\n",
      "iteration: 2600/3167, cost: 0.569\n",
      "iteration: 2700/3167, cost: 0.435\n",
      "iteration: 2800/3167, cost: 0.485\n",
      "iteration: 2900/3167, cost: 0.511\n",
      "iteration: 3000/3167, cost: 0.574\n",
      "iteration: 3100/3167, cost: 0.462\n",
      "iteration: 3166/3167, cost: 0.511\n",
      "tensor(0.9556)\n"
     ]
    }
   ],
   "source": [
    "from torchvision.datasets import MNIST\n",
    "from torch.optim import SGD\n",
    "from torch.nn import CrossEntropyLoss\n",
    "from pennylane import NesterovMomentumOptimizer\n",
    "\n",
    "accuracy = qcnn.run(MNIST, SGD, CrossEntropyLoss())\n",
    "\n",
    "print(accuracy)"
   ]
  }
 ],
 "metadata": {
  "kernelspec": {
   "display_name": "Python 3",
   "language": "python",
   "name": "python3"
  },
  "language_info": {
   "codemirror_mode": {
    "name": "ipython",
    "version": 3
   },
   "file_extension": ".py",
   "mimetype": "text/x-python",
   "name": "python",
   "nbconvert_exporter": "python",
   "pygments_lexer": "ipython3",
   "version": "3.10.9"
  },
  "orig_nbformat": 4,
  "vscode": {
   "interpreter": {
    "hash": "c7967d85baf232544f00baec60c53642b018367ac4c489b1a4dde60b922cc6fa"
   }
  }
 },
 "nbformat": 4,
 "nbformat_minor": 2
}
