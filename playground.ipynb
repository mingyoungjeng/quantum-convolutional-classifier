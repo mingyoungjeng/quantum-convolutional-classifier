{
    "cells": [
        {
            "cell_type": "code",
            "execution_count": 1,
            "metadata": {},
            "outputs": [],
            "source": [
                "import numpy as np\n",
                "from torchvision.datasets import MNIST, FashionMNIST, CIFAR10\n",
                "from torch.optim import SGD\n",
                "from torch.nn import CrossEntropyLoss, MSELoss\n",
                "from pennylane import NesterovMomentumOptimizer\n",
                "# rng = np.random.default_rng()\n",
                "\n",
                "%run src/qcnn.py\n",
                "%run src/qcnn_old.py\n",
                "\n",
                "dims = (16, 16), (28, 28), (32, 32)\n",
                "num_trials = 10"
            ]
        },
        {
            "cell_type": "code",
            "execution_count": 3,
            "metadata": {},
            "outputs": [
                {
                    "name": "stdout",
                    "output_type": "stream",
                    "text": [
                        "Using cpu device\n",
                        "len(params)=18\n",
                        "num_layers=1, accuracy=94.550%\n",
                        "len(params)=30\n",
                        "num_layers=2, accuracy=92.850%\n",
                        "len(params)=42\n",
                        "num_layers=3, accuracy=92.100%\n",
                        "len(params)=54\n",
                        "num_layers=4, accuracy=93.150%\n",
                        "len(params)=18\n",
                        "num_layers=1, accuracy=92.950%\n",
                        "len(params)=30\n",
                        "num_layers=2, accuracy=93.600%\n",
                        "len(params)=42\n",
                        "num_layers=3, accuracy=86.650%\n",
                        "len(params)=54\n",
                        "num_layers=4, accuracy=75.600%\n",
                        "len(params)=18\n",
                        "num_layers=1, accuracy=92.600%\n",
                        "len(params)=30\n",
                        "num_layers=2, accuracy=91.850%\n",
                        "len(params)=42\n",
                        "num_layers=3, accuracy=90.950%\n",
                        "len(params)=54\n",
                        "num_layers=4, accuracy=92.800%\n",
                        "len(params)=18\n",
                        "num_layers=1, accuracy=93.300%\n",
                        "len(params)=30\n",
                        "num_layers=2, accuracy=91.250%\n",
                        "len(params)=42\n",
                        "num_layers=3, accuracy=90.250%\n",
                        "len(params)=54\n",
                        "num_layers=4, accuracy=92.250%\n",
                        "len(params)=18\n",
                        "num_layers=1, accuracy=92.850%\n",
                        "len(params)=30\n",
                        "num_layers=2, accuracy=93.200%\n",
                        "len(params)=42\n",
                        "num_layers=3, accuracy=92.950%\n",
                        "len(params)=54\n",
                        "num_layers=4, accuracy=93.000%\n",
                        "len(params)=18\n",
                        "num_layers=1, accuracy=93.300%\n",
                        "len(params)=30\n",
                        "num_layers=2, accuracy=92.650%\n",
                        "len(params)=42\n",
                        "num_layers=3, accuracy=92.750%\n",
                        "len(params)=54\n",
                        "num_layers=4, accuracy=93.450%\n",
                        "len(params)=18\n",
                        "num_layers=1, accuracy=94.250%\n",
                        "len(params)=30\n",
                        "num_layers=2, accuracy=90.850%\n",
                        "len(params)=42\n",
                        "num_layers=3, accuracy=93.450%\n",
                        "len(params)=54\n",
                        "num_layers=4, accuracy=90.700%\n",
                        "len(params)=18\n",
                        "num_layers=1, accuracy=93.350%\n",
                        "len(params)=30\n",
                        "num_layers=2, accuracy=92.950%\n",
                        "len(params)=42\n",
                        "num_layers=3, accuracy=92.850%\n",
                        "len(params)=54\n",
                        "num_layers=4, accuracy=93.050%\n",
                        "len(params)=18\n",
                        "num_layers=1, accuracy=93.700%\n",
                        "len(params)=30\n",
                        "num_layers=2, accuracy=91.600%\n",
                        "len(params)=42\n",
                        "num_layers=3, accuracy=92.900%\n",
                        "len(params)=54\n",
                        "num_layers=4, accuracy=90.550%\n",
                        "len(params)=18\n",
                        "num_layers=1, accuracy=88.600%\n",
                        "len(params)=30\n",
                        "num_layers=2, accuracy=92.200%\n",
                        "len(params)=42\n",
                        "num_layers=3, accuracy=91.450%\n",
                        "len(params)=54\n",
                        "num_layers=4, accuracy=92.200%\n"
                    ]
                }
            ],
            "source": [
                "%run src/ansatz/rapid.py\n",
                "\n",
                "qcnn = QCNN((16, 16), ansatz=RapidAnsatz())\n",
                "\n",
                "for _ in range(num_trials):\n",
                "    accuracy = qcnn(FashionMNIST, SGD, CrossEntropyLoss())\n",
                "    # print(f\"New ansatz: {accuracy=:.3%}\")"
            ]
        },
        {
            "cell_type": "code",
            "execution_count": null,
            "metadata": {},
            "outputs": [],
            "source": [
                "# for dim in dims:\n",
                "#     qcnn = QCNN_Old(dim)\n",
                "\n",
                "#     for _ in range(num_trials):\n",
                "#         accuracy = qcnn(FashionMNIST, SGD, CrossEntropyLoss())\n",
                "#         print(f\"Old ansatz: {accuracy=:.3%}\")"
            ]
        },
        {
            "cell_type": "code",
            "execution_count": null,
            "metadata": {},
            "outputs": [],
            "source": [
                "# To test:\n",
                "# Dims = 16, 28, 32\n",
                "# Dataset = MNIST, FashionMNIST\n",
                "# All different ansatz\n",
                "# 20 trials each"
            ]
        }
    ],
    "metadata": {
        "kernelspec": {
            "display_name": "Python 3",
            "language": "python",
            "name": "python3"
        },
        "language_info": {
            "codemirror_mode": {
                "name": "ipython",
                "version": 3
            },
            "file_extension": ".py",
            "mimetype": "text/x-python",
            "name": "python",
            "nbconvert_exporter": "python",
            "pygments_lexer": "ipython3",
            "version": "3.10.10"
        },
        "orig_nbformat": 4,
        "vscode": {
            "interpreter": {
                "hash": "c7967d85baf232544f00baec60c53642b018367ac4c489b1a4dde60b922cc6fa"
            }
        }
    },
    "nbformat": 4,
    "nbformat_minor": 2
}
