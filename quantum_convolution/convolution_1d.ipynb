{
 "cells": [
  {
   "attachments": {},
   "cell_type": "markdown",
   "metadata": {},
   "source": [
    "# Quantum Convolution \n",
    "\n",
    "Test on 1D data with a Haar filter"
   ]
  },
  {
   "cell_type": "code",
   "execution_count": 1,
   "metadata": {},
   "outputs": [],
   "source": [
    "from IPython.display import display, Math\n",
    "\n",
    "def print_matrix(array):\n",
    "    matrix = ''\n",
    "    for row in array:\n",
    "        try:\n",
    "            for number in row:\n",
    "                matrix += f'{number}&'\n",
    "        except TypeError:\n",
    "            matrix += f'{row}&'\n",
    "        matrix = matrix[:-1] + r'\\\\'\n",
    "    display(Math(r'\\begin{bmatrix}'+matrix+r'\\end{bmatrix}'))"
   ]
  },
  {
   "attachments": {},
   "cell_type": "markdown",
   "metadata": {},
   "source": [
    "### Generate input state"
   ]
  },
  {
   "cell_type": "code",
   "execution_count": 2,
   "metadata": {},
   "outputs": [
    {
     "data": {
      "text/latex": [
       "$\\displaystyle \\begin{bmatrix}0.017\\\\0.239\\\\0.5\\\\0.407\\\\0.185\\\\0.436\\\\0.141\\\\0.532\\\\\\end{bmatrix}$"
      ],
      "text/plain": [
       "<IPython.core.display.Math object>"
      ]
     },
     "metadata": {},
     "output_type": "display_data"
    }
   ],
   "source": [
    "import numpy as np\n",
    "\n",
    "num_qubits = 3\n",
    "num_states = 2**num_qubits\n",
    "\n",
    "seed = 42069\n",
    "np.random.seed(seed)\n",
    "params = np.random.rand(num_states)\n",
    "# params = [0.5, 1, 0.5, 0] \n",
    "\n",
    "params = params / np.linalg.norm(params)\n",
    "\n",
    "print_matrix(params.round(3))"
   ]
  },
  {
   "attachments": {},
   "cell_type": "markdown",
   "metadata": {},
   "source": [
    "### Initialize quantum circuit"
   ]
  },
  {
   "cell_type": "code",
   "execution_count": 3,
   "metadata": {},
   "outputs": [
    {
     "data": {
      "image/png": "[encoded data removed]",
      "text/plain": [
       "<Figure size 621.941x367.889 with 1 Axes>"
      ]
     },
     "execution_count": 3,
     "metadata": {},
     "output_type": "execute_result"
    }
   ],
   "source": [
    "from qiskit import QuantumCircuit\n",
    "from qiskit.quantum_info.operators import Operator\n",
    "\n",
    "qc = QuantumCircuit(num_qubits + 1)\n",
    "qc.initialize(params, qc.qubits[:-1])\n",
    "\n",
    "qc.draw('mpl', reverse_bits=True)"
   ]
  },
  {
   "attachments": {},
   "cell_type": "markdown",
   "metadata": {},
   "source": [
    "### Apply convolution circuit"
   ]
  },
  {
   "cell_type": "code",
   "execution_count": 4,
   "metadata": {},
   "outputs": [
    {
     "data": {
      "image/png": "[encoded data removed]",
      "text/plain": [
       "<Figure size 1040x367.889 with 1 Axes>"
      ]
     },
     "execution_count": 4,
     "metadata": {},
     "output_type": "execute_result"
    }
   ],
   "source": [
    "qc.h(num_qubits)\n",
    "\n",
    "# Shift operation\n",
    "for i in range(num_qubits):\n",
    "    qc.mcx([num_qubits] + list(range(i)), i)\n",
    "\n",
    "qc.h(0)\n",
    "qc.swap(0, num_qubits)\n",
    "\n",
    "qc.draw('mpl', reverse_bits=True)"
   ]
  },
  {
   "attachments": {},
   "cell_type": "markdown",
   "metadata": {},
   "source": [
    "### Get statevector"
   ]
  },
  {
   "cell_type": "code",
   "execution_count": 5,
   "metadata": {},
   "outputs": [
    {
     "data": {
      "text/latex": [
       "$\\displaystyle \\begin{bmatrix}0.128\\\\0.37\\\\0.454\\\\0.296\\\\0.31\\\\0.288\\\\0.336\\\\0.274\\\\-0.111\\\\-0.131\\\\0.047\\\\0.111\\\\-0.126\\\\0.148\\\\-0.195\\\\0.257\\\\\\end{bmatrix}$"
      ],
      "text/plain": [
       "<IPython.core.display.Math object>"
      ]
     },
     "metadata": {},
     "output_type": "display_data"
    }
   ],
   "source": [
    "from qiskit.quantum_info.states import Statevector\n",
    "\n",
    "psi = np.real_if_close(Statevector(qc).data)\n",
    "\n",
    "print_matrix(psi.round(3))"
   ]
  },
  {
   "attachments": {},
   "cell_type": "markdown",
   "metadata": {},
   "source": [
    "### Calculate expected output"
   ]
  },
  {
   "cell_type": "code",
   "execution_count": 6,
   "metadata": {},
   "outputs": [
    {
     "data": {
      "text/latex": [
       "$\\displaystyle \\begin{bmatrix}0.128\\\\0.37\\\\0.454\\\\0.296\\\\0.31\\\\0.288\\\\0.336\\\\0.274\\\\-0.111\\\\-0.131\\\\0.047\\\\0.111\\\\-0.126\\\\0.148\\\\-0.195\\\\0.257\\\\\\end{bmatrix}$"
      ],
      "text/plain": [
       "<IPython.core.display.Math object>"
      ]
     },
     "metadata": {},
     "output_type": "display_data"
    }
   ],
   "source": [
    "from itertools import zip_longest, tee\n",
    "\n",
    "a, b = tee(params)\n",
    "first = next(b, None)\n",
    "lst = list(zip_longest(a, b, fillvalue=first))\n",
    "\n",
    "psi_expected = np.array([(a+b)/2 for a, b in lst] + [(a-b)/2 for a, b in lst])\n",
    "\n",
    "print_matrix(psi_expected.round(3))"
   ]
  },
  {
   "attachments": {},
   "cell_type": "markdown",
   "metadata": {},
   "source": [
    "### Check fidelity"
   ]
  },
  {
   "cell_type": "code",
   "execution_count": 7,
   "metadata": {},
   "outputs": [
    {
     "name": "stdout",
     "output_type": "stream",
     "text": [
      "Fidelity: 100%\n"
     ]
    }
   ],
   "source": [
    "fidelity = np.dot(psi, psi_expected)\n",
    "\n",
    "print(f\"Fidelity: {fidelity:.0%}\")"
   ]
  }
 ],
 "metadata": {
  "kernelspec": {
   "display_name": "base",
   "language": "python",
   "name": "python3"
  },
  "language_info": {
   "codemirror_mode": {
    "name": "ipython",
    "version": 3
   },
   "file_extension": ".py",
   "mimetype": "text/x-python",
   "name": "python",
   "nbconvert_exporter": "python",
   "pygments_lexer": "ipython3",
   "version": "3.10.9"
  },
  "orig_nbformat": 4
 },
 "nbformat": 4,
 "nbformat_minor": 2
}
