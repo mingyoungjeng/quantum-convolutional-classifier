{
 "cells": [
  {
   "cell_type": "code",
   "execution_count": null,
   "metadata": {},
   "outputs": [],
   "source": [
    "from pathlib import Path\n",
    "from PIL import Image\n",
    "import numpy as np\n",
    "from sympy import Matrix\n",
    "\n",
    "filename = Path(\"../img/color/Jayhawk_512x512.jpg\")\n",
    "\n",
    "with Image.open(filename, \"r\") as im:\n",
    "    display(im)\n",
    "\n",
    "# True for noisy execution, False for noiseless execution\n",
    "noisy_execution = False\n",
    "draw_qc = True"
   ]
  },
  {
   "cell_type": "code",
   "execution_count": null,
   "metadata": {},
   "outputs": [],
   "source": [
    "def display_quantum_circuit(qc):\n",
    "    if draw_qc:\n",
    "        display(qc.draw('mpl', reverse_bits=True))"
   ]
  },
  {
   "cell_type": "code",
   "execution_count": null,
   "metadata": {},
   "outputs": [],
   "source": [
    "from thesis.filters import *\n",
    "\n",
    "stride = 1\n",
    "num_layers = 2\n",
    "kernel_raw = avg_filter(2, dim = 2)\n",
    "# kernel_raw = sobel_filter(3, axis=0)\n",
    "# kernel_raw = laplacian()\n",
    "# kernel_raw = gaussian_blur()\n",
    "\n",
    "npad = tuple((0, 2 ** int(np.ceil(np.log2(N))) - N) for N in kernel_raw.shape)\n",
    "kernel = np.pad(kernel_raw, pad_width=npad, mode=\"constant\", constant_values=0)\n",
    "\n",
    "Matrix(kernel)"
   ]
  },
  {
   "cell_type": "code",
   "execution_count": null,
   "metadata": {},
   "outputs": [],
   "source": [
    "from thesis.quantum import *\n",
    "\n",
    "psi, *dims = flatten_image(filename, pad=True)\n",
    "psi, mag = normalize(psi, include_magnitude=True)\n",
    "\n",
    "n_dim = len(dims)\n",
    "\n",
    "num_qubits = 0\n",
    "wires = []\n",
    "for dim in dims:\n",
    "    root, num_qubits = num_qubits, num_qubits + to_qubits(dim)\n",
    "    wires.append(list(range(root, num_qubits)))"
   ]
  },
  {
   "cell_type": "code",
   "execution_count": null,
   "metadata": {},
   "outputs": [],
   "source": [
    "from qiskit import QuantumCircuit\n",
    "from qiskit.quantum_info.operators import Operator\n",
    "\n",
    "qc = QuantumCircuit(num_qubits)\n",
    "qc.initialize(psi)\n",
    "\n",
    "display_quantum_circuit(qc)"
   ]
  },
  {
   "cell_type": "code",
   "execution_count": null,
   "metadata": {},
   "outputs": [],
   "source": [
    "from thesis.quantum.qiskit import *\n",
    "\n",
    "def conv_pool_hybrid(\n",
    "    qc: QuantumCircuit, wires, kernel, stride: int = 1, n_dim: int = None\n",
    "):\n",
    "    if n_dim is None:\n",
    "        n_dim = len(wires)\n",
    "\n",
    "    for _ in range(kernel.ndim + n_dim - len(wires)):\n",
    "        wires += [[]]\n",
    "    kernel_shape_q = [to_qubits(filter_size) for filter_size in kernel.shape]\n",
    "\n",
    "    params, kernel_mag = normalize(kernel.flatten(order=\"F\"), include_magnitude=True)\n",
    "\n",
    "    ### Shift operation\n",
    "    for i, fq in enumerate(kernel_shape_q):\n",
    "        if len(wires[i]) > fq:\n",
    "            ctrl_qubits, img_qubits = wires[i][:fq], wires[i][fq:]\n",
    "            wires[i] = ctrl_qubits + img_qubits[fq:]\n",
    "            wires[n_dim + i] += img_qubits[:fq]\n",
    "        else:\n",
    "            wires[n_dim + i] += wires[i]\n",
    "            ctrl_qubits = wires[i] = []\n",
    "\n",
    "        for j, control_qubit in enumerate(ctrl_qubits):\n",
    "            shift(qc, -stride, targets=img_qubits[j:], control=control_qubit)\n",
    "\n",
    "    ### Filter using C2Q\n",
    "    kernel_qubits = [q for w, fq in zip(wires[n_dim:], kernel_shape_q) for q in w[-fq:]]\n",
    "    c2q(qc, params, targets=kernel_qubits, transpose=True)\n",
    "\n",
    "    return wires, kernel_mag"
   ]
  },
  {
   "cell_type": "code",
   "execution_count": null,
   "metadata": {},
   "outputs": [],
   "source": [
    "wires_old = wires.copy()\n",
    "kernel_mag = 1\n",
    "for _ in range(num_layers):\n",
    "    wires, fm = conv_pool_hybrid(qc, wires, kernel, stride, n_dim)\n",
    "    kernel_mag *= fm\n",
    "\n",
    "display_quantum_circuit(qc)"
   ]
  },
  {
   "cell_type": "code",
   "execution_count": null,
   "metadata": {},
   "outputs": [],
   "source": [
    "print(wires, n_dim)\n",
    "\n",
    "### Permutations for qiskit only\n",
    "kernel_shape_q = [to_qubits(filter_size) for filter_size in kernel.shape]\n",
    "for i, fq in reversed(list(enumerate(kernel_shape_q))):\n",
    "    offset = sum([len(w) for w in wires[:n_dim + i]])\n",
    "    for j, w in reversed(list(enumerate(wires[n_dim + i]))):\n",
    "        rotate(qc, w, offset+j)\n",
    "        \n",
    "display_quantum_circuit(qc)"
   ]
  },
  {
   "cell_type": "code",
   "execution_count": null,
   "metadata": {},
   "outputs": [],
   "source": [
    "from qiskit import Aer, execute\n",
    "from qiskit.tools import job_monitor\n",
    "\n",
    "backend = Aer.get_backend('aer_simulator')\n",
    "shots = backend.configuration().max_shots\n",
    "\n",
    "if noisy_execution:\n",
    "    qc.measure_all()\n",
    "else:\n",
    "    qc.save_statevector()\n",
    "\n",
    "job = execute(qc, backend=backend, shots=shots)\n",
    "job_monitor(job)\n",
    "\n",
    "result = job.result()\n",
    "\n",
    "if noisy_execution:\n",
    "    counts = result.get_counts(qc)\n",
    "    psi_out = from_counts(counts, shots=shots, num_qubits=num_qubits)\n",
    "else:\n",
    "    psi_out = result.get_statevector(qc).data"
   ]
  },
  {
   "cell_type": "code",
   "execution_count": null,
   "metadata": {},
   "outputs": [],
   "source": [
    "scaling = [2**(len(wo) - len(w)) for w, wo in zip(wires, wires_old)]\n",
    "dims = [d // s for d, s in zip(dims, scaling)]\n",
    "num_states = np.prod([2**to_qubits(dim) for dim in dims])"
   ]
  },
  {
   "cell_type": "code",
   "execution_count": null,
   "metadata": {},
   "outputs": [],
   "source": [
    "i = 0\n",
    "img = psi_out.data[i*num_states:(i+1)*num_states]\n",
    "norm = mag * kernel_mag # * np.sqrt(2**num_ancilla)\n",
    "img = construct_img(norm*img, dims)\n",
    "img.save(\"output.png\")\n",
    "\n",
    "display(img)"
   ]
  }
 ],
 "metadata": {
  "kernelspec": {
   "display_name": "base",
   "language": "python",
   "name": "python3"
  },
  "language_info": {
   "codemirror_mode": {
    "name": "ipython",
    "version": 3
   },
   "file_extension": ".py",
   "mimetype": "text/x-python",
   "name": "python",
   "nbconvert_exporter": "python",
   "pygments_lexer": "ipython3",
   "version": "3.10.9"
  },
  "orig_nbformat": 4
 },
 "nbformat": 4,
 "nbformat_minor": 2
}
