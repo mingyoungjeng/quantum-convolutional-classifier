{
    "cells": [
        {
            "cell_type": "code",
            "execution_count": null,
            "metadata": {},
            "outputs": [],
            "source": [
                "from pathlib import Path\n",
                "from PIL import Image\n",
                "import numpy as np\n",
                "from sympy import Matrix\n",
                "\n",
                "filename = Path(\"../img/color/Jayhawk_128x128.jpg\")\n",
                "\n",
                "with Image.open(filename, \"r\") as im:\n",
                "    display(im)\n",
                "\n",
                "# True for noisy execution, False for noiseless execution\n",
                "noisy_execution = False\n",
                "draw_qc = True"
            ]
        },
        {
            "cell_type": "code",
            "execution_count": null,
            "metadata": {},
            "outputs": [],
            "source": [
                "def display_quantum_circuit(qc):\n",
                "    if draw_qc:\n",
                "        display(qc.draw('mpl', reverse_bits=True))"
            ]
        },
        {
            "cell_type": "code",
            "execution_count": null,
            "metadata": {},
            "outputs": [],
            "source": [
                "from qcc.filters import *\n",
                "\n",
                "stride = 2\n",
                "# fltr_raw = avg_filter(2, dim = 2)\n",
                "fltr_raw = sobel_filter(3, axis=0)\n",
                "# fltr_raw = laplacian_approx(3)\n",
                "# fltr_raw = gaussian_blur(3)\n",
                "\n",
                "npad = tuple((0, 2 ** int(np.ceil(np.log2(N))) - N) for N in fltr_raw.shape)\n",
                "fltr = np.pad(fltr_raw, pad_width=npad, mode=\"constant\", constant_values=0)\n",
                "\n",
                "Matrix(fltr)"
            ]
        },
        {
            "cell_type": "code",
            "execution_count": null,
            "metadata": {},
            "outputs": [],
            "source": [
                "from qcc.quantum import flatten_image, normalize, to_qubits\n",
                "\n",
                "psi, *dims = flatten_image(filename, pad=True)\n",
                "psi, mag = normalize(psi, include_magnitude=True)\n",
                "\n",
                "dims_q = [to_qubits(x) for x in dims]\n",
                "\n",
                "num_qubits = sum(dims_q)\n",
                "num_states = 2**num_qubits"
            ]
        },
        {
            "cell_type": "code",
            "execution_count": null,
            "metadata": {},
            "outputs": [],
            "source": [
                "from qiskit import QuantumCircuit\n",
                "from qiskit.quantum_info.operators import Operator\n",
                "\n",
                "fltr_shape_q = [int(np.ceil(np.log2(filter_size))) for filter_size in fltr.shape]\n",
                "num_ancilla = sum(fltr_shape_q)\n",
                "total_qubits = num_qubits + num_ancilla\n",
                "\n",
                "qc = QuantumCircuit(total_qubits)\n",
                "qc.initialize(psi, qc.qubits[:-num_ancilla])\n",
                "\n",
                "qc.draw('mpl', reverse_bits=True)"
            ]
        },
        {
            "cell_type": "code",
            "execution_count": null,
            "metadata": {},
            "outputs": [],
            "source": [
                "def shift(qc: QuantumCircuit, k: int = 1, targets=None, control=None):\n",
                "    if k == 0:\n",
                "        return\n",
                "    if targets is None:\n",
                "        targets = qc.qubits\n",
                "    \n",
                "    # Increment / Decrement for \n",
                "    for _ in range(abs(k)):\n",
                "        for i in range(len(targets))[::-np.sign(k)]:\n",
                "            controls = list(targets[:i])\n",
                "            \n",
                "            if control is not None:\n",
                "                controls += [control]\n",
                "            \n",
                "            if len(controls) == 0:\n",
                "                qc.x(targets[i])\n",
                "            else:\n",
                "                qc.mcx(controls, targets[i])"
            ]
        },
        {
            "cell_type": "code",
            "execution_count": null,
            "metadata": {},
            "outputs": [],
            "source": [
                "for i, (dim, fq) in enumerate(zip(dims_q[:fltr.ndim], fltr_shape_q)):\n",
                "    filter_qubits = num_qubits + sum(fltr_shape_q[:i]) + np.arange(fq)\n",
                "    qc.h(filter_qubits)\n",
                "\n",
                "    # Shift operation\n",
                "    qubits = list(sum(dims_q[:i]) + np.arange(dim))\n",
                "    for i, control_qubit in enumerate(filter_qubits):\n",
                "        shift(qc, -stride, targets=qubits[i:], control=control_qubit)\n",
                "\n",
                "qc.draw('mpl', reverse_bits=True)"
            ]
        },
        {
            "cell_type": "code",
            "execution_count": null,
            "metadata": {},
            "outputs": [],
            "source": [
                "params, fltr_mag = normalize(fltr.flatten(order=\"F\"), include_magnitude=True)\n",
                "\n",
                "print(fltr_mag)\n",
                "\n",
                "Matrix(params)"
            ]
        },
        {
            "cell_type": "code",
            "execution_count": null,
            "metadata": {},
            "outputs": [],
            "source": [
                "import numpy as np\n",
                "from qiskit import QuantumCircuit\n",
                "\n",
                "\n",
                "def get_params(x_in):\n",
                "    p = x_in\n",
                "    while len(p) > 1:\n",
                "        x = np.reshape(p, (int(len(p) / 2), 2))\n",
                "        p = np.linalg.norm(x, axis=1)\n",
                "\n",
                "        with np.errstate(divide=\"ignore\", invalid=\"ignore\"):\n",
                "            alpha, beta = np.array([y / m if m > 0 else (1, 0) for y, m in zip(x, p)]).T\n",
                "\n",
                "            alpha_mag, beta_mag = np.abs((alpha, beta))\n",
                "            alpha_phase, beta_phase = np.angle((alpha, beta))\n",
                "\n",
                "            with np.errstate(divide=\"ignore\"):\n",
                "                theta = 2 * np.arctan(beta_mag / alpha_mag)\n",
                "            phi = beta_phase - alpha_phase\n",
                "            r = np.sqrt(alpha_mag**2 + beta_mag**2)\n",
                "            t = beta_phase + alpha_phase\n",
                "\n",
                "        yield theta, phi, r, t\n",
                "\n",
                "\n",
                "def c2q(qc: QuantumCircuit, psi_in, targets=None, transpose=False) -> None:\n",
                "    if targets is None:\n",
                "        targets = qc.qubits\n",
                "\n",
                "    theta = []\n",
                "    phi = []\n",
                "    t = []\n",
                "\n",
                "    length = int(2 ** (len(targets) - 1))\n",
                "    for _theta, _phi, _, _t in get_params(psi_in):\n",
                "        _theta, _phi, _t = [np.pad(x, (0, length - len(x))) for x in [_theta, _phi, _t]]\n",
                "        theta.append(_theta)\n",
                "        phi.append(_phi)\n",
                "        t.append(_t)\n",
                "    theta = np.stack(theta, axis=1)\n",
                "    phi = np.stack(phi, axis=1)\n",
                "    t = np.stack(t, axis=1)\n",
                "\n",
                "    if transpose:\n",
                "        theta = -theta\n",
                "        phi, t = -t, -phi\n",
                "\n",
                "    tmp = list(enumerate(targets))\n",
                "    for j, target in tmp if transpose else reversed(tmp):\n",
                "        control = [qc.qubits[k] for k in targets[j + 1 :]]\n",
                "\n",
                "        n_j = len(targets) - 1 - j\n",
                "        i_max = 2 ** (n_j)\n",
                "\n",
                "        theta_j = theta[:i_max, j]\n",
                "        t_j = t[:i_max, j]\n",
                "        phi_j = phi[:i_max, j]\n",
                "\n",
                "        if t_j.any():\n",
                "            t_j = -t_j\n",
                "            qc.ucrz(t_j.tolist(), control, target)\n",
                "\n",
                "        qc.ucry(theta_j.tolist(), control, target)\n",
                "\n",
                "        if phi_j.any():\n",
                "            qc.ucrz(phi_j.tolist(), control, target)"
            ]
        },
        {
            "cell_type": "code",
            "execution_count": null,
            "metadata": {},
            "outputs": [],
            "source": [
                "roots = np.concatenate([np.zeros(1, dtype=int), np.cumsum(dims_q[fltr.ndim-1])]) # base\n",
                "filter_qubits = np.array([root + np.arange(fq) for root, fq in zip(roots, fltr_shape_q)]).flatten()\n",
                "   \n",
                "swap_targets = np.array([num_qubits + sum(fltr_shape_q[:i]) + np.arange(fq) for i, fq in enumerate(fltr_shape_q)]).flatten()\n",
                "for a,b in zip(filter_qubits, swap_targets):\n",
                "    qc.swap(a, b)   \n",
                " \n",
                "c2q(qc, params, targets=swap_targets, transpose=True)\n",
                "    \n",
                "qc.draw('mpl', reverse_bits=True)"
            ]
        },
        {
            "cell_type": "code",
            "execution_count": null,
            "metadata": {},
            "outputs": [],
            "source": [
                "from qiskit import Aer, execute\n",
                "from qiskit.tools import job_monitor\n",
                "from qcc.quantum import from_counts\n",
                "\n",
                "backend = Aer.get_backend('aer_simulator')\n",
                "shots = backend.configuration().max_shots\n",
                "\n",
                "if noisy_execution:\n",
                "    qc.measure_all()\n",
                "else:\n",
                "    qc.save_statevector()\n",
                "\n",
                "job = execute(qc, backend=backend, shots=shots)\n",
                "job_monitor(job)\n",
                "\n",
                "result = job.result()\n",
                "\n",
                "if noisy_execution:\n",
                "    counts = result.get_counts(qc)\n",
                "    psi_out = from_counts(counts, shots=shots, num_qubits=total_qubits)\n",
                "else:\n",
                "    psi_out = result.get_statevector(qc).data"
            ]
        },
        {
            "cell_type": "code",
            "execution_count": null,
            "metadata": {},
            "outputs": [],
            "source": [
                "from qcc.quantum import construct_img\n",
                "\n",
                "i = 0\n",
                "img = psi_out.data[i*num_states:(i+1)*num_states]\n",
                "norm = mag * fltr_mag * np.sqrt(2**num_ancilla)\n",
                "img = construct_img(norm*img, dims)\n",
                "img.save(\"output.png\")\n",
                "\n",
                "display(img)"
            ]
        },
        {
            "attachments": {},
            "cell_type": "markdown",
            "metadata": {},
            "source": [
                "### Classical Results"
            ]
        },
        {
            "cell_type": "code",
            "execution_count": null,
            "metadata": {},
            "outputs": [],
            "source": [
                "Matrix(fltr_raw)"
            ]
        },
        {
            "cell_type": "code",
            "execution_count": null,
            "metadata": {},
            "outputs": [],
            "source": [
                "from qcc.filters import convolution\n",
                "\n",
                "with Image.open(filename, \"r\") as im:\n",
                "    image_data = np.asarray(im, dtype=float)\n",
                "\n",
                "classical_img = convolution(image_data, fltr_raw)\n",
                "classical_img = Image.fromarray(classical_img.astype(np.uint8))\n",
                "display(classical_img)\n",
                "classical_img.save(\"output_classical.png\")"
            ]
        },
        {
            "cell_type": "code",
            "execution_count": null,
            "metadata": {},
            "outputs": [],
            "source": [
                "from qcc.quantum import get_fidelity\n",
                "\n",
                "fid = get_fidelity(np.asarray(classical_img).flatten(), np.asarray(img).flatten())\n",
                "\n",
                "print(f\"Fidelity: {fid:.03%}\")"
            ]
        }
    ],
    "metadata": {
        "kernelspec": {
            "display_name": "base",
            "language": "python",
            "name": "python3"
        },
        "language_info": {
            "codemirror_mode": {
                "name": "ipython",
                "version": 3
            },
            "file_extension": ".py",
            "mimetype": "text/x-python",
            "name": "python",
            "nbconvert_exporter": "python",
            "pygments_lexer": "ipython3",
            "version": "3.10.9"
        },
        "orig_nbformat": 4
    },
    "nbformat": 4,
    "nbformat_minor": 2
}
