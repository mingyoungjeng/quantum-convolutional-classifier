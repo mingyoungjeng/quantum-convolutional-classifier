{
    "cells": [
        {
            "cell_type": "code",
            "execution_count": 1,
            "metadata": {},
            "outputs": [],
            "source": [
                "\n",
                "from qiskit import QuantumCircuit, transpile\n",
                "from sympy import Matrix, init_printing\n",
                "from qiskit.quantum_info import Operator\n",
                "init_printing()\n",
                "def op(qc):\n",
                "    return Matrix(Operator(qc).data.round(3))\n",
                "\n",
                "n_max = 30"
            ]
        },
        {
            "attachments": {},
            "cell_type": "markdown",
            "metadata": {},
            "source": [
                "No Ancilla"
            ]
        },
        {
            "cell_type": "code",
            "execution_count": 2,
            "metadata": {},
            "outputs": [],
            "source": [
                "# for i in range(2, n_max):\n",
                "#     qc = QuantumCircuit(i)\n",
                "    \n",
                "#     qc.mcx(list(range(1, i)), 0)\n",
                "    \n",
                "#     qc1 = transpile(qc, basis_gates=[\"h\", \"p\", \"u3\", \"cx\"])\n",
                "#     print(i, qc1.depth(), qc1.depth(lambda x: x[0].name == \"cx\"))"
            ]
        },
        {
            "attachments": {},
            "cell_type": "markdown",
            "metadata": {},
            "source": [
                "1 ancilla (default)"
            ]
        },
        {
            "cell_type": "code",
            "execution_count": 3,
            "metadata": {},
            "outputs": [],
            "source": [
                "# for i in range(2, n_max):\n",
                "#     qc = QuantumCircuit(i+1)\n",
                "    \n",
                "#     qc.mcx(list(range(1, i)), i, ancilla_qubits=[0], mode=\"recursion\")\n",
                "    \n",
                "#     qc1 = transpile(qc, basis_gates=[\"h\", \"p\", \"u3\", \"cx\"])\n",
                "#     print(i, qc1.depth(), qc1.depth(lambda x: x[0].name == \"cx\"))"
            ]
        },
        {
            "attachments": {},
            "cell_type": "markdown",
            "metadata": {},
            "source": [
                "With 1 ancilla (modified)\n",
                "\n",
                "Based on [Efficient constructions for simulating Multi\n",
                "Controlled Quantum Gates](https://www.iccs-meeting.org/archive/iccs2022/papers/133530169.pdf) and Qiskit's [MCXRecursive](https://qiskit.org/documentation/_modules/qiskit/circuit/library/standard_gates/x.html#MCXRecursive)"
            ]
        },
        {
            "cell_type": "code",
            "execution_count": 4,
            "metadata": {},
            "outputs": [
                {
                    "name": "stdout",
                    "output_type": "stream",
                    "text": [
                        "0 0 0\n",
                        "1 1 1\n",
                        "2 1 1\n",
                        "3 11 14\n",
                        "4 27 30\n",
                        "5 65 77\n",
                        "6 104 119\n",
                        "7 151 171\n",
                        "8 188 223\n",
                        "9 241 275\n",
                        "10 278 327\n",
                        "11 337 379\n",
                        "12 374 431\n",
                        "13 433 483\n",
                        "14 470 535\n",
                        "15 529 587\n",
                        "16 566 639\n",
                        "17 625 691\n",
                        "18 662 743\n",
                        "19 721 795\n",
                        "20 758 847\n",
                        "21 817 899\n",
                        "22 854 951\n",
                        "23 913 1003\n",
                        "24 950 1055\n",
                        "25 1009 1107\n",
                        "26 1046 1159\n",
                        "27 1105 1211\n",
                        "28 1142 1263\n",
                        "29 1201 1315\n"
                    ]
                }
            ],
            "source": [
                "from functools import cache\n",
                "import numpy as np\n",
                "\n",
                "def mcx(qc: QuantumCircuit, target, ctrls=None, ancilla=None):\n",
                "    if ctrls is None or len(ctrls) == 0:\n",
                "        return qc.x(target)\n",
                "    if len(ctrls) < 5:\n",
                "        return qc.mcx(ctrls, target)\n",
                "\n",
                "    # recurse\n",
                "    middle = (1 + len(ctrls)) // 2\n",
                "    first_half, second_half = ctrls[:middle], [*ctrls[middle:], ancilla]\n",
                "\n",
                "    qc.mcx(first_half, ancilla, second_half[:-1], mode=\"v-chain-dirty\")\n",
                "    qc.mcx(second_half, target, first_half, mode=\"v-chain-dirty\")\n",
                "    qc.mcx(first_half, ancilla, second_half[:-1], mode=\"v-chain-dirty\")\n",
                "    qc.mcx(second_half, target, first_half, mode=\"v-chain-dirty\")\n",
                "    \n",
                "@cache\n",
                "def depth_mcx(i: int) -> tuple[int, int]:\n",
                "    if i < 1:\n",
                "        return 0, 0\n",
                "    \n",
                "    qc = QuantumCircuit(i+1)\n",
                "    mcx(qc, 0, list(range(1, i)), i)\n",
                "    \n",
                "    # optimization_level=3 doesn't do anything\n",
                "    qc = transpile(qc, basis_gates=[\"u\", \"cx\"])\n",
                "    \n",
                "    return qc.depth(), sum(qc.count_ops().values()) # qc.depth(lambda x: x[0].name == \"cx\")\n",
                "    \n",
                "for i in range(n_max):\n",
                "    print(i, *depth_mcx(i))"
            ]
        },
        {
            "attachments": {},
            "cell_type": "markdown",
            "metadata": {},
            "source": [
                "Depth of Shift operation"
            ]
        },
        {
            "cell_type": "code",
            "execution_count": 5,
            "metadata": {},
            "outputs": [
                {
                    "name": "stdout",
                    "output_type": "stream",
                    "text": [
                        "2 1 1\n",
                        "3 12 15\n",
                        "4 39 45\n",
                        "5 104 122\n",
                        "6 208 241\n",
                        "7 359 412\n",
                        "8 547 635\n",
                        "9 788 910\n",
                        "10 1066 1237\n",
                        "11 1403 1616\n",
                        "12 1777 2047\n",
                        "13 2210 2530\n",
                        "14 2680 3065\n",
                        "15 3209 3652\n",
                        "16 3775 4291\n",
                        "17 4400 4982\n",
                        "18 5062 5725\n",
                        "19 5783 6520\n",
                        "20 6541 7367\n",
                        "21 7358 8266\n",
                        "22 8212 9217\n",
                        "23 9125 10220\n",
                        "24 10075 11275\n",
                        "25 11084 12382\n",
                        "26 12130 13541\n",
                        "27 13235 14752\n",
                        "28 14377 16015\n",
                        "29 15578 17330\n"
                    ]
                }
            ],
            "source": [
                "@cache\n",
                "def depth_controlled_shift(i: int):\n",
                "    if i < 2:\n",
                "        return ValueError(f\"number of qubits must be at least 2, got {i}\")\n",
                "    \n",
                "    total_depth, gate_count = zip(*(depth_mcx(j) for j in range(2, i+1)))\n",
                "    return sum(total_depth), sum(gate_count)\n",
                "\n",
                "for i in range(2, n_max):\n",
                "    print(i, *depth_controlled_shift(i))"
            ]
        },
        {
            "cell_type": "code",
            "execution_count": 18,
            "metadata": {},
            "outputs": [
                {
                    "data": {
                        "image/png": "[encoded data removed]",
                        "text/latex": [
                            "$\\displaystyle \\left( 57, \\  61\\right)$"
                        ],
                        "text/plain": [
                            "(57, 61)"
                        ]
                    },
                    "execution_count": 18,
                    "metadata": {},
                    "output_type": "execute_result"
                }
            ],
            "source": [
                "import numpy as np\n",
                "from qiskit import QuantumCircuit, transpile\n",
                "\n",
                "rng = np.random.default_rng(seed=42069)\n",
                "\n",
                "def c2q_real_depth(n, f=0):\n",
                "    qc = QuantumCircuit(n+f)\n",
                "    \n",
                "    targets = qc.qubits[:n]\n",
                "    for i, t in enumerate(targets[::-1]):\n",
                "        j = len(targets) - i\n",
                "        \n",
                "        ctrls = qc.qubits[j:]\n",
                "        \n",
                "        params = 2*np.pi*rng.random(2**len(ctrls))\n",
                "        qc.ucry(list(params), ctrls, t)\n",
                "        \n",
                "    qc = transpile(qc, basis_gates=[\"ry\", \"cx\"], optimization_level=3)\n",
                "    \n",
                "    # return qc.draw('mpl', reverse_bits=True)\n",
                "    return qc.depth(), sum(qc.count_ops().values()) # qc.depth(lambda x: x[0].name == \"cx\")\n",
                "    \n",
                "c2q_real_depth(5, 0)"
            ]
        },
        {
            "attachments": {},
            "cell_type": "markdown",
            "metadata": {},
            "source": [
                "Depth of Convolution operation"
            ]
        },
        {
            "cell_type": "code",
            "execution_count": 14,
            "metadata": {},
            "outputs": [],
            "source": [
                "def depth_convolution(n: list[int], n_f: list[int], features: int = 0):\n",
                "    \n",
                "    ### FIND MAX DIMENSION WITH MAX SIZE FILTER\n",
                "    n_max, n_f_max = None, None\n",
                "    for n_i, n_f_i in zip(n, n_f):\n",
                "        # initial case\n",
                "        if n_max is None or n_f_max is None:\n",
                "            n_max, n_f_max = n_i, n_f_i\n",
                "            \n",
                "        if n_i > n_max:\n",
                "            n_max, n_f_max = n_i, n_f_i\n",
                "        \n",
                "        if (n_i == n_max) and (n_f_i > n_f_max):\n",
                "            n_max, n_f_max = n_i, n_f_i\n",
                "    \n",
                "    total_depth, gate_count = zip(*(depth_controlled_shift(n_max + 1 - j) for j in range(n_f_max)))\n",
                "        \n",
                "    total_depth = sum(total_depth) + 1 # H gate\n",
                "    gate_count = sum(gate_count) + 3 # SWAP permutations\n",
                "    \n",
                "    # U_F depth (FROM TC2022):\n",
                "    c2q_depth = c2q_real_depth(sum(n_f), features)\n",
                "    total_depth += c2q_depth[0]\n",
                "    gate_count += c2q_depth[1]\n",
                "    # N_f = 2**sum(n_f)\n",
                "    # total_depth += 3*N_f - sum(n_f) - 4\n",
                "    # cnot_depth += N_f - 2\n",
                "    \n",
                "    return total_depth, gate_count"
            ]
        },
        {
            "cell_type": "code",
            "execution_count": 9,
            "metadata": {},
            "outputs": [
                {
                    "name": "stdout",
                    "output_type": "stream",
                    "text": [
                        "1 56 60\n",
                        "2 67 74\n",
                        "3 94 104\n",
                        "4 159 181\n",
                        "5 263 300\n",
                        "6 414 471\n",
                        "7 602 694\n",
                        "8 843 969\n",
                        "9 1121 1296\n",
                        "10 1458 1675\n",
                        "11 1832 2106\n",
                        "12 2265 2589\n",
                        "13 2735 3124\n",
                        "14 3264 3711\n",
                        "15 3830 4350\n",
                        "16 4455 5041\n",
                        "17 5117 5784\n",
                        "18 5838 6579\n",
                        "19 6596 7426\n",
                        "20 7413 8325\n",
                        "21 8267 9276\n",
                        "22 9180 10279\n",
                        "23 10130 11334\n",
                        "24 11139 12441\n",
                        "25 12185 13600\n",
                        "26 13290 14811\n",
                        "27 14432 16074\n",
                        "28 15633 17389\n",
                        "29 16871 18756\n"
                    ]
                }
            ],
            "source": [
                "for i in range(1, n_max):\n",
                "    print(i, *depth_convolution([i, i, 1], [1, 1, 1], 2))"
            ]
        },
        {
            "cell_type": "code",
            "execution_count": 9,
            "metadata": {},
            "outputs": [
                {
                    "name": "stdout",
                    "output_type": "stream",
                    "text": [
                        "1 116 65\n",
                        "2 201 110\n",
                        "3 403 213\n",
                        "4 1170 598\n"
                    ]
                },
                {
                    "ename": "TypeError",
                    "evalue": "'ValueError' object is not iterable",
                    "output_type": "error",
                    "traceback": [
                        "\u001b[0;31m---------------------------------------------------------------------------\u001b[0m",
                        "\u001b[0;31mTypeError\u001b[0m                                 Traceback (most recent call last)",
                        "\u001b[1;32m/home/mingyoungjeng/Documents/repos/quantum-convolutional-classifier/docs/convolution_depth.ipynb Cell 14\u001b[0m line \u001b[0;36m2\n\u001b[1;32m      <a href='vscode-notebook-cell:/home/mingyoungjeng/Documents/repos/quantum-convolutional-classifier/docs/convolution_depth.ipynb#X15sZmlsZQ%3D%3D?line=0'>1</a>\u001b[0m \u001b[39mfor\u001b[39;00m j \u001b[39min\u001b[39;00m \u001b[39mrange\u001b[39m(\u001b[39m1\u001b[39m, \u001b[39m10\u001b[39m):\n\u001b[0;32m----> <a href='vscode-notebook-cell:/home/mingyoungjeng/Documents/repos/quantum-convolutional-classifier/docs/convolution_depth.ipynb#X15sZmlsZQ%3D%3D?line=1'>2</a>\u001b[0m     \u001b[39mprint\u001b[39m(j, \u001b[39m*\u001b[39mdepth_convolution([\u001b[39m4\u001b[39;49m, \u001b[39m4\u001b[39;49m], [j, j], \u001b[39m1\u001b[39;49m))\n",
                        "\u001b[1;32m/home/mingyoungjeng/Documents/repos/quantum-convolutional-classifier/docs/convolution_depth.ipynb Cell 14\u001b[0m line \u001b[0;36m1\n\u001b[1;32m     <a href='vscode-notebook-cell:/home/mingyoungjeng/Documents/repos/quantum-convolutional-classifier/docs/convolution_depth.ipynb#X15sZmlsZQ%3D%3D?line=12'>13</a>\u001b[0m     \u001b[39mif\u001b[39;00m (n_i \u001b[39m==\u001b[39m n_max) \u001b[39mand\u001b[39;00m (n_f_i \u001b[39m>\u001b[39m n_f_max):\n\u001b[1;32m     <a href='vscode-notebook-cell:/home/mingyoungjeng/Documents/repos/quantum-convolutional-classifier/docs/convolution_depth.ipynb#X15sZmlsZQ%3D%3D?line=13'>14</a>\u001b[0m         n_max, n_f_max \u001b[39m=\u001b[39m n_i, n_f_i\n\u001b[0;32m---> <a href='vscode-notebook-cell:/home/mingyoungjeng/Documents/repos/quantum-convolutional-classifier/docs/convolution_depth.ipynb#X15sZmlsZQ%3D%3D?line=15'>16</a>\u001b[0m total_depth, cnot_depth \u001b[39m=\u001b[39m \u001b[39mzip\u001b[39;49m(\u001b[39m*\u001b[39;49m(depth_controlled_shift(n_max \u001b[39m+\u001b[39;49m \u001b[39m1\u001b[39;49m \u001b[39m-\u001b[39;49m j) \u001b[39mfor\u001b[39;49;00m j \u001b[39min\u001b[39;49;00m \u001b[39mrange\u001b[39;49m(n_f_max)))\n\u001b[1;32m     <a href='vscode-notebook-cell:/home/mingyoungjeng/Documents/repos/quantum-convolutional-classifier/docs/convolution_depth.ipynb#X15sZmlsZQ%3D%3D?line=17'>18</a>\u001b[0m total_depth \u001b[39m=\u001b[39m \u001b[39msum\u001b[39m(total_depth) \u001b[39m+\u001b[39m \u001b[39m1\u001b[39m \u001b[39m# H gate\u001b[39;00m\n\u001b[1;32m     <a href='vscode-notebook-cell:/home/mingyoungjeng/Documents/repos/quantum-convolutional-classifier/docs/convolution_depth.ipynb#X15sZmlsZQ%3D%3D?line=18'>19</a>\u001b[0m cnot_depth \u001b[39m=\u001b[39m \u001b[39msum\u001b[39m(cnot_depth) \u001b[39m+\u001b[39m \u001b[39m3\u001b[39m \u001b[39m# SWAP permutations\u001b[39;00m\n",
                        "\u001b[0;31mTypeError\u001b[0m: 'ValueError' object is not iterable"
                    ]
                }
            ],
            "source": [
                "for j in range(1, 10):\n",
                "    print(j, *depth_convolution([4, 4], [j, j], 1))"
            ]
        },
        {
            "attachments": {},
            "cell_type": "markdown",
            "metadata": {},
            "source": [
                "Random Junk"
            ]
        },
        {
            "cell_type": "code",
            "execution_count": null,
            "metadata": {},
            "outputs": [],
            "source": [
                "n = 4\n",
                "qc = QuantumCircuit(n)\n",
                "\n",
                "qc.mcp(np.pi, list(range(1, n)), 0)\n",
                "qc.mcry(np.pi, list(range(1, n)), 0)\n",
                "\n",
                "# qc = transpile(qc, basis_gates=[\"u\", \"cx\"], optimization_level=3)\n",
                "display(qc.draw('mpl', reverse_bits=True))\n",
                "\n",
                "op(qc)"
            ]
        },
        {
            "cell_type": "code",
            "execution_count": null,
            "metadata": {},
            "outputs": [],
            "source": [
                "n = 4\n",
                "qc = QuantumCircuit(n)\n",
                "\n",
                "qc.mcp(np.pi, list(range(1, n)), 0)\n",
                "\n",
                "qc.ry(np.pi/4, 0)\n",
                "qc.mcx(list(range(1, n-1)), 0)\n",
                "qc.ry(-np.pi/4, 0)\n",
                "qc.mcx(list(range(1, n-1)), 0)\n",
                "\n",
                "qc.cz(n-1, 0)\n",
                "\n",
                "qc.ry(-np.pi/4, 0)\n",
                "qc.mcx(list(range(1, n-1)), 0)\n",
                "qc.ry(np.pi/4, 0)\n",
                "qc.mcx(list(range(1, n-1)), 0)\n",
                "\n",
                "qc.cz(n-1, 0)\n",
                "\n",
                "# qc.p(-np.pi/2, 0)\n",
                "# qc.mcx(list(range(1, n)), 0)\n",
                "# qc.p(np.pi/2, 0)\n",
                "# qc.mcx(list(range(1, n)), 0)\n",
                "\n",
                "# qc.rz(-np.pi/2, 0)\n",
                "# qc.mcx(list(range(1, n)), 0)\n",
                "# qc.rz(np.pi/2, 0)\n",
                "# qc.mcx(list(range(1, n)), 0)\n",
                "\n",
                "# qc = transpile(qc, basis_gates=[\"u\", \"cx\"], optimization_level=1)\n",
                "display(qc.draw('mpl', reverse_bits=True))\n",
                "\n",
                "op(qc)"
            ]
        }
    ],
    "metadata": {
        "kernelspec": {
            "display_name": "Python 3",
            "language": "python",
            "name": "python3"
        },
        "language_info": {
            "codemirror_mode": {
                "name": "ipython",
                "version": 3
            },
            "file_extension": ".py",
            "mimetype": "text/x-python",
            "name": "python",
            "nbconvert_exporter": "python",
            "pygments_lexer": "ipython3",
            "version": "3.11.6"
        },
        "orig_nbformat": 4
    },
    "nbformat": 4,
    "nbformat_minor": 2
}
