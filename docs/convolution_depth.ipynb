{
    "cells": [
        {
            "cell_type": "code",
            "execution_count": 1,
            "metadata": {},
            "outputs": [],
            "source": [
                "\n",
                "from qiskit import QuantumCircuit, transpile\n",
                "from sympy import Matrix, init_printing\n",
                "from qiskit.quantum_info import Operator\n",
                "init_printing()\n",
                "def op(qc):\n",
                "    return Matrix(Operator(qc).data.round(3))\n",
                "\n",
                "n_max = 30\n"
            ]
        },
        {
            "attachments": {},
            "cell_type": "markdown",
            "metadata": {},
            "source": [
                "No Ancilla"
            ]
        },
        {
            "cell_type": "code",
            "execution_count": 2,
            "metadata": {},
            "outputs": [],
            "source": [
                "# for i in range(2, n_max):\n",
                "#     qc = QuantumCircuit(i)\n",
                "    \n",
                "#     qc.mcx(list(range(1, i)), 0)\n",
                "    \n",
                "#     qc1 = transpile(qc, basis_gates=[\"h\", \"p\", \"u3\", \"cx\"])\n",
                "#     print(i, qc1.depth(), qc1.depth(lambda x: x[0].name == \"cx\"))\n"
            ]
        },
        {
            "attachments": {},
            "cell_type": "markdown",
            "metadata": {},
            "source": [
                "1 ancilla (default)"
            ]
        },
        {
            "cell_type": "code",
            "execution_count": 3,
            "metadata": {},
            "outputs": [
                {
                    "name": "stdout",
                    "output_type": "stream",
                    "text": [
                        "2 1 1\n",
                        "3 11 6\n",
                        "4 27 14\n",
                        "5 65 35\n",
                        "6 87 45\n",
                        "7 155 84\n",
                        "8 225 121\n",
                        "9 253 135\n",
                        "10 316 165\n",
                        "11 444 238\n",
                        "12 571 310\n",
                        "13 731 396\n",
                        "14 833 449\n",
                        "15 889 477\n",
                        "16 942 505\n",
                        "17 1059 559\n",
                        "18 1142 598\n",
                        "19 1402 746\n",
                        "20 1654 890\n",
                        "21 1908 1034\n",
                        "22 2102 1144\n",
                        "23 2422 1316\n",
                        "24 2694 1461\n",
                        "25 2884 1561\n",
                        "26 3018 1630\n",
                        "27 3130 1686\n",
                        "28 3271 1756\n",
                        "29 3377 1812\n"
                    ]
                }
            ],
            "source": [
                "for i in range(2, n_max):\n",
                "    qc = QuantumCircuit(i+1)\n",
                "    \n",
                "    qc.mcx(list(range(1, i)), i, ancilla_qubits=[0], mode=\"recursion\")\n",
                "    \n",
                "    qc1 = transpile(qc, basis_gates=[\"h\", \"p\", \"u3\", \"cx\"])\n",
                "    print(i, qc1.depth(), qc1.depth(lambda x: x[0].name == \"cx\"))\n"
            ]
        },
        {
            "attachments": {},
            "cell_type": "markdown",
            "metadata": {},
            "source": [
                "With 1 ancilla (modified)\n",
                "\n",
                "Based on [Efficient constructions for simulating Multi\n",
                "Controlled Quantum Gates](https://www.iccs-meeting.org/archive/iccs2022/papers/133530169.pdf) and Qiskit's [MCXRecursive](https://qiskit.org/documentation/_modules/qiskit/circuit/library/standard_gates/x.html#MCXRecursive)"
            ]
        },
        {
            "cell_type": "code",
            "execution_count": 14,
            "metadata": {},
            "outputs": [
                {
                    "name": "stdout",
                    "output_type": "stream",
                    "text": [
                        "0 0 0\n",
                        "1 1 1\n",
                        "2 1 1\n",
                        "3 11 14\n",
                        "4 27 30\n",
                        "5 65 77\n",
                        "6 104 119\n",
                        "7 151 171\n",
                        "8 188 223\n",
                        "9 241 275\n",
                        "10 278 327\n",
                        "11 337 379\n",
                        "12 374 431\n",
                        "13 433 483\n",
                        "14 470 535\n",
                        "15 529 587\n",
                        "16 566 639\n",
                        "17 625 691\n",
                        "18 662 743\n",
                        "19 721 795\n",
                        "20 758 847\n",
                        "21 817 899\n",
                        "22 854 951\n",
                        "23 913 1003\n",
                        "24 950 1055\n",
                        "25 1009 1107\n",
                        "26 1046 1159\n",
                        "27 1105 1211\n",
                        "28 1142 1263\n",
                        "29 1201 1315\n"
                    ]
                }
            ],
            "source": [
                "from functools import cache\n",
                "import numpy as np\n",
                "\n",
                "def mcx(qc: QuantumCircuit, target, ctrls=None, ancilla=None):\n",
                "    if ctrls is None or len(ctrls) == 0:\n",
                "        return qc.x(target)\n",
                "    if len(ctrls) < 5:\n",
                "        return qc.mcx(ctrls, target)\n",
                "\n",
                "    # recurse\n",
                "    middle = (1 + len(ctrls)) // 2\n",
                "    first_half, second_half = ctrls[:middle], [*ctrls[middle:], ancilla]\n",
                "\n",
                "    qc.mcx(first_half, ancilla, second_half[:-1], mode=\"v-chain-dirty\")\n",
                "    qc.mcx(second_half, target, first_half, mode=\"v-chain-dirty\")\n",
                "    qc.mcx(first_half, ancilla, second_half[:-1], mode=\"v-chain-dirty\")\n",
                "    qc.mcx(second_half, target, first_half, mode=\"v-chain-dirty\")\n",
                "    \n",
                "@cache\n",
                "def depth_mcx(i: int) -> tuple[int, int]:\n",
                "    if i < 1:\n",
                "        return 0, 0\n",
                "    \n",
                "    qc = QuantumCircuit(i+1)\n",
                "    mcx(qc, 0, list(range(1, i)), i)\n",
                "    \n",
                "    # optimization_level=3 doesn't do anything\n",
                "    qc = transpile(qc, basis_gates=[\"u\", \"cx\"])\n",
                "    \n",
                "    return qc.depth(), sum(qc.count_ops().values()) # qc.depth(lambda x: x[0].name == \"cx\")\n",
                "    \n",
                "for i in range(n_max):\n",
                "    print(i, *depth_mcx(i))\n"
            ]
        },
        {
            "attachments": {},
            "cell_type": "markdown",
            "metadata": {},
            "source": [
                "Depth of Shift operation"
            ]
        },
        {
            "cell_type": "code",
            "execution_count": 5,
            "metadata": {},
            "outputs": [],
            "source": [
                "def shift(qc: QuantumCircuit, k: int = 1, targets=None, control=None, ancilla=None) -> None:\n",
                "    if k == 0:\n",
                "        return\n",
                "    if targets is None:\n",
                "        targets = qc.qubits\n",
                "\n",
                "    # Increment / Decrement for\n",
                "    for _ in range(abs(k)):\n",
                "        for i in range(len(targets))[:: -np.sign(k)]:\n",
                "            controls = list(targets[:i])\n",
                "\n",
                "            if control is not None:\n",
                "                controls += [control]\n",
                "\n",
                "                mcx(qc, targets[i], ctrls=controls, ancilla=ancilla)\n",
                "\n",
                "@cache\n",
                "def depth_controlled_shift(i: int):\n",
                "    if i < 2:\n",
                "        return ValueError(f\"number of qubits must be at least 2, got {i}\")\n",
                "    \n",
                "    qc = QuantumCircuit(i+1)\n",
                "    shift(qc, targets=list(range(i-1)), control=i-1, ancilla=i)\n",
                "    \n",
                "    # optimization_level=3 doesn't do anything\n",
                "    qc = transpile(qc, basis_gates=[\"u\", \"cx\"])\n",
                "    \n",
                "    return qc.depth(), sum(qc.count_ops().values())\n",
                "\n",
                "# for i in range(2, n_max):\n",
                "#     print(i, *depth_controlled_shift(i))\n"
            ]
        },
        {
            "cell_type": "code",
            "execution_count": 6,
            "metadata": {},
            "outputs": [],
            "source": [
                "import numpy as np\n",
                "from qiskit import QuantumCircuit, transpile\n",
                "\n",
                "rng = np.random.default_rng(seed=42069)\n",
                "\n",
                "def c2q_real_depth(n, f=0):\n",
                "    qc = QuantumCircuit(n+f)\n",
                "    \n",
                "    targets = qc.qubits[:n]\n",
                "    for i, t in enumerate(targets[::-1]):\n",
                "        j = len(targets) - i\n",
                "        \n",
                "        ctrls = qc.qubits[j:]\n",
                "        \n",
                "        params = 2*np.pi*rng.random(2**len(ctrls))\n",
                "        qc.ucry(list(params), ctrls, t)\n",
                "        \n",
                "    qc = transpile(qc, basis_gates=[\"ry\", \"cx\"], optimization_level=3)\n",
                "    \n",
                "    # return qc.draw('mpl', reverse_bits=True)\n",
                "    return qc.depth(), sum(qc.count_ops().values()) # qc.depth(lambda x: x[0].name == \"cx\")\n",
                "    \n",
                "# c2q_real_depth(3, 2)\n"
            ]
        },
        {
            "attachments": {},
            "cell_type": "markdown",
            "metadata": {},
            "source": [
                "Depth of Convolution operation"
            ]
        },
        {
            "cell_type": "code",
            "execution_count": 7,
            "metadata": {},
            "outputs": [],
            "source": [
                "# def depth_convolution(n: list[int], n_f: list[int], features: int = 0):\n",
                "    \n",
                "#     ### FIND MAX DIMENSION WITH MAX SIZE FILTER\n",
                "#     n_max, n_f_max = None, None\n",
                "#     for n_i, n_f_i in zip(n, n_f):\n",
                "#         # initial case\n",
                "#         if n_max is None or n_f_max is None:\n",
                "#             n_max, n_f_max = n_i, n_f_i\n",
                "            \n",
                "#         if n_i > n_max:\n",
                "#             n_max, n_f_max = n_i, n_f_i\n",
                "        \n",
                "#         if (n_i == n_max) and (n_f_i > n_f_max):\n",
                "#             n_max, n_f_max = n_i, n_f_i\n",
                "    \n",
                "#     total_depth, gate_count = zip(*(depth_controlled_shift(n_max + 1 - j) for j in range(n_f_max)))\n",
                "        \n",
                "#     total_depth = sum(total_depth) + 1 # H gate\n",
                "#     gate_count = sum(gate_count) + 3 # SWAP permutations\n",
                "    \n",
                "#     # U_F depth (FROM TC2022):\n",
                "#     c2q_depth = c2q_real_depth(sum(n_f), features)\n",
                "#     total_depth += c2q_depth[0]\n",
                "#     gate_count += c2q_depth[1]\n",
                "    \n",
                "#     # print(c2q_depth)\n",
                "    \n",
                "#     # N_f = 2**sum(n_f)\n",
                "#     # total_depth += 3*N_f - sum(n_f) - 4\n",
                "#     # cnot_depth += N_f - 2\n",
                "    \n",
                "#     return total_depth, gate_count\n"
            ]
        },
        {
            "cell_type": "code",
            "execution_count": 8,
            "metadata": {},
            "outputs": [],
            "source": [
                "# for i in range(1, n_max):\n",
                "#     print(i, *depth_convolution([i, i], [1, 1], 2))\n"
            ]
        },
        {
            "cell_type": "code",
            "execution_count": 9,
            "metadata": {},
            "outputs": [],
            "source": [
                "# for j in range(1, 10):\n",
                "#     print(j, *depth_convolution([4, 4], [j, j], 1))\n"
            ]
        },
        {
            "attachments": {},
            "cell_type": "markdown",
            "metadata": {},
            "source": [
                "MQCC"
            ]
        },
        {
            "cell_type": "code",
            "execution_count": 10,
            "metadata": {},
            "outputs": [],
            "source": [
                "dims = [16, 16]\n",
                "kernel = [2, 2]\n",
                "num_features = 1\n",
                "num_classes = 2\n",
                "num_layers = 4\n"
            ]
        },
        {
            "cell_type": "code",
            "execution_count": 11,
            "metadata": {},
            "outputs": [],
            "source": [
                "import numpy as np\n",
                "from qiskit import QuantumCircuit\n",
                "from qcc.quantum import to_qubits\n",
                "from qcc.quantum.qubits import Qubits\n",
                "\n",
                "rng = np.random.default_rng(seed=42069)\n",
                "\n",
                "def mac(qc: QuantumCircuit, mac_qubits: list, feature_qubits: list):\n",
                "    qubits = mac_qubits + feature_qubits\n",
                "    for i, t in enumerate(mac_qubits):\n",
                "        ctrls = qubits[i+1:]\n",
                "        \n",
                "        params = 2*np.pi*rng.random(2**len(ctrls))\n",
                "        qc.ucry(list(params), ctrls, t)\n",
                "    \n",
                "\n",
                "def convolution(qc: QuantumCircuit, data_qubits: Qubits, kernel_qubits: Qubits, feature_qubits: Qubits, ancilla):\n",
                "    for i, (dq, fq) in enumerate(zip(data_qubits, kernel_qubits)):\n",
                "        for i, control_qubit in enumerate(fq):\n",
                "            shift(qc, -1, targets=dq[i:], control=control_qubit, ancilla=ancilla)\n",
                "            \n",
                "    mac(qc, kernel_qubits.flatten(), feature_qubits.flatten())\n"
            ]
        },
        {
            "cell_type": "code",
            "execution_count": 12,
            "metadata": {},
            "outputs": [
                {
                    "name": "stderr",
                    "output_type": "stream",
                    "text": [
                        "/Users/mingyoungjeng/Documents/Spring 2023.nosync/quantum-convolutional-classifier/.env/lib/python3.11/site-packages/numpy/linalg/linalg.py:2154: RuntimeWarning: divide by zero encountered in det\n",
                        "  r = _umath_linalg.det(a, signature=signature)\n",
                        "/Users/mingyoungjeng/Documents/Spring 2023.nosync/quantum-convolutional-classifier/.env/lib/python3.11/site-packages/numpy/linalg/linalg.py:2154: RuntimeWarning: invalid value encountered in det\n",
                        "  r = _umath_linalg.det(a, signature=signature)\n"
                    ]
                },
                {
                    "data": {
                        "image/png": "[encoded data removed]",
                        "text/latex": [
                            "$\\displaystyle \\left( 153, \\  386\\right)$"
                        ],
                        "text/plain": [
                            "(153, 386)"
                        ]
                    },
                    "execution_count": 12,
                    "metadata": {},
                    "output_type": "execute_result"
                }
            ],
            "source": [
                "from qiskit import transpile\n",
                "\n",
                "def mqcc(dims: list[int], kernel: list[int], num_features: int = 1, num_classes: int = 2, num_layers: int = 1):\n",
                "\n",
                "    dims_q = [to_qubits(x) for x in dims]\n",
                "    kernel_q = [to_qubits(x) for x in kernel]\n",
                "    features_q = to_qubits(num_features)\n",
                "    classes_q = to_qubits(num_classes)\n",
                "\n",
                "    qc = QuantumCircuit(sum(dims_q) + (num_layers * sum(kernel_q)) + features_q + classes_q + 1)\n",
                "\n",
                "    top = np.cumsum(dims_q)\n",
                "    bottom = [t - d for d, t in zip(dims_q, top)]\n",
                "    data_qubits = Qubits([qc.qubits[b:t] for b, t, in zip(bottom, top)])\n",
                "    \n",
                "    kernel_qubits, n = Qubits(), data_qubits.total\n",
                "    for _ in range(num_layers):\n",
                "        for fq in kernel_q:\n",
                "            kernel_qubits += [qc.qubits[n : n + fq]]\n",
                "            n += fq\n",
                "\n",
                "    n = data_qubits.total + kernel_qubits.total\n",
                "    feature_qubits = Qubits(qc.qubits[n:n + features_q])\n",
                "\n",
                "    n += features_q\n",
                "    class_qubits = Qubits(qc.qubits[n : n + classes_q])\n",
                "    \n",
                "    ancilla = qc.qubits[-1]\n",
                "\n",
                "    qc.h(Qubits(kernel_qubits + feature_qubits + class_qubits).flatten())\n",
                "    for i in range(num_layers):\n",
                "        kernel_qubits_i = Qubits(kernel_qubits[i*sum(kernel_q): (i+1)*sum(kernel_q)])\n",
                "        convolution(qc, data_qubits, kernel_qubits_i, feature_qubits, ancilla)\n",
                "        \n",
                "        for j, fq in enumerate(kernel_q):\n",
                "            data_qubits[j] = data_qubits[j][fq:]\n",
                "        \n",
                "        # qc.barrier()\n",
                "        \n",
                "    mac(qc, data_qubits.flatten() + feature_qubits.flatten(), class_qubits.flatten())\n",
                "\n",
                "    return qc\n",
                "\n",
                "qc = mqcc(\n",
                "    dims=dims,\n",
                "    kernel=kernel,\n",
                "    num_features=num_features,\n",
                "    num_classes=num_classes,\n",
                "    num_layers=num_layers,\n",
                ")\n",
                "# display(qc.draw('mpl', reverse_bits=True))\n",
                "\n",
                "qc = transpile(qc, basis_gates=[\"u\", \"cx\"], optimization_level=3)\n",
                "qc.depth(), sum(qc.count_ops().values())\n"
            ]
        },
        {
            "cell_type": "code",
            "execution_count": 13,
            "metadata": {},
            "outputs": [
                {
                    "ename": "UnboundLocalError",
                    "evalue": "cannot access local variable 'kernel_qubits' where it is not associated with a value",
                    "output_type": "error",
                    "traceback": [
                        "\u001b[0;31m---------------------------------------------------------------------------\u001b[0m",
                        "\u001b[0;31mUnboundLocalError\u001b[0m                         Traceback (most recent call last)",
                        "\u001b[1;32m/Users/mingyoungjeng/Documents/Spring 2023.nosync/quantum-convolutional-classifier/docs/convolution_depth.ipynb Cell 19\u001b[0m line \u001b[0;36m3\n\u001b[1;32m     <a href='vscode-notebook-cell:/Users/mingyoungjeng/Documents/Spring%202023.nosync/quantum-convolutional-classifier/docs/convolution_depth.ipynb#X24sZmlsZQ%3D%3D?line=33'>34</a>\u001b[0m     mac(qc, data_qubits\u001b[39m.\u001b[39mflatten() \u001b[39m+\u001b[39m feature_qubits\u001b[39m.\u001b[39mflatten(), class_qubits\u001b[39m.\u001b[39mflatten())\n\u001b[1;32m     <a href='vscode-notebook-cell:/Users/mingyoungjeng/Documents/Spring%202023.nosync/quantum-convolutional-classifier/docs/convolution_depth.ipynb#X24sZmlsZQ%3D%3D?line=35'>36</a>\u001b[0m     \u001b[39mreturn\u001b[39;00m qc\n\u001b[0;32m---> <a href='vscode-notebook-cell:/Users/mingyoungjeng/Documents/Spring%202023.nosync/quantum-convolutional-classifier/docs/convolution_depth.ipynb#X24sZmlsZQ%3D%3D?line=37'>38</a>\u001b[0m qc \u001b[39m=\u001b[39m mqcc_optimized(\n\u001b[1;32m     <a href='vscode-notebook-cell:/Users/mingyoungjeng/Documents/Spring%202023.nosync/quantum-convolutional-classifier/docs/convolution_depth.ipynb#X24sZmlsZQ%3D%3D?line=38'>39</a>\u001b[0m     dims\u001b[39m=\u001b[39;49mdims,\n\u001b[1;32m     <a href='vscode-notebook-cell:/Users/mingyoungjeng/Documents/Spring%202023.nosync/quantum-convolutional-classifier/docs/convolution_depth.ipynb#X24sZmlsZQ%3D%3D?line=39'>40</a>\u001b[0m     fltr\u001b[39m=\u001b[39;49mfltr,\n\u001b[1;32m     <a href='vscode-notebook-cell:/Users/mingyoungjeng/Documents/Spring%202023.nosync/quantum-convolutional-classifier/docs/convolution_depth.ipynb#X24sZmlsZQ%3D%3D?line=40'>41</a>\u001b[0m     num_features\u001b[39m=\u001b[39;49mnum_features,\n\u001b[1;32m     <a href='vscode-notebook-cell:/Users/mingyoungjeng/Documents/Spring%202023.nosync/quantum-convolutional-classifier/docs/convolution_depth.ipynb#X24sZmlsZQ%3D%3D?line=41'>42</a>\u001b[0m     num_classes\u001b[39m=\u001b[39;49mnum_classes,\n\u001b[1;32m     <a href='vscode-notebook-cell:/Users/mingyoungjeng/Documents/Spring%202023.nosync/quantum-convolutional-classifier/docs/convolution_depth.ipynb#X24sZmlsZQ%3D%3D?line=42'>43</a>\u001b[0m     num_layers\u001b[39m=\u001b[39;49mnum_layers,\n\u001b[1;32m     <a href='vscode-notebook-cell:/Users/mingyoungjeng/Documents/Spring%202023.nosync/quantum-convolutional-classifier/docs/convolution_depth.ipynb#X24sZmlsZQ%3D%3D?line=43'>44</a>\u001b[0m )\n\u001b[1;32m     <a href='vscode-notebook-cell:/Users/mingyoungjeng/Documents/Spring%202023.nosync/quantum-convolutional-classifier/docs/convolution_depth.ipynb#X24sZmlsZQ%3D%3D?line=44'>45</a>\u001b[0m \u001b[39m# display(qc.draw('mpl', reverse_bits=True))\u001b[39;00m\n\u001b[1;32m     <a href='vscode-notebook-cell:/Users/mingyoungjeng/Documents/Spring%202023.nosync/quantum-convolutional-classifier/docs/convolution_depth.ipynb#X24sZmlsZQ%3D%3D?line=46'>47</a>\u001b[0m qc \u001b[39m=\u001b[39m transpile(qc, basis_gates\u001b[39m=\u001b[39m[\u001b[39m\"\u001b[39m\u001b[39mu\u001b[39m\u001b[39m\"\u001b[39m, \u001b[39m\"\u001b[39m\u001b[39mcx\u001b[39m\u001b[39m\"\u001b[39m], optimization_level\u001b[39m=\u001b[39m\u001b[39m3\u001b[39m)\n",
                        "\u001b[1;32m/Users/mingyoungjeng/Documents/Spring 2023.nosync/quantum-convolutional-classifier/docs/convolution_depth.ipynb Cell 19\u001b[0m line \u001b[0;36m2\n\u001b[1;32m     <a href='vscode-notebook-cell:/Users/mingyoungjeng/Documents/Spring%202023.nosync/quantum-convolutional-classifier/docs/convolution_depth.ipynb#X24sZmlsZQ%3D%3D?line=19'>20</a>\u001b[0m class_qubits \u001b[39m=\u001b[39m Qubits(qc\u001b[39m.\u001b[39mqubits[n : n \u001b[39m+\u001b[39m classes_q])\n\u001b[1;32m     <a href='vscode-notebook-cell:/Users/mingyoungjeng/Documents/Spring%202023.nosync/quantum-convolutional-classifier/docs/convolution_depth.ipynb#X24sZmlsZQ%3D%3D?line=20'>21</a>\u001b[0m ancilla \u001b[39m=\u001b[39m qc\u001b[39m.\u001b[39mqubits[\u001b[39m-\u001b[39m\u001b[39m1\u001b[39m]\n\u001b[0;32m---> <a href='vscode-notebook-cell:/Users/mingyoungjeng/Documents/Spring%202023.nosync/quantum-convolutional-classifier/docs/convolution_depth.ipynb#X24sZmlsZQ%3D%3D?line=22'>23</a>\u001b[0m qc\u001b[39m.\u001b[39mh(Qubits(kernel_qubits \u001b[39m+\u001b[39m feature_qubits \u001b[39m+\u001b[39m class_qubits)\u001b[39m.\u001b[39mflatten())\n\u001b[1;32m     <a href='vscode-notebook-cell:/Users/mingyoungjeng/Documents/Spring%202023.nosync/quantum-convolutional-classifier/docs/convolution_depth.ipynb#X24sZmlsZQ%3D%3D?line=23'>24</a>\u001b[0m \u001b[39mfor\u001b[39;00m i \u001b[39min\u001b[39;00m \u001b[39mrange\u001b[39m(num_layers):\n\u001b[1;32m     <a href='vscode-notebook-cell:/Users/mingyoungjeng/Documents/Spring%202023.nosync/quantum-convolutional-classifier/docs/convolution_depth.ipynb#X24sZmlsZQ%3D%3D?line=24'>25</a>\u001b[0m     kernel_qubits \u001b[39m=\u001b[39m Qubits()\n",
                        "\u001b[0;31mUnboundLocalError\u001b[0m: cannot access local variable 'kernel_qubits' where it is not associated with a value"
                    ]
                }
            ],
            "source": [
                "from qiskit import transpile\n",
                "\n",
                "def mqcc_optimized(dims: list[int], kernel: list[int], num_features: int = 1, num_classes: int = 2, num_layers: int = 1):\n",
                "\n",
                "    dims_q = [to_qubits(x) for x in dims]\n",
                "    kernel_q = [to_qubits(x) for x in kernel]\n",
                "    features_q = to_qubits(num_features)\n",
                "    classes_q = to_qubits(num_classes)\n",
                "\n",
                "    qc = QuantumCircuit(sum(dims_q) + features_q + classes_q + 1)\n",
                "\n",
                "    top = np.cumsum(dims_q)\n",
                "    bottom = [t - d for d, t in zip(dims_q, top)]\n",
                "    data_qubits = Qubits([qc.qubits[b:t] for b, t, in zip(bottom, top)])\n",
                "\n",
                "    n = data_qubits.total\n",
                "    feature_qubits = Qubits(qc.qubits[n:n + features_q])\n",
                "\n",
                "    n += features_q\n",
                "    class_qubits = Qubits(qc.qubits[n : n + classes_q])\n",
                "    ancilla = qc.qubits[-1]\n",
                "\n",
                "    qc.h(Qubits(kernel_qubits + feature_qubits + class_qubits).flatten())\n",
                "    for i in range(num_layers):\n",
                "        kernel_qubits = Qubits()\n",
                "        for j, fq in enumerate(kernel_q):\n",
                "            kernel_qubits += [data_qubits[j][:fq]]\n",
                "            data_qubits[j] = data_qubits[j][fq:]\n",
                "\n",
                "        convolution(qc, data_qubits, kernel_qubits, feature_qubits, ancilla)\n",
                "        \n",
                "        # qc.barrier()\n",
                "        \n",
                "    mac(qc, data_qubits.flatten() + feature_qubits.flatten(), class_qubits.flatten())\n",
                "\n",
                "    return qc\n",
                "\n",
                "qc = mqcc_optimized(\n",
                "    dims=dims,\n",
                "    kernel=kernel,\n",
                "    num_features=num_features,\n",
                "    num_classes=num_classes,\n",
                "    num_layers=num_layers,\n",
                ")\n",
                "# display(qc.draw('mpl', reverse_bits=True))\n",
                "\n",
                "qc = transpile(qc, basis_gates=[\"u\", \"cx\"], optimization_level=3)\n",
                "qc.depth(), sum(qc.count_ops().values())\n"
            ]
        }
    ],
    "metadata": {
        "kernelspec": {
            "display_name": "Python 3",
            "language": "python",
            "name": "python3"
        },
        "language_info": {
            "codemirror_mode": {
                "name": "ipython",
                "version": 3
            },
            "file_extension": ".py",
            "mimetype": "text/x-python",
            "name": "python",
            "nbconvert_exporter": "python",
            "pygments_lexer": "ipython3",
            "version": "3.11.6"
        },
        "orig_nbformat": 4
    },
    "nbformat": 4,
    "nbformat_minor": 2
}
