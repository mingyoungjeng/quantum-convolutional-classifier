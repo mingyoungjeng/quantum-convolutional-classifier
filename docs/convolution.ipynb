{
    "cells": [
        {
            "cell_type": "code",
            "execution_count": null,
            "metadata": {},
            "outputs": [],
            "source": [
                "from pathlib import Path\n",
                "from PIL import Image\n",
                "import numpy as np\n",
                "from sympy import Matrix\n",
                "\n",
                "filename = Path(\"../img/color/Jayhawk_512x512.jpg\")\n",
                "\n",
                "with Image.open(filename, \"r\") as im:\n",
                "    display(im)\n",
                "\n",
                "# True for noisy execution, False for noiseless execution\n",
                "noisy_execution = False\n",
                "draw_qc = True"
            ]
        },
        {
            "cell_type": "code",
            "execution_count": null,
            "metadata": {},
            "outputs": [],
            "source": [
                "def display_quantum_circuit(qc):\n",
                "    if draw_qc:\n",
                "        display(qc.draw('mpl', reverse_bits=True))"
            ]
        },
        {
            "cell_type": "code",
            "execution_count": null,
            "metadata": {},
            "outputs": [],
            "source": [
                "from qcc.filters import *\n",
                "\n",
                "stride = 1\n",
                "num_layers = 2\n",
                "# fltr_raw = avg_filter(2, dim = 2)\n",
                "# fltr_raw = sobel_filter(3, axis=0)\n",
                "fltr_raw = laplacian_approx(3)\n",
                "# fltr_raw = gaussian_blur(5, 1.2)\n",
                "\n",
                "npad = tuple((0, 2 ** int(np.ceil(np.log2(N))) - N) for N in fltr_raw.shape)\n",
                "fltr = np.pad(fltr_raw, pad_width=npad, mode=\"constant\", constant_values=0)\n",
                "\n",
                "x = np.min(np.abs(fltr_raw))\n",
                "F = fltr_raw / x\n",
                "print(x)\n",
                "Matrix(F)"
            ]
        },
        {
            "cell_type": "code",
            "execution_count": null,
            "metadata": {},
            "outputs": [],
            "source": [
                "from qcc.quantum import flatten_image, normalize, wires_to_qubits, to_qubits\n",
                "import pennylane as qml\n",
                "\n",
                "psi, *dims = flatten_image(filename, pad=True)\n",
                "psi, mag = normalize(psi, include_magnitude=True)\n",
                "\n",
                "_, fltr_mag = normalize(fltr.flatten(order=\"F\"), include_magnitude=True)\n",
                "fltr /= fltr_mag\n",
                "\n",
                "num_states = 2**sum(to_qubits(dims))\n",
                "num_ancilla = sum(to_qubits(fltr.shape))"
            ]
        },
        {
            "cell_type": "code",
            "execution_count": null,
            "metadata": {},
            "outputs": [],
            "source": [
                "from pennylane.templates import AmplitudeEmbedding\n",
                "from qcc.quantum.operation import Convolution\n",
                "from qcc.quantum.operation.ansatz.convolution.v1 import ConvolutionAnsatz\n",
                "\n",
                "module = ConvolutionAnsatz.from_dims(dims, num_layers=1)\n",
                "\n",
                "ansatz.draw(decompose=True)"
            ]
        },
        {
            "cell_type": "code",
            "execution_count": null,
            "metadata": {},
            "outputs": [],
            "source": [
                "psi_out = np.sqrt(ansatz.qnode(psi, fltr.flatten()))"
            ]
        },
        {
            "cell_type": "code",
            "execution_count": null,
            "metadata": {},
            "outputs": [],
            "source": [
                "from qcc.quantum import construct_img\n",
                "\n",
                "i = 0\n",
                "img = psi_out.numpy()[i*num_states:(i+1)*num_states]\n",
                "norm = mag * fltr_mag * np.sqrt(2**num_ancilla)\n",
                "img = construct_img(norm*img, dims)\n",
                "img.save(\"output.png\")\n",
                "\n",
                "display(img)"
            ]
        },
        {
            "cell_type": "code",
            "execution_count": null,
            "metadata": {},
            "outputs": [],
            "source": [
                "from qcc.filters import convolution\n",
                "\n",
                "with Image.open(filename, \"r\") as im:\n",
                "    image_data = np.asarray(im, dtype=float)\n",
                "\n",
                "classical_img = convolution(image_data, fltr_raw)\n",
                "classical_img = Image.fromarray(classical_img.astype(np.uint8))\n",
                "display(classical_img)\n",
                "classical_img.save(\"output_classical.png\")"
            ]
        },
        {
            "cell_type": "code",
            "execution_count": null,
            "metadata": {},
            "outputs": [],
            "source": [
                "from qcc.quantum import get_fidelity\n",
                "\n",
                "fid = get_fidelity(np.asarray(classical_img).flatten(), np.asarray(img).flatten())\n",
                "\n",
                "print(f\"Fidelity: {fid:.03%}\")"
            ]
        }
    ],
    "metadata": {
        "kernelspec": {
            "display_name": "base",
            "language": "python",
            "name": "python3"
        },
        "language_info": {
            "codemirror_mode": {
                "name": "ipython",
                "version": 3
            },
            "file_extension": ".py",
            "mimetype": "text/x-python",
            "name": "python",
            "nbconvert_exporter": "python",
            "pygments_lexer": "ipython3",
            "version": "3.10.9"
        },
        "orig_nbformat": 4
    },
    "nbformat": 4,
    "nbformat_minor": 2
}
