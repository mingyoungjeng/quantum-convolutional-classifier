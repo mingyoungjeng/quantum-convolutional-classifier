{
 "cells": [
  {
   "cell_type": "code",
   "execution_count": null,
   "metadata": {},
   "outputs": [],
   "source": [
    "from pathlib import Path\n",
    "\n",
    "# filename = \"Fidelity of 2-D Convolution Kernels<br>on BW Images (Unity Stride, 1,000,000 shots)\"\n",
    "# filename = \"Fidelity of 2-D Convolution Kernels<br>on RGB Images (Unity Stride, 1,000,000 shots)\"\n",
    "# filename = \"Fidelity of 2-D Average Pooling<br>on RGB Images (Noise-free)\"\n",
    "# filename = \"Fidelity of 2-D Euclidean Pooling<br>on RGB Images (Noise-free)\"\n",
    "# filename = \"Fidelity of 2-D Average Pooling<br>on RGB Images (32,000 shots)\"\n",
    "# filename = \"Fidelity of 2-D Euclidean Pooling<br>on RGB Images (32,000 shots)\"\n",
    "# filename = \"Fidelity of 2-D Average Pooling<br>on RGB Images (1,000,000 shots)\"\n",
    "filename = \"Fidelity of 2-D Euclidean Pooling<br>on RGB Images (1,000,000 shots)\"\n",
    "\n",
    "# filename = \"Circuit depth of quantum convolution applying<br>2-D kernels to a (512x512x3) image\"\n",
    "# filename = \"Circuit depth of quantum convolution applying<br>a (3x3) kernel to 3-D data\"\n",
    "\n",
    "path = Path(f\"/Users/mingyoungjeng/Downloads/figures_thesis/{filename}\")\n",
    "\n",
    "glob = \"**/*.csv\"\n"
   ]
  },
  {
   "cell_type": "code",
   "execution_count": null,
   "metadata": {},
   "outputs": [],
   "source": [
    "from fnmatch import fnmatch\n",
    "from polars import DataFrame, read_csv\n",
    "\n",
    "# if path.is_dir():\n",
    "#     dfs = [read_csv(file) for file in path.glob(glob)]\n",
    "# else:\n",
    "#     if fnmatch(path, glob):\n",
    "#         df = read_csv(path)\n",
    "\n",
    "dfs = tuple(read_csv(file) for file in path.glob(glob))\n",
    "kwargs = [dict(name=file.stem) for file in path.glob(glob)]\n",
    "title = path.stem\n"
   ]
  },
  {
   "cell_type": "code",
   "execution_count": null,
   "metadata": {},
   "outputs": [],
   "source": [
    "from qcc.graph import process_dataframe\n",
    "import numpy as np\n",
    "\n",
    "dfs = [process_dataframe(df, as_plotly=True) if len(df.columns) > 1 else dict(y=list(df[df.columns[0]])) for df in dfs]\n",
    "\n",
    "for df, kwarg in zip(dfs, kwargs):\n",
    "    df.update(kwarg)\n",
    "    df.update(x=np.log2(df[\"x\"]))\n"
   ]
  },
  {
   "cell_type": "code",
   "execution_count": null,
   "metadata": {},
   "outputs": [],
   "source": [
    "from qcc.graph import plot\n",
    "\n",
    "dfs[:] = sorted(dfs, key=lambda x: x.get(\"name\", \"\"))\n",
    "# dfs[:] = [dfs[i] for i in [0, 1, 2, 3, 6, 7, 4, 5]]\n",
    "    \n",
    "kwargs = dict(title=title)\n",
    "kwargs.update(ylabel=\"Fidelity\", xlabel=\"Number of Qubits (n)\", yaxis_tickformat= ',.0%')\n",
    "# kwargs.update(ylabel=\"Circuit depth\", xlabel=\"Number of kernel qubits (n<sub>k</sub>)\", xaxis_dtick=2)\n",
    "# kwargs.update(ylabel=\"Circuit depth\", xlabel=\"Number of data qubits (n)\", xaxis_dtick=4)\n",
    "\n",
    "# kwargs.update(yaxis_range = [0, 1], legend=(0.05, 0.6))\n",
    "kwargs.update(yaxis_range = [0, 1], legend=(0.03, 0.58))\n",
    "# kwargs.update(xaxis_type=\"log\", xaxis_dtick=0.30102999566, margin_b=128)\n",
    "# kwargs.update(yaxis_type=\"log\", yaxis_dtick=0.30102999566, margin_l=128, title_x = (88 + ((600 - 88) / 2)) / 600)\n"
   ]
  },
  {
   "cell_type": "code",
   "execution_count": null,
   "metadata": {},
   "outputs": [],
   "source": [
    "fig = plot(*dfs, **kwargs)\n",
    "fig.show()\n"
   ]
  },
  {
   "cell_type": "code",
   "execution_count": null,
   "metadata": {},
   "outputs": [],
   "source": [
    "fig.write_image(f\"{filename}.png\", scale=3)\n"
   ]
  }
 ],
 "metadata": {
  "kernelspec": {
   "display_name": "Python 3",
   "language": "python",
   "name": "python3"
  },
  "language_info": {
   "codemirror_mode": {
    "name": "ipython",
    "version": 3
   },
   "file_extension": ".py",
   "mimetype": "text/x-python",
   "name": "python",
   "nbconvert_exporter": "python",
   "pygments_lexer": "ipython3",
   "version": "3.11.6"
  }
 },
 "nbformat": 4,
 "nbformat_minor": 2
}
