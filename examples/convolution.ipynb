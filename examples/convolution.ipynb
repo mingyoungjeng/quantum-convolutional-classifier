{
    "cells": [
        {
            "cell_type": "code",
            "execution_count": null,
            "metadata": {},
            "outputs": [],
            "source": [
                "from pathlib import Path\n",
                "from PIL import Image\n",
                "import numpy as np\n",
                "from sympy import Matrix\n",
                "\n",
                "filename = Path(\"../img/color/Jayhawk_64x64x3.jpg\")\n",
                "\n",
                "with Image.open(filename, \"r\") as im:\n",
                "    display(im)\n",
                "\n",
                "# True for noisy execution, False for noiseless execution\n",
                "noisy_execution = False\n",
                "draw_qc = True\n"
            ]
        },
        {
            "cell_type": "code",
            "execution_count": null,
            "metadata": {},
            "outputs": [],
            "source": [
                "def display_quantum_circuit(qc):\n",
                "    if draw_qc:\n",
                "        display(qc.draw('mpl', reverse_bits=True))\n",
                "        \n",
                "def display_matrix(matrix):\n",
                "    try:\n",
                "        display(Matrix(matrix))\n",
                "    except:\n",
                "        print(matrix)\n"
            ]
        },
        {
            "cell_type": "code",
            "execution_count": null,
            "metadata": {},
            "outputs": [],
            "source": [
                "from qcc.filters import *\n",
                "\n",
                "stride = 1\n",
                "# kernel_raw = avg_filter(3, dim = 2)\n",
                "# kernel_raw = sobel_filter(3, axis=0)\n",
                "kernel_raw = laplacian_approx(3)\n",
                "# kernel_raw = gaussian_blur(3)\n",
                "\n",
                "npad = tuple((0, 2 ** int(np.ceil(np.log2(N))) - N) for N in kernel_raw.shape)\n",
                "kernel = np.pad(kernel_raw, pad_width=npad, mode=\"constant\", constant_values=0)\n",
                "kernel_mag = np.linalg.norm(kernel)\n",
                "\n",
                "display_matrix(kernel)\n"
            ]
        },
        {
            "cell_type": "code",
            "execution_count": null,
            "metadata": {},
            "outputs": [],
            "source": [
                "from qcc.quantum import flatten_image, normalize, to_qubits\n",
                "from qcc.filters import update_dims\n",
                "\n",
                "psi, *dims = flatten_image(filename, pad=True)\n",
                "psi, mag = normalize(psi, include_magnitude=True)\n",
                "\n",
                "dims_q = [to_qubits(x) for x in dims]\n",
                "dims_out = update_dims(dims, kernel_size=kernel_raw.shape, stride=stride)\n",
                "\n",
                "num_qubits = sum(dims_q)\n",
                "num_states = 2**num_qubits\n",
                "\n",
                "print(dims_out, mag)\n"
            ]
        },
        {
            "cell_type": "code",
            "execution_count": null,
            "metadata": {},
            "outputs": [],
            "source": [
                "from qiskit import QuantumCircuit\n",
                "from qiskit.quantum_info.operators import Operator\n",
                "\n",
                "kernel_shape_q = [int(np.ceil(np.log2(filter_size))) for filter_size in kernel.shape]\n",
                "num_ancilla = sum(kernel_shape_q)\n",
                "total_qubits = num_qubits + num_ancilla\n",
                "\n",
                "qc = QuantumCircuit(total_qubits)\n",
                "qc.initialize(psi, qc.qubits[:-num_ancilla])\n",
                "\n",
                "display_quantum_circuit(qc)\n"
            ]
        },
        {
            "cell_type": "code",
            "execution_count": null,
            "metadata": {},
            "outputs": [],
            "source": [
                "from qcc.quantum.qiskit.convolution import Convolution\n",
                "\n",
                "qc.compose(Convolution(dims, kernel), inplace=True)\n",
                "display_quantum_circuit(qc.decompose(Convolution))"
            ]
        },
        {
            "cell_type": "code",
            "execution_count": null,
            "metadata": {},
            "outputs": [],
            "source": [
                "from qiskit import Aer, execute\n",
                "from qiskit.tools import job_monitor\n",
                "from qcc.quantum import from_counts\n",
                "\n",
                "backend = Aer.get_backend('aer_simulator')\n",
                "shots = backend.configuration().max_shots\n",
                "\n",
                "if noisy_execution:\n",
                "    qc.measure_all()\n",
                "else:\n",
                "    qc.save_statevector()\n",
                "\n",
                "job = execute(qc, backend=backend, shots=shots)\n",
                "job_monitor(job)\n",
                "\n",
                "result = job.result()\n",
                "\n",
                "if noisy_execution:\n",
                "    counts = result.get_counts(qc)\n",
                "    psi_out = from_counts(counts, shots=shots, num_qubits=total_qubits)\n",
                "else:\n",
                "    psi_out = result.get_statevector(qc).data\n"
            ]
        },
        {
            "cell_type": "code",
            "execution_count": null,
            "metadata": {},
            "outputs": [],
            "source": [
                "from qcc.quantum import reconstruct\n",
                "\n",
                "i = 0\n",
                "img = psi_out.data[i*num_states:(i+1)*num_states]\n",
                "norm = mag * kernel_mag * np.sqrt(2**num_ancilla)\n",
                "\n",
                "print(min(np.abs(norm*img)), max(np.abs(norm*img)))\n",
                "\n",
                "img = reconstruct(norm*img, dims, dims_out)\n",
                "img = Image.fromarray(np.abs(img).astype(np.uint8))\n",
                "img.save(\"output.png\")\n",
                "\n",
                "display(img)\n"
            ]
        },
        {
            "attachments": {},
            "cell_type": "markdown",
            "metadata": {},
            "source": [
                "### Classical Results"
            ]
        },
        {
            "cell_type": "code",
            "execution_count": null,
            "metadata": {},
            "outputs": [],
            "source": [
                "display_matrix(kernel_raw)\n"
            ]
        },
        {
            "cell_type": "code",
            "execution_count": null,
            "metadata": {},
            "outputs": [],
            "source": [
                "with Image.open(filename, \"r\") as im:\n",
                "    image_data = np.asarray(im, dtype=float)\n",
                "\n",
                "classical_img = convolution(image_data, kernel_raw, stride=stride)\n",
                "\n",
                "print(classical_img.shape, min(classical_img.flatten()), max(classical_img.flatten()))\n",
                "\n",
                "classical_img = classical_img.astype(np.uint8)\n",
                "classical_img = Image.fromarray(classical_img)\n",
                "display(classical_img)\n",
                "classical_img.save(\"output_classical.png\")\n"
            ]
        },
        {
            "cell_type": "code",
            "execution_count": null,
            "metadata": {},
            "outputs": [],
            "source": [
                "from qcc.quantum import get_fidelity\n",
                "\n",
                "fid = get_fidelity(np.asarray(classical_img).flatten(), np.asarray(img).flatten())\n",
                "\n",
                "print(f\"Fidelity: {fid:.03%}\")\n"
            ]
        }
    ],
    "metadata": {
        "kernelspec": {
            "display_name": "base",
            "language": "python",
            "name": "python3"
        },
        "language_info": {
            "codemirror_mode": {
                "name": "ipython",
                "version": 3
            },
            "file_extension": ".py",
            "mimetype": "text/x-python",
            "name": "python",
            "nbconvert_exporter": "python",
            "pygments_lexer": "ipython3",
            "version": "3.11.6"
        },
        "orig_nbformat": 4
    },
    "nbformat": 4,
    "nbformat_minor": 2
}
