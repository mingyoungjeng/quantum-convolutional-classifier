{
 "cells": [
  {
   "cell_type": "code",
   "execution_count": null,
   "metadata": {},
   "outputs": [],
   "source": [
    "import pennylane as qml\n",
    "\n",
    "num_qubits = 3\n",
    "dev = qml.device('default.qubit', wires=num_qubits)"
   ]
  },
  {
   "cell_type": "code",
   "execution_count": null,
   "metadata": {},
   "outputs": [],
   "source": [
    "@qml.qnode(dev)\n",
    "def ansatz_conv():\n",
    "    pass\n",
    "\n",
    "fig, _ = qml.draw_mpl(ansatz_conv)()"
   ]
  },
  {
   "cell_type": "code",
   "execution_count": null,
   "metadata": {},
   "outputs": [],
   "source": [
    "@qml.qnode(dev)\n",
    "def ansatz_pool():\n",
    "    pass\n",
    "\n",
    "fig, _ = qml.draw_mpl(ansatz_pool)()"
   ]
  },
  {
   "cell_type": "code",
   "execution_count": null,
   "metadata": {},
   "outputs": [],
   "source": [
    "@qml.qnode(dev)\n",
    "def convolution():\n",
    "    pass\n",
    "\n",
    "fig, _ = qml.draw_mpl(convolution)()"
   ]
  },
  {
   "cell_type": "code",
   "execution_count": null,
   "metadata": {},
   "outputs": [],
   "source": [
    "@qml.qnode(dev)\n",
    "def pooling():\n",
    "    pass\n",
    "\n",
    "fig, _ = qml.draw_mpl(pooling)()"
   ]
  },
  {
   "cell_type": "code",
   "execution_count": null,
   "metadata": {},
   "outputs": [],
   "source": [
    "@qml.qnode(dev)\n",
    "def qcnn(psi_in):\n",
    "    qml.AmplitudeEmbedding(features=psi_in, \n",
    "                           wires=range(num_qubits), \n",
    "                           pad_with=0.0, \n",
    "                           normalize=True)\n",
    "    return [qml.expval(qml.PauliZ(i)) for i in range(num_qubits)] \n",
    "\n",
    "fig, _ = qml.draw_mpl(qcnn)([1])"
   ]
  }
 ],
 "metadata": {
  "kernelspec": {
   "display_name": "Python 3",
   "language": "python",
   "name": "python3"
  },
  "language_info": {
   "codemirror_mode": {
    "name": "ipython",
    "version": 3
   },
   "file_extension": ".py",
   "mimetype": "text/x-python",
   "name": "python",
   "nbconvert_exporter": "python",
   "pygments_lexer": "ipython3",
   "version": "3.10.9"
  },
  "orig_nbformat": 4,
  "vscode": {
   "interpreter": {
    "hash": "c7967d85baf232544f00baec60c53642b018367ac4c489b1a4dde60b922cc6fa"
   }
  }
 },
 "nbformat": 4,
 "nbformat_minor": 2
}
